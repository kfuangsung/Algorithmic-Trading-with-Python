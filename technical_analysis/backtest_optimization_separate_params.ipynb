{
 "cells": [
  {
   "cell_type": "code",
   "execution_count": 1,
   "id": "c791aee0",
   "metadata": {
    "ExecuteTime": {
     "end_time": "2022-07-31T12:04:33.124142Z",
     "start_time": "2022-07-31T12:04:31.711301Z"
    }
   },
   "outputs": [],
   "source": [
    "import sys \n",
    "import os  \n",
    "import json\n",
    "import datetime as dt \n",
    "import pandas as pd \n",
    "import numpy as np \n",
    "import talib\n",
    "import sqlite3 as sql\n",
    "from itertools import repeat\n",
    "from p_tqdm import p_umap\n",
    "sys.path.append('../')\n",
    "from backtester import * \n",
    "from fxcmtoken import my_assets"
   ]
  },
  {
   "cell_type": "code",
   "execution_count": 2,
   "id": "9345bfc4",
   "metadata": {
    "ExecuteTime": {
     "end_time": "2022-07-31T12:04:33.130752Z",
     "start_time": "2022-07-31T12:04:33.126457Z"
    }
   },
   "outputs": [
    {
     "name": "stdout",
     "output_type": "stream",
     "text": [
      "0 EUR/USD\n",
      "1 USD/JPY\n",
      "2 GBP/USD\n",
      "3 USD/CHF\n",
      "4 AUD/USD\n",
      "5 USD/CAD\n",
      "6 NZD/USD\n",
      "7 AUS200\n",
      "8 ESP35\n",
      "9 EUSTX50\n",
      "10 FRA40\n",
      "11 GER30\n",
      "12 HKG33\n",
      "13 JPN225\n",
      "14 NAS100\n",
      "15 SPX500\n",
      "16 UK100\n",
      "17 US30\n",
      "18 Copper\n",
      "19 NGAS\n",
      "20 UKOil\n",
      "21 USOil\n",
      "22 XAU/USD\n",
      "23 XAG/USD\n"
     ]
    }
   ],
   "source": [
    "for i, a in enumerate(my_assets):\n",
    "    print(i, a)"
   ]
  },
  {
   "cell_type": "code",
   "execution_count": 3,
   "id": "7597b3c8",
   "metadata": {
    "ExecuteTime": {
     "end_time": "2022-07-31T12:04:34.613120Z",
     "start_time": "2022-07-31T12:04:34.356654Z"
    }
   },
   "outputs": [
    {
     "name": "stdout",
     "output_type": "stream",
     "text": [
      "EUR/USD\n"
     ]
    },
    {
     "data": {
      "text/html": [
       "<div>\n",
       "<style scoped>\n",
       "    .dataframe tbody tr th:only-of-type {\n",
       "        vertical-align: middle;\n",
       "    }\n",
       "\n",
       "    .dataframe tbody tr th {\n",
       "        vertical-align: top;\n",
       "    }\n",
       "\n",
       "    .dataframe thead th {\n",
       "        text-align: right;\n",
       "    }\n",
       "</style>\n",
       "<table border=\"1\" class=\"dataframe\">\n",
       "  <thead>\n",
       "    <tr style=\"text-align: right;\">\n",
       "      <th></th>\n",
       "      <th>bidopen</th>\n",
       "      <th>bidclose</th>\n",
       "      <th>bidhigh</th>\n",
       "      <th>bidlow</th>\n",
       "      <th>askopen</th>\n",
       "      <th>askclose</th>\n",
       "      <th>askhigh</th>\n",
       "      <th>asklow</th>\n",
       "      <th>tickqty</th>\n",
       "      <th>open</th>\n",
       "      <th>close</th>\n",
       "      <th>high</th>\n",
       "      <th>low</th>\n",
       "    </tr>\n",
       "    <tr>\n",
       "      <th>date</th>\n",
       "      <th></th>\n",
       "      <th></th>\n",
       "      <th></th>\n",
       "      <th></th>\n",
       "      <th></th>\n",
       "      <th></th>\n",
       "      <th></th>\n",
       "      <th></th>\n",
       "      <th></th>\n",
       "      <th></th>\n",
       "      <th></th>\n",
       "      <th></th>\n",
       "      <th></th>\n",
       "    </tr>\n",
       "  </thead>\n",
       "  <tbody>\n",
       "    <tr>\n",
       "      <th>2022-07-29 16:00:00</th>\n",
       "      <td>1.02007</td>\n",
       "      <td>1.01963</td>\n",
       "      <td>1.02102</td>\n",
       "      <td>1.01765</td>\n",
       "      <td>1.02021</td>\n",
       "      <td>1.01975</td>\n",
       "      <td>1.02117</td>\n",
       "      <td>1.01778</td>\n",
       "      <td>14702</td>\n",
       "      <td>1.020140</td>\n",
       "      <td>1.019690</td>\n",
       "      <td>1.021095</td>\n",
       "      <td>1.017715</td>\n",
       "    </tr>\n",
       "    <tr>\n",
       "      <th>2022-07-29 17:00:00</th>\n",
       "      <td>1.01962</td>\n",
       "      <td>1.02091</td>\n",
       "      <td>1.02136</td>\n",
       "      <td>1.01930</td>\n",
       "      <td>1.01975</td>\n",
       "      <td>1.02107</td>\n",
       "      <td>1.02154</td>\n",
       "      <td>1.01942</td>\n",
       "      <td>9406</td>\n",
       "      <td>1.019685</td>\n",
       "      <td>1.020990</td>\n",
       "      <td>1.021450</td>\n",
       "      <td>1.019360</td>\n",
       "    </tr>\n",
       "    <tr>\n",
       "      <th>2022-07-29 18:00:00</th>\n",
       "      <td>1.02091</td>\n",
       "      <td>1.02193</td>\n",
       "      <td>1.02199</td>\n",
       "      <td>1.02060</td>\n",
       "      <td>1.02106</td>\n",
       "      <td>1.02207</td>\n",
       "      <td>1.02212</td>\n",
       "      <td>1.02073</td>\n",
       "      <td>8432</td>\n",
       "      <td>1.020985</td>\n",
       "      <td>1.022000</td>\n",
       "      <td>1.022055</td>\n",
       "      <td>1.020665</td>\n",
       "    </tr>\n",
       "    <tr>\n",
       "      <th>2022-07-29 19:00:00</th>\n",
       "      <td>1.02194</td>\n",
       "      <td>1.02203</td>\n",
       "      <td>1.02222</td>\n",
       "      <td>1.02118</td>\n",
       "      <td>1.02207</td>\n",
       "      <td>1.02215</td>\n",
       "      <td>1.02234</td>\n",
       "      <td>1.02131</td>\n",
       "      <td>8124</td>\n",
       "      <td>1.022005</td>\n",
       "      <td>1.022090</td>\n",
       "      <td>1.022280</td>\n",
       "      <td>1.021245</td>\n",
       "    </tr>\n",
       "    <tr>\n",
       "      <th>2022-07-29 20:00:00</th>\n",
       "      <td>1.02205</td>\n",
       "      <td>1.02254</td>\n",
       "      <td>1.02265</td>\n",
       "      <td>1.02160</td>\n",
       "      <td>1.02218</td>\n",
       "      <td>1.02279</td>\n",
       "      <td>1.02287</td>\n",
       "      <td>1.02177</td>\n",
       "      <td>4079</td>\n",
       "      <td>1.022115</td>\n",
       "      <td>1.022665</td>\n",
       "      <td>1.022760</td>\n",
       "      <td>1.021685</td>\n",
       "    </tr>\n",
       "  </tbody>\n",
       "</table>\n",
       "</div>"
      ],
      "text/plain": [
       "                     bidopen  bidclose  bidhigh   bidlow  askopen  askclose  \\\n",
       "date                                                                          \n",
       "2022-07-29 16:00:00  1.02007   1.01963  1.02102  1.01765  1.02021   1.01975   \n",
       "2022-07-29 17:00:00  1.01962   1.02091  1.02136  1.01930  1.01975   1.02107   \n",
       "2022-07-29 18:00:00  1.02091   1.02193  1.02199  1.02060  1.02106   1.02207   \n",
       "2022-07-29 19:00:00  1.02194   1.02203  1.02222  1.02118  1.02207   1.02215   \n",
       "2022-07-29 20:00:00  1.02205   1.02254  1.02265  1.02160  1.02218   1.02279   \n",
       "\n",
       "                     askhigh   asklow  tickqty      open     close      high  \\\n",
       "date                                                                           \n",
       "2022-07-29 16:00:00  1.02117  1.01778    14702  1.020140  1.019690  1.021095   \n",
       "2022-07-29 17:00:00  1.02154  1.01942     9406  1.019685  1.020990  1.021450   \n",
       "2022-07-29 18:00:00  1.02212  1.02073     8432  1.020985  1.022000  1.022055   \n",
       "2022-07-29 19:00:00  1.02234  1.02131     8124  1.022005  1.022090  1.022280   \n",
       "2022-07-29 20:00:00  1.02287  1.02177     4079  1.022115  1.022665  1.022760   \n",
       "\n",
       "                          low  \n",
       "date                           \n",
       "2022-07-29 16:00:00  1.017715  \n",
       "2022-07-29 17:00:00  1.019360  \n",
       "2022-07-29 18:00:00  1.020665  \n",
       "2022-07-29 19:00:00  1.021245  \n",
       "2022-07-29 20:00:00  1.021685  "
      ]
     },
     "execution_count": 3,
     "metadata": {},
     "output_type": "execute_result"
    }
   ],
   "source": [
    "freq = 'H1'\n",
    "conn = sql.connect(f'../PriceData/PriceData_{freq}.db')\n",
    "ticker = my_assets[0]\n",
    "print(ticker)\n",
    "data_sql = pd.read_sql(f\"SELECT * FROM '{ticker}'\", conn, parse_dates=['date'], index_col=['date'])\n",
    "for col in ['open', 'close', 'high', 'low']:\n",
    "    data_sql[col] = data_sql[['bid'+col, 'ask'+col]].mean(axis=1)\n",
    "conn.close()\n",
    "data_sql.tail()"
   ]
  },
  {
   "cell_type": "code",
   "execution_count": 4,
   "id": "55b86070",
   "metadata": {
    "ExecuteTime": {
     "end_time": "2022-07-31T12:04:35.457806Z",
     "start_time": "2022-07-31T12:04:35.431937Z"
    }
   },
   "outputs": [],
   "source": [
    "def get_mama_return(n_period, data, freq, split_date):\n",
    "    \n",
    "    data['ht'] = talib.HT_TRENDLINE(data.close)\n",
    "    data.dropna(axis=0, inplace=True)\n",
    "    data['mama'], data['fama'] = talib.MAMA(data.ht, fastlimit=n_period, slowlimit=n_period/10)\n",
    "    data.dropna(axis=0, inplace=True)\n",
    "    data['signals'] = np.where(data.mama > data.fama, 1, -1) \n",
    "    \n",
    "    train, test = (data.loc[pd.Timestamp(split_date)-dt.timedelta(days=7):pd.Timestamp(split_date)-dt.timedelta(days=1)] , \n",
    "                   data.loc[pd.Timestamp(split_date):])\n",
    "    \n",
    "    train_backtest = IterativeBacktester(data=train, signals=train.signals, freq=freq)\n",
    "    train_backtest.backtest(progress_bar=False)\n",
    "    \n",
    "    test_backtest = IterativeBacktester(data=test, signals=test.signals, freq=freq)\n",
    "    test_backtest.backtest(progress_bar=False)\n",
    "\n",
    "    return n_period, train_backtest.return_df.loc['TotalReturn', 'Portfolio'], test_backtest.return_df.loc['TotalReturn', 'Portfolio']\n",
    "\n",
    "# ------------------------------------------------------------------\n",
    "\n",
    "def get_tsf_return(n_period, data, freq, split_date):\n",
    "    \n",
    "    data['ht'] = talib.HT_TRENDLINE(data.close)\n",
    "    data['tsf'] = talib.TSF(data.ht, n_period)\n",
    "    data.dropna(axis=0, inplace=True)\n",
    "    data['signals'] = np.where(data.ht > data.tsf, 1, -1)\n",
    "    \n",
    "    train, test = (data.loc[pd.Timestamp(split_date)-dt.timedelta(days=7):pd.Timestamp(split_date)-dt.timedelta(days=1)] , \n",
    "                   data.loc[pd.Timestamp(split_date):])\n",
    "    \n",
    "    train_backtest = IterativeBacktester(data=train, signals=train.signals, freq=freq)\n",
    "    train_backtest.backtest(progress_bar=False)\n",
    "    \n",
    "    test_backtest = IterativeBacktester(data=test, signals=test.signals, freq=freq)\n",
    "    test_backtest.backtest(progress_bar=False)\n",
    "\n",
    "    return n_period, train_backtest.return_df.loc['TotalReturn', 'Portfolio'], test_backtest.return_df.loc['TotalReturn', 'Portfolio']\n",
    "\n",
    "# ----------------------------------------------------------------\n",
    "\n",
    "def get_slope_return(n_period, data, freq, split_date):\n",
    "    \n",
    "    data['ht'] = talib.HT_TRENDLINE(data.close)\n",
    "    data.dropna(axis=0, inplace=True)\n",
    "    data['signals'] = talib.LINEARREG_SLOPE(data.ht, timeperiod=n_period).apply(np.sign)\n",
    "    data.dropna(axis=0, inplace=True)\n",
    "    \n",
    "    train, test = (data.loc[pd.Timestamp(split_date)-dt.timedelta(days=7):pd.Timestamp(split_date)-dt.timedelta(days=1)] , \n",
    "                   data.loc[pd.Timestamp(split_date):])\n",
    "    \n",
    "    train_backtest = IterativeBacktester(data=train, signals=train.signals, freq=freq)\n",
    "    train_backtest.backtest(progress_bar=False)\n",
    "    \n",
    "    test_backtest = IterativeBacktester(data=test, signals=test.signals, freq=freq)\n",
    "    test_backtest.backtest(progress_bar=False)\n",
    "\n",
    "    return n_period, train_backtest.return_df.loc['TotalReturn', 'Portfolio'], test_backtest.return_df.loc['TotalReturn', 'Portfolio']\n",
    "\n",
    "# -----------------------------------------------------------------------------\n",
    "\n",
    "def get_performance(data, split_date, params, freq):\n",
    "    # params --> (mama, slope, tsf)\n",
    "      \n",
    "    data['ht'] = talib.HT_TRENDLINE(data.close)\n",
    "    data['mama'], data['fama'] = talib.MAMA(data.ht, fastlimit=params[0], slowlimit=params[0]/10)\n",
    "    data['slope'] = talib.LINEARREG_SLOPE(data.ht, timeperiod=params[1])\n",
    "    data['tsf'] = talib.TSF(data.ht, params[2])\n",
    "    data.dropna(axis=0, inplace=True)\n",
    "\n",
    "    # signals\n",
    "    data['mama_signals'] = np.where(data.mama > data.fama, 1, -1) \n",
    "    data['slope_signals'] = data.slope.apply(np.sign)\n",
    "    data['tsf_signals'] = np.where(data.ht > data.tsf, 1, -1)\n",
    "    signal_cols = ['mama_signals', 'slope_signals', 'tsf_signals']\n",
    "    data['agg_signals'] = data[signal_cols].mode(axis=1)\n",
    "    \n",
    "    # train/test split\n",
    "    train, test = (data.loc[pd.Timestamp(split_date)-dt.timedelta(days=7):pd.Timestamp(split_date)-dt.timedelta(days=1)] , \n",
    "                   data.loc[pd.Timestamp(split_date):])\n",
    "    \n",
    "    # backtest train\n",
    "    train_date_range = train.index[-1]-train.index[0]\n",
    "    train_backtest = IterativeBacktester(data=train, signals=train.agg_signals, freq=freq)\n",
    "    train_backtest.backtest(progress_bar=False)\n",
    "    \n",
    "    train_ret = train_backtest.return_df.loc['TotalReturn', 'Portfolio']\n",
    "    train_signal_counts = train_backtest.signals.value_counts()\n",
    "    train_signal_changes = train_backtest.signals.diff(1).dropna().apply(np.abs).value_counts()\n",
    "    \n",
    "    train_total_days = train_date_range.total_seconds() / (60*60*24)\n",
    "    try:\n",
    "        train_pos_short = train_signal_counts[-1]\n",
    "    except:\n",
    "        train_pos_short = 0\n",
    "    try:\n",
    "        train_pos_long = train_signal_counts[1]\n",
    "    except:\n",
    "        train_pos_long = 0\n",
    "    train_pos_changes = (train_signal_changes.index * train_signal_changes).sum()\n",
    "    \n",
    "    # backtest test\n",
    "    test_date_range = test.index[-1]-test.index[0]\n",
    "    test_backtest = IterativeBacktester(data=test, signals=test.agg_signals, freq=freq)\n",
    "    test_backtest.backtest(progress_bar=False)\n",
    "    \n",
    "    test_ret = test_backtest.return_df.loc['TotalReturn', 'Portfolio']\n",
    "    test_signal_counts = test_backtest.signals.value_counts()\n",
    "    test_signal_changes = test_backtest.signals.diff(1).dropna().apply(np.abs).value_counts()\n",
    "    \n",
    "    test_total_days = test_date_range.total_seconds() / (60*60*24)\n",
    "    try:\n",
    "        test_pos_short = test_signal_counts[-1]\n",
    "    except:\n",
    "        test_pos_short = 0\n",
    "    try:\n",
    "        test_pos_long = test_signal_counts[1]\n",
    "    except:\n",
    "        test_pos_long = 0\n",
    "    test_pos_changes = (test_signal_changes.index * test_signal_changes).sum()\n",
    "    \n",
    "    # (train , test)\n",
    "    # returns, #days, #short, #long, #posChanges\n",
    "#     performances[params] = (train_ret, train_total_days, train_pos_short, train_pos_long, train_pos_changes,\n",
    "#                             test_ret, test_total_days, test_pos_short, test_pos_long, test_pos_changes)\n",
    "    return (params, \n",
    "            train_ret, train_total_days, train_pos_short, train_pos_long, train_pos_changes,\n",
    "            test_ret, test_total_days, test_pos_short, test_pos_long, test_pos_changes)"
   ]
  },
  {
   "cell_type": "code",
   "execution_count": 5,
   "id": "136b57ec",
   "metadata": {
    "ExecuteTime": {
     "end_time": "2022-07-31T12:04:36.419759Z",
     "start_time": "2022-07-31T12:04:36.416571Z"
    }
   },
   "outputs": [],
   "source": [
    "# saturday = data_sql.resample('W-SAT').last().index\n",
    "\n",
    "# end_dates = []\n",
    "# for i in range(len(saturday)-6):\n",
    "# #     split_date = saturday[i+5]\n",
    "\n",
    "#     # need enough extra dates to warmup data\n",
    "#     data_ = data_sql.loc[saturday[i]:saturday[i+6]]\n",
    "#     end_dates.append(data_.index[-1])\n",
    "    \n",
    "# #     train_dat_ = data_.loc[split_date-dt.timedelta(days=7):split_date]\n",
    "# #     test_dat_ = data_.loc[split_date:]\n",
    "# #     print(f\"warmup: {len(data_.loc[:split_date])}\")    \n",
    "# #     print(f\"Train: {len(train_dat_)} --- {train_dat_.index[0]} to {train_dat_.index[-1]}\")\n",
    "# #     print(f\"Test: {len(test_dat_)} --- {test_dat_.index[0]} to {test_dat_.index[-1]}\")\n",
    "# #     print(\"-\"*50)"
   ]
  },
  {
   "cell_type": "code",
   "execution_count": 8,
   "id": "0f5d9391",
   "metadata": {
    "ExecuteTime": {
     "end_time": "2022-07-31T12:05:02.183808Z",
     "start_time": "2022-07-31T12:04:48.361745Z"
    }
   },
   "outputs": [
    {
     "data": {
      "application/vnd.jupyter.widget-view+json": {
       "model_id": "0db961f100204d7e88e8ba301b42b820",
       "version_major": 2,
       "version_minor": 0
      },
      "text/plain": [
       "Tickers:   0%|          | 0/24 [00:00<?, ?it/s]"
      ]
     },
     "metadata": {},
     "output_type": "display_data"
    },
    {
     "data": {
      "application/vnd.jupyter.widget-view+json": {
       "model_id": "f8a51d30237a4683a6ac2cba74bf97cd",
       "version_major": 2,
       "version_minor": 0
      },
      "text/plain": [
       "dates:   0%|          | 0/76 [00:00<?, ?it/s]"
      ]
     },
     "metadata": {},
     "output_type": "display_data"
    },
    {
     "data": {
      "application/vnd.jupyter.widget-view+json": {
       "model_id": "",
       "version_major": 2,
       "version_minor": 0
      },
      "text/plain": [
       "  0%|          | 0/9 [00:00<?, ?it/s]"
      ]
     },
     "metadata": {},
     "output_type": "display_data"
    },
    {
     "data": {
      "application/vnd.jupyter.widget-view+json": {
       "model_id": "",
       "version_major": 2,
       "version_minor": 0
      },
      "text/plain": [
       "  0%|          | 0/31 [00:00<?, ?it/s]"
      ]
     },
     "metadata": {},
     "output_type": "display_data"
    },
    {
     "data": {
      "application/vnd.jupyter.widget-view+json": {
       "model_id": "",
       "version_major": 2,
       "version_minor": 0
      },
      "text/plain": [
       "  0%|          | 0/31 [00:00<?, ?it/s]"
      ]
     },
     "metadata": {},
     "output_type": "display_data"
    },
    {
     "data": {
      "application/vnd.jupyter.widget-view+json": {
       "model_id": "",
       "version_major": 2,
       "version_minor": 0
      },
      "text/plain": [
       "  0%|          | 0/9 [00:00<?, ?it/s]"
      ]
     },
     "metadata": {},
     "output_type": "display_data"
    },
    {
     "data": {
      "application/vnd.jupyter.widget-view+json": {
       "model_id": "",
       "version_major": 2,
       "version_minor": 0
      },
      "text/plain": [
       "  0%|          | 0/31 [00:00<?, ?it/s]"
      ]
     },
     "metadata": {},
     "output_type": "display_data"
    },
    {
     "data": {
      "application/vnd.jupyter.widget-view+json": {
       "model_id": "",
       "version_major": 2,
       "version_minor": 0
      },
      "text/plain": [
       "  0%|          | 0/31 [00:00<?, ?it/s]"
      ]
     },
     "metadata": {},
     "output_type": "display_data"
    },
    {
     "data": {
      "application/vnd.jupyter.widget-view+json": {
       "model_id": "",
       "version_major": 2,
       "version_minor": 0
      },
      "text/plain": [
       "  0%|          | 0/9 [00:00<?, ?it/s]"
      ]
     },
     "metadata": {},
     "output_type": "display_data"
    },
    {
     "data": {
      "application/vnd.jupyter.widget-view+json": {
       "model_id": "",
       "version_major": 2,
       "version_minor": 0
      },
      "text/plain": [
       "  0%|          | 0/31 [00:00<?, ?it/s]"
      ]
     },
     "metadata": {},
     "output_type": "display_data"
    },
    {
     "data": {
      "application/vnd.jupyter.widget-view+json": {
       "model_id": "",
       "version_major": 2,
       "version_minor": 0
      },
      "text/plain": [
       "  0%|          | 0/31 [00:00<?, ?it/s]"
      ]
     },
     "metadata": {},
     "output_type": "display_data"
    },
    {
     "data": {
      "application/vnd.jupyter.widget-view+json": {
       "model_id": "",
       "version_major": 2,
       "version_minor": 0
      },
      "text/plain": [
       "  0%|          | 0/9 [00:00<?, ?it/s]"
      ]
     },
     "metadata": {},
     "output_type": "display_data"
    },
    {
     "data": {
      "application/vnd.jupyter.widget-view+json": {
       "model_id": "",
       "version_major": 2,
       "version_minor": 0
      },
      "text/plain": [
       "  0%|          | 0/31 [00:00<?, ?it/s]"
      ]
     },
     "metadata": {},
     "output_type": "display_data"
    },
    {
     "data": {
      "application/vnd.jupyter.widget-view+json": {
       "model_id": "",
       "version_major": 2,
       "version_minor": 0
      },
      "text/plain": [
       "  0%|          | 0/31 [00:00<?, ?it/s]"
      ]
     },
     "metadata": {},
     "output_type": "display_data"
    },
    {
     "ename": "KeyboardInterrupt",
     "evalue": "",
     "output_type": "error",
     "traceback": [
      "\u001b[0;31m---------------------------------------------------------------------------\u001b[0m",
      "\u001b[0;31mKeyboardInterrupt\u001b[0m                         Traceback (most recent call last)",
      "Input \u001b[0;32mIn [8]\u001b[0m, in \u001b[0;36m<cell line: 4>\u001b[0;34m()\u001b[0m\n\u001b[1;32m     51\u001b[0m best_tsf_period \u001b[38;5;241m=\u001b[39m pd\u001b[38;5;241m.\u001b[39mDataFrame(tsf_results)\u001b[38;5;241m.\u001b[39msort_values(by\u001b[38;5;241m=\u001b[39m\u001b[38;5;241m1\u001b[39m, ascending\u001b[38;5;241m=\u001b[39m\u001b[38;5;28;01mFalse\u001b[39;00m)\u001b[38;5;241m.\u001b[39miloc[\u001b[38;5;241m0\u001b[39m, \u001b[38;5;241m0\u001b[39m]\n\u001b[1;32m     54\u001b[0m params \u001b[38;5;241m=\u001b[39m (best_mama_period, best_slope_period, best_tsf_period)\n\u001b[0;32m---> 55\u001b[0m perf \u001b[38;5;241m=\u001b[39m \u001b[43mget_performance\u001b[49m\u001b[43m(\u001b[49m\u001b[43mdata_\u001b[49m\u001b[38;5;241;43m.\u001b[39;49m\u001b[43mcopy\u001b[49m\u001b[43m(\u001b[49m\u001b[43mdeep\u001b[49m\u001b[38;5;241;43m=\u001b[39;49m\u001b[38;5;28;43;01mTrue\u001b[39;49;00m\u001b[43m)\u001b[49m\u001b[43m,\u001b[49m\u001b[43m \u001b[49m\u001b[43msplit_date\u001b[49m\u001b[43m,\u001b[49m\u001b[43m \u001b[49m\u001b[43mparams\u001b[49m\u001b[43m,\u001b[49m\u001b[43m \u001b[49m\u001b[43mfreq\u001b[49m\u001b[43m)\u001b[49m\n\u001b[1;32m     56\u001b[0m test_ret \u001b[38;5;241m=\u001b[39m perf[\u001b[38;5;241m6\u001b[39m]\n\u001b[1;32m     57\u001b[0m backtest_performances\u001b[38;5;241m.\u001b[39mloc[end_, ticker] \u001b[38;5;241m=\u001b[39m test_ret\n",
      "Input \u001b[0;32mIn [4]\u001b[0m, in \u001b[0;36mget_performance\u001b[0;34m(data, split_date, params, freq)\u001b[0m\n\u001b[1;32m    103\u001b[0m test_date_range \u001b[38;5;241m=\u001b[39m test\u001b[38;5;241m.\u001b[39mindex[\u001b[38;5;241m-\u001b[39m\u001b[38;5;241m1\u001b[39m]\u001b[38;5;241m-\u001b[39mtest\u001b[38;5;241m.\u001b[39mindex[\u001b[38;5;241m0\u001b[39m]\n\u001b[1;32m    104\u001b[0m test_backtest \u001b[38;5;241m=\u001b[39m IterativeBacktester(data\u001b[38;5;241m=\u001b[39mtest, signals\u001b[38;5;241m=\u001b[39mtest\u001b[38;5;241m.\u001b[39magg_signals, freq\u001b[38;5;241m=\u001b[39mfreq)\n\u001b[0;32m--> 105\u001b[0m \u001b[43mtest_backtest\u001b[49m\u001b[38;5;241;43m.\u001b[39;49m\u001b[43mbacktest\u001b[49m\u001b[43m(\u001b[49m\u001b[43mprogress_bar\u001b[49m\u001b[38;5;241;43m=\u001b[39;49m\u001b[38;5;28;43;01mFalse\u001b[39;49;00m\u001b[43m)\u001b[49m\n\u001b[1;32m    107\u001b[0m test_ret \u001b[38;5;241m=\u001b[39m test_backtest\u001b[38;5;241m.\u001b[39mreturn_df\u001b[38;5;241m.\u001b[39mloc[\u001b[38;5;124m'\u001b[39m\u001b[38;5;124mTotalReturn\u001b[39m\u001b[38;5;124m'\u001b[39m, \u001b[38;5;124m'\u001b[39m\u001b[38;5;124mPortfolio\u001b[39m\u001b[38;5;124m'\u001b[39m]\n\u001b[1;32m    108\u001b[0m test_signal_counts \u001b[38;5;241m=\u001b[39m test_backtest\u001b[38;5;241m.\u001b[39msignals\u001b[38;5;241m.\u001b[39mvalue_counts()\n",
      "File \u001b[0;32m~/python_projects/algorithmic_trading/backtester.py:144\u001b[0m, in \u001b[0;36mIterativeBacktester.backtest\u001b[0;34m(self, progress_bar, is_notebook, leave)\u001b[0m\n\u001b[1;32m    140\u001b[0m \u001b[38;5;28;01mfor\u001b[39;00m i \u001b[38;5;129;01min\u001b[39;00m iterate:\n\u001b[1;32m    141\u001b[0m     \u001b[38;5;66;03m# buy at askopen in next row\u001b[39;00m\n\u001b[1;32m    142\u001b[0m     \u001b[38;5;66;03m# sell at bidopen in next row\u001b[39;00m\n\u001b[1;32m    143\u001b[0m     signal \u001b[38;5;241m=\u001b[39m \u001b[38;5;28mself\u001b[39m\u001b[38;5;241m.\u001b[39msignals\u001b[38;5;241m.\u001b[39miloc[i]\n\u001b[0;32m--> 144\u001b[0m     next_row \u001b[38;5;241m=\u001b[39m \u001b[38;5;28;43mself\u001b[39;49m\u001b[38;5;241;43m.\u001b[39;49m\u001b[43mdata\u001b[49m\u001b[38;5;241;43m.\u001b[39;49m\u001b[43miloc\u001b[49m\u001b[43m[\u001b[49m\u001b[43mi\u001b[49m\u001b[38;5;241;43m+\u001b[39;49m\u001b[38;5;241;43m1\u001b[39;49m\u001b[43m]\u001b[49m\n\u001b[1;32m    145\u001b[0m     bid \u001b[38;5;241m=\u001b[39m next_row[\u001b[38;5;124m'\u001b[39m\u001b[38;5;124mbidopen\u001b[39m\u001b[38;5;124m'\u001b[39m]\n\u001b[1;32m    146\u001b[0m     ask \u001b[38;5;241m=\u001b[39m next_row[\u001b[38;5;124m'\u001b[39m\u001b[38;5;124maskopen\u001b[39m\u001b[38;5;124m'\u001b[39m]\n",
      "File \u001b[0;32m~/anaconda3/envs/DL/lib/python3.8/site-packages/pandas/core/indexing.py:879\u001b[0m, in \u001b[0;36m_LocationIndexer.__getitem__\u001b[0;34m(self, key)\u001b[0m\n\u001b[1;32m    876\u001b[0m axis \u001b[38;5;241m=\u001b[39m \u001b[38;5;28mself\u001b[39m\u001b[38;5;241m.\u001b[39maxis \u001b[38;5;129;01mor\u001b[39;00m \u001b[38;5;241m0\u001b[39m\n\u001b[1;32m    878\u001b[0m maybe_callable \u001b[38;5;241m=\u001b[39m com\u001b[38;5;241m.\u001b[39mapply_if_callable(key, \u001b[38;5;28mself\u001b[39m\u001b[38;5;241m.\u001b[39mobj)\n\u001b[0;32m--> 879\u001b[0m \u001b[38;5;28;01mreturn\u001b[39;00m \u001b[38;5;28;43mself\u001b[39;49m\u001b[38;5;241;43m.\u001b[39;49m\u001b[43m_getitem_axis\u001b[49m\u001b[43m(\u001b[49m\u001b[43mmaybe_callable\u001b[49m\u001b[43m,\u001b[49m\u001b[43m \u001b[49m\u001b[43maxis\u001b[49m\u001b[38;5;241;43m=\u001b[39;49m\u001b[43maxis\u001b[49m\u001b[43m)\u001b[49m\n",
      "File \u001b[0;32m~/anaconda3/envs/DL/lib/python3.8/site-packages/pandas/core/indexing.py:1498\u001b[0m, in \u001b[0;36m_iLocIndexer._getitem_axis\u001b[0;34m(self, key, axis)\u001b[0m\n\u001b[1;32m   1495\u001b[0m \u001b[38;5;66;03m# validate the location\u001b[39;00m\n\u001b[1;32m   1496\u001b[0m \u001b[38;5;28mself\u001b[39m\u001b[38;5;241m.\u001b[39m_validate_integer(key, axis)\n\u001b[0;32m-> 1498\u001b[0m \u001b[38;5;28;01mreturn\u001b[39;00m \u001b[38;5;28;43mself\u001b[39;49m\u001b[38;5;241;43m.\u001b[39;49m\u001b[43mobj\u001b[49m\u001b[38;5;241;43m.\u001b[39;49m\u001b[43m_ixs\u001b[49m\u001b[43m(\u001b[49m\u001b[43mkey\u001b[49m\u001b[43m,\u001b[49m\u001b[43m \u001b[49m\u001b[43maxis\u001b[49m\u001b[38;5;241;43m=\u001b[39;49m\u001b[43maxis\u001b[49m\u001b[43m)\u001b[49m\n",
      "File \u001b[0;32m~/anaconda3/envs/DL/lib/python3.8/site-packages/pandas/core/frame.py:2829\u001b[0m, in \u001b[0;36mDataFrame._ixs\u001b[0;34m(self, i, axis)\u001b[0m\n\u001b[1;32m   2827\u001b[0m \u001b[38;5;66;03m# irow\u001b[39;00m\n\u001b[1;32m   2828\u001b[0m \u001b[38;5;28;01mif\u001b[39;00m axis \u001b[38;5;241m==\u001b[39m \u001b[38;5;241m0\u001b[39m:\n\u001b[0;32m-> 2829\u001b[0m     new_values \u001b[38;5;241m=\u001b[39m \u001b[38;5;28;43mself\u001b[39;49m\u001b[38;5;241;43m.\u001b[39;49m\u001b[43m_mgr\u001b[49m\u001b[38;5;241;43m.\u001b[39;49m\u001b[43mfast_xs\u001b[49m\u001b[43m(\u001b[49m\u001b[43mi\u001b[49m\u001b[43m)\u001b[49m\n\u001b[1;32m   2831\u001b[0m     \u001b[38;5;66;03m# if we are a copy, mark as such\u001b[39;00m\n\u001b[1;32m   2832\u001b[0m     copy \u001b[38;5;241m=\u001b[39m \u001b[38;5;28misinstance\u001b[39m(new_values, np\u001b[38;5;241m.\u001b[39mndarray) \u001b[38;5;129;01mand\u001b[39;00m new_values\u001b[38;5;241m.\u001b[39mbase \u001b[38;5;129;01mis\u001b[39;00m \u001b[38;5;28;01mNone\u001b[39;00m\n",
      "File \u001b[0;32m~/anaconda3/envs/DL/lib/python3.8/site-packages/pandas/core/internals/managers.py:953\u001b[0m, in \u001b[0;36mBlockManager.fast_xs\u001b[0;34m(self, loc)\u001b[0m\n\u001b[1;32m    948\u001b[0m     result \u001b[38;5;241m=\u001b[39m np\u001b[38;5;241m.\u001b[39mempty(n, dtype\u001b[38;5;241m=\u001b[39mdtype)\n\u001b[1;32m    950\u001b[0m \u001b[38;5;28;01mfor\u001b[39;00m blk \u001b[38;5;129;01min\u001b[39;00m \u001b[38;5;28mself\u001b[39m\u001b[38;5;241m.\u001b[39mblocks:\n\u001b[1;32m    951\u001b[0m     \u001b[38;5;66;03m# Such assignment may incorrectly coerce NaT to None\u001b[39;00m\n\u001b[1;32m    952\u001b[0m     \u001b[38;5;66;03m# result[blk.mgr_locs] = blk._slice((slice(None), loc))\u001b[39;00m\n\u001b[0;32m--> 953\u001b[0m     \u001b[38;5;28;01mfor\u001b[39;00m i, rl \u001b[38;5;129;01min\u001b[39;00m \u001b[38;5;28menumerate\u001b[39m(blk\u001b[38;5;241m.\u001b[39mmgr_locs):\n\u001b[1;32m    954\u001b[0m         result[rl] \u001b[38;5;241m=\u001b[39m blk\u001b[38;5;241m.\u001b[39miget((i, loc))\n\u001b[1;32m    956\u001b[0m \u001b[38;5;28;01mif\u001b[39;00m \u001b[38;5;28misinstance\u001b[39m(dtype, ExtensionDtype):\n",
      "\u001b[0;31mKeyboardInterrupt\u001b[0m: "
     ]
    }
   ],
   "source": [
    "# (min, max, step)\n",
    "params_ranges = {\n",
    "    'mama': (0.1, 1, 0.1),\n",
    "    'slope': (200, 501, 10),\n",
    "    'tsf': (200, 501, 10)\n",
    "}\n",
    "\n",
    "freq = 'H1'\n",
    "conn = sql.connect(f'../PriceData/PriceData_{freq}.db')\n",
    "\n",
    "for ticker in tqdm_notebook(my_assets, leave=True, desc='Tickers'):    \n",
    "    data_sql = pd.read_sql(f\"SELECT * FROM '{ticker}'\", conn, parse_dates=['date'], index_col=['date'])\n",
    "\n",
    "    for col in ['open', 'close', 'high', 'low']:\n",
    "        data_sql[col] = data_sql[['bid'+col, 'ask'+col]].mean(axis=1)\n",
    "        \n",
    "    # create dataframe to store results\n",
    "    saturday = data_sql.resample('W-SAT').last().index\n",
    "    end_dates = []\n",
    "    for i in range(len(saturday)-6):\n",
    "        data_ = data_sql.loc[saturday[i]:saturday[i+6]]\n",
    "        end_dates.append(data_.index[-1])\n",
    "    backtest_performances = pd.DataFrame(columns=my_assets, index=end_dates)\n",
    "        \n",
    "    for i in tqdm_notebook(range(len(saturday)-6), leave=False, desc='dates'):\n",
    "        split_date = saturday[i+5] \n",
    "        data_ = data_sql.loc[saturday[i]:saturday[i+6]].copy(deep=True)\n",
    "        end_ = data_.index[-1]\n",
    "        \n",
    "        \n",
    "        mama_range = params_ranges['mama']\n",
    "        mama_results = p_umap(get_mama_return, \n",
    "                              np.arange(mama_range[0], mama_range[1], mama_range[2]),\n",
    "                              repeat(data_.copy(deep=True)), \n",
    "                              repeat(freq),\n",
    "                              repeat(split_date), \n",
    "                              leave=False)\n",
    "        best_mama_period = pd.DataFrame(mama_results).sort_values(by=1, ascending=False).iloc[0, 0]\n",
    "\n",
    "        \n",
    "        slope_range = params_ranges['slope']\n",
    "        slope_results = p_umap(get_slope_return, \n",
    "                               np.arange(slope_range[0], slope_range[1], slope_range[2]),\n",
    "                               repeat(data_.copy(deep=True)), \n",
    "                               repeat(freq),\n",
    "                               repeat(split_date),\n",
    "                               leave=False)\n",
    "        best_slope_period = pd.DataFrame(slope_results).sort_values(by=1, ascending=False).iloc[0, 0]\n",
    "\n",
    "        \n",
    "        tsf_range = params_ranges['tsf']\n",
    "        tsf_results = p_umap(get_tsf_return, \n",
    "                             np.arange(tsf_range[0], tsf_range[1], tsf_range[2]),\n",
    "                             repeat(data_.copy(deep=True)), \n",
    "                             repeat(freq),\n",
    "                             repeat(split_date),\n",
    "                             leave=False)\n",
    "        best_tsf_period = pd.DataFrame(tsf_results).sort_values(by=1, ascending=False).iloc[0, 0]\n",
    "    \n",
    "    \n",
    "        params = (best_mama_period, best_slope_period, best_tsf_period)\n",
    "        perf = get_performance(data_.copy(deep=True), split_date, params, freq)\n",
    "        test_ret = perf[6]\n",
    "        backtest_performances.loc[end_, ticker] = test_ret\n",
    "        \n",
    "conn.close()\n",
    "\n",
    "last_date = backtest_performances.index[-1]\n",
    "\n",
    "folder = 'backtest_parameters'\n",
    "fname = f\"backtest_params_{last_date.strftime('%b-%d-%Y')}.csv\"\n",
    "\n",
    "os.makedirs(folder, exist_ok=True)\n",
    "backtest_performances.to_csv(os.path.join(folder, fname))"
   ]
  },
  {
   "cell_type": "code",
   "execution_count": null,
   "id": "428b4355",
   "metadata": {},
   "outputs": [],
   "source": []
  }
 ],
 "metadata": {
  "kernelspec": {
   "display_name": "Python 3 (ipykernel)",
   "language": "python",
   "name": "python3"
  },
  "language_info": {
   "codemirror_mode": {
    "name": "ipython",
    "version": 3
   },
   "file_extension": ".py",
   "mimetype": "text/x-python",
   "name": "python",
   "nbconvert_exporter": "python",
   "pygments_lexer": "ipython3",
   "version": "3.8.8"
  },
  "latex_envs": {
   "LaTeX_envs_menu_present": true,
   "autoclose": false,
   "autocomplete": true,
   "bibliofile": "biblio.bib",
   "cite_by": "apalike",
   "current_citInitial": 1,
   "eqLabelWithNumbers": true,
   "eqNumInitial": 1,
   "hotkeys": {
    "equation": "Ctrl-E",
    "itemize": "Ctrl-I"
   },
   "labels_anchors": false,
   "latex_user_defs": false,
   "report_style_numbering": false,
   "user_envs_cfg": false
  },
  "toc": {
   "base_numbering": 1,
   "nav_menu": {},
   "number_sections": true,
   "sideBar": true,
   "skip_h1_title": false,
   "title_cell": "Table of Contents",
   "title_sidebar": "Contents",
   "toc_cell": false,
   "toc_position": {},
   "toc_section_display": true,
   "toc_window_display": false
  }
 },
 "nbformat": 4,
 "nbformat_minor": 5
}
