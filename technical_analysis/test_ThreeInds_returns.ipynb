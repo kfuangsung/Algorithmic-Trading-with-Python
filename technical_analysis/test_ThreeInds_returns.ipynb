{
 "cells": [
  {
   "cell_type": "code",
   "execution_count": 1,
   "id": "c8001b46",
   "metadata": {},
   "outputs": [],
   "source": [
    "import warnings\n",
    "warnings.simplefilter(action='ignore', category=FutureWarning)\n",
    "\n",
    "import sys\n",
    "sys.path.append('../')\n",
    "\n",
    "import sqlite3\n",
    "import json\n",
    "from backtester import *\n",
    "from fxcmtoken import major_forex_pairs\n",
    "# from tqdm.notebook import tqdm"
   ]
  },
  {
   "cell_type": "code",
   "execution_count": 2,
   "id": "33ae6f72",
   "metadata": {},
   "outputs": [],
   "source": [
    "def get_data(ticker, freq, high_param, train_length=500, test_size=0.05):\n",
    "    conn = sqlite3.connect(f'../PriceData/PriceData_{freq}.db')\n",
    "    data = pd.read_sql(f\"SELECT * FROM '{ticker}'\", conn, parse_dates=['date'], index_col=['date'])\n",
    "    conn.close()\n",
    "    columns = ['open', 'high', 'low', 'close']\n",
    "    for col in columns:\n",
    "        data[col] = data[['bid'+col, 'ask'+col]].mean(axis=1)\n",
    "#     train_data, test_data = train_test_split(data, test_size=test_size, shuffle=False)\n",
    "    split_len = int(len(data) * test_size)\n",
    "    test_len = split_len + high_param\n",
    "    test_data = data[-test_len:]\n",
    "    train_data = data[-(train_length+split_len+high_param):-split_len]\n",
    "    \n",
    "    return train_data, test_data\n",
    "\n",
    "def get_signals(ticker, data, param_dict):\n",
    "    params = param_dict['ThreeInds'][ticker]\n",
    "    # get indicators\n",
    "    ema_window = params[0]\n",
    "    rsi_window = params[1]\n",
    "    bb_window = params[2]\n",
    "    \n",
    "    data['ema'] = talib.EMA(data.close, ema_window)\n",
    "    data['rsi'] = talib.RSI(data.close, rsi_window)\n",
    "    data['bb_upper'], data['bb_mid'], data['bb_lower'] = talib.BBANDS(data.close, bb_window)\n",
    "    data.dropna(axis=0, inplace=True)\n",
    "\n",
    "    data['ema_signal'] = np.where(data.close > data.ema, 1, -1)\n",
    "    \n",
    "    data['rsi_signal'] = np.where(data.rsi > 70, -1, \n",
    "                                  np.where(data.rsi < 30, 1, np.nan))\n",
    "    data['rsi_less_50'] = np.where(data.rsi < 50, 1, -1)\n",
    "    data['rsi_signal'][(data.rsi_less_50 * data.rsi_less_50.shift(1) < 0)] = 0\n",
    "    data.rsi_signal.ffill(inplace=True)\n",
    "    data.rsi_signal.fillna(0, inplace=True)\n",
    "    \n",
    "    data['bb_signal'] = np.where(data.close > data.bb_upper, -1, \n",
    "                                 np.where(data.close < data.bb_lower, 1, np.nan))\n",
    "    data['bb_less_mid'] = np.where(data.close < data.bb_mid, 1, -1)\n",
    "    data['bb_less_mid'][(data.bb_less_mid * data.bb_less_mid.shift(1) < 0)] = 0\n",
    "    data.bb_signal.ffill(inplace=True)\n",
    "    data.bb_signal.fillna(0, inplace=True)\n",
    "    \n",
    "    signal_cols = ['ema_signal', 'rsi_signal', 'bb_signal']\n",
    "    signals = data.loc[:,signal_cols].mode(axis=1).iloc[:, 0]\n",
    "    \n",
    "    return signals"
   ]
  },
  {
   "cell_type": "code",
   "execution_count": 3,
   "id": "29d2963f",
   "metadata": {},
   "outputs": [
    {
     "name": "stderr",
     "output_type": "stream",
     "text": [
      "                                                                                \r"
     ]
    }
   ],
   "source": [
    "freq = 'H1'\n",
    "fname = f'../ta_optimize/json/OPTIMIZE_params_{freq}_1000_100.json'\n",
    "param_max = int(fname.split('_')[-2])\n",
    "\n",
    "with open(fname, 'r') as f:\n",
    "    parameters = json.load(f)\n",
    "parameters\n",
    "\n",
    "train_rets = []\n",
    "test_rets = []\n",
    "\n",
    "for ticker in tqdm(major_forex_pairs, leave=False):\n",
    "    train, test = get_data(ticker, freq, max(parameters['ThreeInds'][ticker]))\n",
    "    train_signals = get_signals(ticker, train, parameters)\n",
    "    test_signals = get_signals(ticker, test, parameters)\n",
    "    \n",
    "    train_backtester = IterativeBacktester(data=train, freq=freq, signals=train_signals)\n",
    "    train_backtester.backtest(progress_bar=False)\n",
    "    train_ret = train_backtester.return_df.loc['TotalReturn', 'Portfolio']\n",
    "    train_rets.append(train_ret)\n",
    "    \n",
    "    test_backtester = IterativeBacktester(data=test, freq=freq, signals=test_signals)\n",
    "    test_backtester.backtest(progress_bar=False)\n",
    "    test_ret = test_backtester.return_df.loc['TotalReturn', 'Portfolio']\n",
    "    test_rets.append(test_ret)"
   ]
  },
  {
   "cell_type": "code",
   "execution_count": 4,
   "id": "40594c65",
   "metadata": {},
   "outputs": [
    {
     "data": {
      "text/plain": [
       "{'ThreeInds': {'AUD/USD': [200, 30, 700],\n",
       "  'EUR/USD': [100, 70, 1000],\n",
       "  'GBP/USD': [200, 40, 200],\n",
       "  'NZD/USD': [700, 40, 900],\n",
       "  'USD/CAD': [200, 10, 400],\n",
       "  'USD/CHF': [300, 30, 500],\n",
       "  'USD/JPY': [100, 10, 500]}}"
      ]
     },
     "execution_count": 4,
     "metadata": {},
     "output_type": "execute_result"
    }
   ],
   "source": [
    "parameters"
   ]
  },
  {
   "cell_type": "code",
   "execution_count": 5,
   "id": "fa37f2a7",
   "metadata": {},
   "outputs": [
    {
     "name": "stdout",
     "output_type": "stream",
     "text": [
      "H1\n",
      "***** Returns *****\n",
      "EUR/USD | Train: 4.96% | Test: 2.80%\n",
      "GBP/USD | Train: 2.92% | Test: 3.28%\n",
      "USD/JPY | Train: 1.86% | Test: 0.19%\n",
      "USD/CHF | Train: 2.85% | Test: 0.07%\n",
      "USD/CAD | Train: 3.68% | Test: 0.86%\n",
      "AUD/USD | Train: 5.55% | Test: -0.21%\n",
      "NZD/USD | Train: 3.49% | Test: 0.25%\n",
      "--------------------------------------------------\n",
      "Total | Train: 3.62% | Test: 1.03%\n"
     ]
    }
   ],
   "source": [
    "print(freq)\n",
    "print('***** Returns *****')\n",
    "for ticker, train_ret, test_ret in zip(major_forex_pairs, train_rets, test_rets):\n",
    "    print(f\"{ticker} | Train: {train_ret*100:.2f}% | Test: {test_ret*100:.2f}%\")\n",
    "print('-'*50)\n",
    "print(f\"Total | Train: {np.mean(train_rets)*100:.2f}% | Test: {np.mean(test_rets)*100:.2f}%\")"
   ]
  },
  {
   "cell_type": "code",
   "execution_count": null,
   "id": "76fa6ed8",
   "metadata": {},
   "outputs": [],
   "source": []
  }
 ],
 "metadata": {
  "kernelspec": {
   "display_name": "Python 3.8.8 64-bit ('DL': conda)",
   "language": "python",
   "name": "python388jvsc74a57bd05f58e7dbcddfdb99f90b0447783d5390db8cd74aa541842f8b458cd6f0565a39"
  },
  "language_info": {
   "codemirror_mode": {
    "name": "ipython",
    "version": 3
   },
   "file_extension": ".py",
   "mimetype": "text/x-python",
   "name": "python",
   "nbconvert_exporter": "python",
   "pygments_lexer": "ipython3",
   "version": "3.8.8"
  }
 },
 "nbformat": 4,
 "nbformat_minor": 5
}
