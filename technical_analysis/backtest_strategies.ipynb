{
 "cells": [
  {
   "cell_type": "code",
   "execution_count": 1,
   "id": "bc618833",
   "metadata": {
    "ExecuteTime": {
     "end_time": "2022-09-02T09:01:07.213481Z",
     "start_time": "2022-09-02T09:01:06.128139Z"
    }
   },
   "outputs": [],
   "source": [
    "import sys \n",
    "sys.path.append('../')\n",
    "from itertools import repeat\n",
    "import pandas as pd \n",
    "import numpy as np \n",
    "from scipy.stats import mode\n",
    "import talib\n",
    "import tulipy\n",
    "import sqlite3 as sql\n",
    "from p_tqdm import p_map, p_umap, t_map\n",
    "from tqdm.notebook import tqdm_notebook\n",
    "from backtester import * \n",
    "from fxcmtoken import my_assets"
   ]
  },
  {
   "cell_type": "code",
   "execution_count": 2,
   "id": "2776fe65",
   "metadata": {
    "ExecuteTime": {
     "end_time": "2022-09-02T09:01:07.236042Z",
     "start_time": "2022-09-02T09:01:07.215807Z"
    }
   },
   "outputs": [
    {
     "name": "stdout",
     "output_type": "stream",
     "text": [
      "0 | EUR/USD\n",
      "1 | USD/JPY\n",
      "2 | GBP/USD\n",
      "3 | USD/CHF\n",
      "4 | AUD/USD\n",
      "5 | USD/CAD\n",
      "6 | NZD/USD\n",
      "7 | Bund\n",
      "8 | AUS200\n",
      "9 | ESP35\n",
      "10 | EUSTX50\n",
      "11 | FRA40\n",
      "12 | GER30\n",
      "13 | HKG33\n",
      "14 | JPN225\n",
      "15 | NAS100\n",
      "16 | SPX500\n",
      "17 | UK100\n",
      "18 | US30\n",
      "19 | Copper\n",
      "20 | NGAS\n",
      "21 | UKOil\n",
      "22 | USOil\n",
      "23 | XAU/USD\n",
      "24 | XAG/USD\n"
     ]
    }
   ],
   "source": [
    "for i, v in enumerate(my_assets):\n",
    "    print(i, '|', v)"
   ]
  },
  {
   "cell_type": "code",
   "execution_count": 3,
   "id": "7335e2da",
   "metadata": {
    "ExecuteTime": {
     "end_time": "2022-09-02T09:01:07.244657Z",
     "start_time": "2022-09-02T09:01:07.238303Z"
    }
   },
   "outputs": [
    {
     "name": "stdout",
     "output_type": "stream",
     "text": [
      "Parameters length: 45\n"
     ]
    }
   ],
   "source": [
    "freq = 'H1'\n",
    "sql_path = f'PriceData_{freq}.db'\n",
    "strategies = ['SMA', 'EMA', 'KAMA', 'DEMA', 'TEMA', \n",
    "              'TRIMA', 'HMA', 'WMA', 'ZLEMA', 'TSF',\n",
    "              'WILDERS', 'SLOPE', 'TRIX']\n",
    "parameters = []\n",
    "for i in np.arange(10, 101, 10):\n",
    "    for j in np.arange(10, 101, 10):\n",
    "        if i < j: parameters.append((i,j))\n",
    "print(f'Parameters length: {len(parameters)}')"
   ]
  },
  {
   "cell_type": "code",
   "execution_count": 4,
   "id": "c659d99a",
   "metadata": {
    "ExecuteTime": {
     "end_time": "2022-09-02T09:01:07.263885Z",
     "start_time": "2022-09-02T09:01:07.247235Z"
    },
    "code_folding": [
     0
    ]
   },
   "outputs": [],
   "source": [
    "def get_signals(data, param, start, end, strategy):\n",
    "    if param[0] in [None, np.nan]: return np.nan\n",
    "    if param[1] in [None, np.nan]: return np.nan\n",
    "    \n",
    "    data = data.copy(deep=True)\n",
    "    try:\n",
    "        # 1\n",
    "        if strategy == 'SMA':\n",
    "            data[\"param1\"] = talib.SMA(data.close, param[0])\n",
    "            data[\"param2\"] = talib.SMA(data.close, param[1])\n",
    "        \n",
    "        # 2\n",
    "        elif strategy == 'EMA':\n",
    "            data[\"param1\"] = talib.EMA(data.close, param[0])\n",
    "            data[\"param2\"] = talib.EMA(data.close, param[1])\n",
    "        \n",
    "        # 3\n",
    "        elif strategy == 'KAMA':\n",
    "            data[\"param1\"] = talib.KAMA(data.close, param[0])\n",
    "            data[\"param2\"] = talib.KAMA(data.close, param[1])\n",
    "        \n",
    "        # 4\n",
    "        elif strategy == 'DEMA':\n",
    "            data[\"param1\"] = talib.DEMA(data.close, param[0])\n",
    "            data[\"param2\"] = talib.DEMA(data.close, param[1])\n",
    "        \n",
    "        # 5\n",
    "        elif strategy == 'TEMA':\n",
    "            data[\"param1\"] = talib.TEMA(data.close, param[0])\n",
    "            data[\"param2\"] = talib.TEMA(data.close, param[1])\n",
    "        \n",
    "        # 6\n",
    "        elif strategy == 'TRIMA':\n",
    "            data[\"param1\"] = talib.TRIMA(data.close, param[0])\n",
    "            data[\"param2\"] = talib.TRIMA(data.close, param[1])\n",
    "        \n",
    "        # 7\n",
    "        elif strategy == 'HMA':\n",
    "            data[\"param1\"] = np.nan\n",
    "            param1 = tulipy.hma(data.close.values, param[0])\n",
    "            data.iloc[-len(param1):,data.columns.get_loc(\"param1\")] = param1\n",
    "            data[\"param2\"] = np.nan\n",
    "            param2 = tulipy.hma(data.close.values, param[1])\n",
    "            data.iloc[-len(param2):,data.columns.get_loc(\"param2\")] = param2\n",
    "        \n",
    "        # 8\n",
    "        elif strategy == 'WMA':\n",
    "            data[\"param1\"] = talib.WMA(data.close, param[0])\n",
    "            data[\"param2\"] = talib.WMA(data.close, param[1])\n",
    "        \n",
    "        # 9\n",
    "        elif strategy == 'ZLEMA':\n",
    "            data[\"param1\"] = np.nan\n",
    "            param1 = tulipy.zlema(data.close.values, param[0])\n",
    "            data.iloc[-len(param1):,data.columns.get_loc(\"param1\")] = param1\n",
    "            data[\"param2\"] = np.nan\n",
    "            param2 = tulipy.zlema(data.close.values, param[1])\n",
    "            data.iloc[-len(param2):,data.columns.get_loc(\"param2\")] = param2\n",
    "        \n",
    "        # 10\n",
    "        elif strategy == 'TSF':\n",
    "            data[\"param1\"] = np.nan\n",
    "            param1 = tulipy.tsf(data.close.values, param[0])\n",
    "            data.iloc[-len(param1):,data.columns.get_loc(\"param1\")] = param1\n",
    "            data[\"param2\"] = np.nan\n",
    "            param2 = tulipy.tsf(data.close.values, param[1])\n",
    "            data.iloc[-len(param2):,data.columns.get_loc(\"param2\")] = param2\n",
    "        \n",
    "        # 11    \n",
    "        elif strategy == 'WILDERS':\n",
    "            data[\"param1\"] = np.nan\n",
    "            param1 = tulipy.wilders(data.close.values, param[0])\n",
    "            data.iloc[-len(param1):,data.columns.get_loc(\"param1\")] = param1\n",
    "            data[\"param2\"] = np.nan\n",
    "            param2 = tulipy.wilders(data.close.values, param[1])\n",
    "            data.iloc[-len(param2):,data.columns.get_loc(\"param2\")] = param2\n",
    "        \n",
    "        # 12\n",
    "        elif strategy == 'SLOPE':\n",
    "            data[\"param1\"] = np.nan\n",
    "            param1 = tulipy.linregslope(data.close.values, param[0])\n",
    "            data.iloc[-len(param1):,data.columns.get_loc(\"param1\")] = param1\n",
    "            data[\"param2\"] = np.nan\n",
    "            param2 = tulipy.linregslope(data.close.values, param[1])\n",
    "            data.iloc[-len(param2):,data.columns.get_loc(\"param2\")] = param2\n",
    "        \n",
    "        # 13\n",
    "        elif strategy == 'TRIX':\n",
    "            data[\"param1\"] = np.nan\n",
    "            param1 = tulipy.trix(data.close.values, param[0])\n",
    "            data.iloc[-len(param1):,data.columns.get_loc(\"param1\")] = param1\n",
    "            data[\"param2\"] = np.nan\n",
    "            param2 = tulipy.trix(data.close.values, param[1])\n",
    "            data.iloc[-len(param2):,data.columns.get_loc(\"param2\")] = param2\n",
    "            \n",
    "    except:\n",
    "        return np.nan\n",
    "    data.dropna(axis=0, inplace=True)\n",
    "    data['signal'] = np.where(data[\"param1\"] > data[\"param2\"], 1,\n",
    "                               np.where(data[\"param1\"] < data[\"param2\"], -1, np.nan)\n",
    "                              )\n",
    "    data['signal'] = data['signal'].ffill()\n",
    "    data = data.loc[start:end]\n",
    "    if len(data) == 0:\n",
    "        return np.nan\n",
    "    else:\n",
    "        return data\n",
    "\n",
    "\n",
    "def get_strategy_return(data, param, freq, start, end, strategy):    \n",
    "    data = get_signals(data, param, start, end, strategy)\n",
    "    if not isinstance(data, pd.DataFrame): return (param, np.nan)\n",
    "    if len(data) == 0: return (param, np.nan)\n",
    "    backtester = IterativeBacktester(data=data, signals=data.signal, freq=freq)\n",
    "    backtester.backtest(progress_bar=False)\n",
    "\n",
    "    return param, backtester.return_df.loc['TotalReturn', 'Portfolio']\n",
    "\n",
    "\n",
    "def get_optim_param(data, params, freq, start, end, strategy): \n",
    "    try:\n",
    "        res = t_map(get_strategy_return, repeat(data), params, repeat(freq), \n",
    "                     repeat(start), repeat(end), repeat(strategy), leave=False)\n",
    "\n",
    "        res = pd.DataFrame(res, columns=['params', 'returns'])\n",
    "        res.sort_values(by='returns', ascending=False, inplace=True)\n",
    "        best = res.iloc[0]\n",
    "    except:\n",
    "        return\n",
    "    \n",
    "    return start, end, best['params'], best['returns'] "
   ]
  },
  {
   "cell_type": "code",
   "execution_count": 5,
   "id": "280f81e9",
   "metadata": {
    "ExecuteTime": {
     "end_time": "2022-09-02T09:01:07.284299Z",
     "start_time": "2022-09-02T09:01:07.266023Z"
    },
    "code_folding": []
   },
   "outputs": [],
   "source": [
    "def get_optimized_args(ticker, strategy, parameters):\n",
    "\n",
    "    # load data\n",
    "    conn = sql.connect(sql_path)\n",
    "    data_sql = pd.read_sql(f\"SELECT * FROM '{ticker}'\", conn, parse_dates=['date'], index_col=['date'])\n",
    "    conn.close()\n",
    "    for col in ['open', 'close', 'high', 'low']:\n",
    "        data_sql[col] = data_sql[['bid'+col, 'ask'+col]].mean(axis=1)\n",
    "        \n",
    "    # get weekly dates\n",
    "    sat_index = data_sql.resample('W-Sat').last().index\n",
    "    start_dates = []\n",
    "    end_dates = []\n",
    "    for i in range(1, len(sat_index)-1):\n",
    "        start_dates.append(sat_index[i])\n",
    "        end_dates.append(sat_index[i+1])\n",
    "        \n",
    "    # get optimized params\n",
    "    optim_params = p_umap(get_optim_param, \n",
    "                          repeat(data_sql), \n",
    "                          repeat(parameters), \n",
    "                          repeat(freq), \n",
    "                          start_dates, \n",
    "                          end_dates, \n",
    "                          repeat(strategy), \n",
    "                          leave=False,\n",
    "                          desc=f'{strategy}-optimizing')\n",
    "    opt_df = pd.DataFrame(optim_params, columns=['starts', 'ends', 'params', 'returns'])\n",
    "    opt_df.sort_values(by='starts', ascending=True, inplace=True)\n",
    "    opt_df.reset_index(inplace=True, drop=True)\n",
    "    opt_df['param1'] = opt_df.params.apply(lambda x: x[0] if x is not None else None)\n",
    "    opt_df['param2'] = opt_df.params.apply(lambda x: x[1] if x is not None else None)\n",
    "    \n",
    "    n_periods = [i for i in range(1, int(len(start_dates)*0.7), 1)]\n",
    "    results = []\n",
    "    for n in tqdm_notebook(n_periods, leave=False, desc=f'{strategy}-rolling periods'):\n",
    "        param1_roll_median = opt_df.param1.iloc[:-1].rolling(n).median()\n",
    "        param1_roll_mean = opt_df.param1.iloc[:-1].rolling(n).mean()\n",
    "        param1_roll_mode = opt_df.param1.iloc[:-1].rolling(n).apply(lambda x: mode(x)[0])\n",
    "\n",
    "        param2_roll_median = opt_df.param2.iloc[:-1].rolling(n).median()\n",
    "        param2_roll_mean = opt_df.param2.iloc[:-1].rolling(n).mean()\n",
    "        param2_roll_mode = opt_df.param2.iloc[:-1].rolling(n).apply(lambda x: mode(x)[0])\n",
    "\n",
    "        # median\n",
    "        param1_p = param1_roll_median.values\n",
    "        param2_p = param2_roll_median.values\n",
    "        param2_p = np.where(param2_p < 0.01, 0.01, param2_p)\n",
    "        params = [*zip(param1_p, param2_p)]\n",
    "        test_returns =  p_umap(get_strategy_return, \n",
    "                               repeat(data_sql), \n",
    "                               params, \n",
    "                               repeat(freq), \n",
    "                               start_dates[-len(params):], \n",
    "                               end_dates[-len(params):], \n",
    "                               repeat(strategy),\n",
    "                               leave=False,\n",
    "                               desc='median')\n",
    "        test_returns = pd.DataFrame(test_returns, columns=['params', 'returns'])\n",
    "        median_winrate = test_returns.returns.apply(np.sign).value_counts(normalize=True)[1]\n",
    "        median_ret = test_returns.returns.mean()\n",
    "        results.append(('median', n, median_winrate, median_ret))\n",
    "\n",
    "        # mean\n",
    "        param1_p = param1_roll_mean.values\n",
    "        param2_p = param2_roll_mean.values\n",
    "        param2_p = np.where(param2_p < 0.01, 0.01, param2_p)\n",
    "        params = [*zip(param1_p, param2_p)]\n",
    "        test_returns =  p_umap(get_strategy_return, \n",
    "                               repeat(data_sql), \n",
    "                               params, \n",
    "                               repeat(freq), \n",
    "                               start_dates[-len(params):], \n",
    "                               end_dates[-len(params):], \n",
    "                               repeat(strategy),\n",
    "                               leave=False,\n",
    "                               desc='mean')\n",
    "        test_returns = pd.DataFrame(test_returns, columns=['params', 'returns'])\n",
    "        mean_winrate = test_returns.returns.apply(np.sign).value_counts(normalize=True)[1]\n",
    "        mean_ret = test_returns.returns.mean()\n",
    "        results.append(('mean', n, mean_winrate, mean_ret))\n",
    "\n",
    "        # mode\n",
    "        param1_p = param1_roll_mode.values\n",
    "        param2_p = param2_roll_mode.values\n",
    "        param2_p = np.where(param2_p < 0.01, 0.01, param2_p)\n",
    "        params = [*zip(param1_p, param2_p)]\n",
    "        test_returns =  p_umap(get_strategy_return, \n",
    "                               repeat(data_sql), \n",
    "                               params, \n",
    "                               repeat(freq), \n",
    "                               start_dates[-len(params):], \n",
    "                               end_dates[-len(params):], \n",
    "                               repeat(strategy),\n",
    "                               leave=False,\n",
    "                               desc='mode')\n",
    "        test_returns = pd.DataFrame(test_returns, columns=['params', 'returns'])\n",
    "        mode_winrate = test_returns.returns.apply(np.sign).value_counts(normalize=True)[1]\n",
    "        mode_ret = test_returns.returns.mean()\n",
    "        results.append(('mode', n, mode_winrate, mode_ret))\n",
    "        \n",
    "    res_df = pd.DataFrame(results, columns = ['agg_methods', 'n_periods', 'win_rates', 'returns'])\n",
    "    res_df.sort_values(by='returns', ascending=False, inplace=True)\n",
    "    res_df.reset_index(inplace=True, drop=True)\n",
    "    \n",
    "    pos_ret = res_df.query('returns > 0')\n",
    "    if len(pos_ret) > 0:\n",
    "        best_agg = pos_ret.loc[0].agg_methods\n",
    "        best_n = pos_ret.loc[0].n_periods\n",
    "        winrate = pos_ret.loc[0].win_rates\n",
    "        ret = pos_ret.loc[0].returns\n",
    "        return (strategy, best_agg, best_n, winrate, ret)\n",
    "    else:\n",
    "        return (strategy, None, np.nan, np.nan, np.nan)"
   ]
  },
  {
   "cell_type": "code",
   "execution_count": 6,
   "id": "f692a37c",
   "metadata": {
    "ExecuteTime": {
     "end_time": "2022-09-02T09:03:46.554645Z",
     "start_time": "2022-09-02T09:01:07.287051Z"
    },
    "scrolled": true
   },
   "outputs": [
    {
     "data": {
      "application/vnd.jupyter.widget-view+json": {
       "model_id": "b85e4535f1b04365b1d4b29f4dc658ea",
       "version_major": 2,
       "version_minor": 0
      },
      "text/plain": [
       "tickers:   0%|          | 0/25 [00:00<?, ?it/s]"
      ]
     },
     "metadata": {},
     "output_type": "display_data"
    },
    {
     "data": {
      "application/vnd.jupyter.widget-view+json": {
       "model_id": "5e2eb791ab1b4a8dafca95d2fad171be",
       "version_major": 2,
       "version_minor": 0
      },
      "text/plain": [
       "EUR/USD:   0%|          | 0/13 [00:00<?, ?it/s]"
      ]
     },
     "metadata": {},
     "output_type": "display_data"
    },
    {
     "data": {
      "application/vnd.jupyter.widget-view+json": {
       "model_id": "",
       "version_major": 2,
       "version_minor": 0
      },
      "text/plain": [
       "SMA-optimizing:   0%|          | 0/80 [00:00<?, ?it/s]"
      ]
     },
     "metadata": {},
     "output_type": "display_data"
    },
    {
     "data": {
      "application/vnd.jupyter.widget-view+json": {
       "model_id": "c5f983b4f22043cda1d68f76526d3098",
       "version_major": 2,
       "version_minor": 0
      },
      "text/plain": [
       "SMA-rolling periods:   0%|          | 0/55 [00:00<?, ?it/s]"
      ]
     },
     "metadata": {},
     "output_type": "display_data"
    },
    {
     "data": {
      "application/vnd.jupyter.widget-view+json": {
       "model_id": "",
       "version_major": 2,
       "version_minor": 0
      },
      "text/plain": [
       "median:   0%|          | 0/79 [00:00<?, ?it/s]"
      ]
     },
     "metadata": {},
     "output_type": "display_data"
    },
    {
     "data": {
      "application/vnd.jupyter.widget-view+json": {
       "model_id": "",
       "version_major": 2,
       "version_minor": 0
      },
      "text/plain": [
       "mean:   0%|          | 0/79 [00:00<?, ?it/s]"
      ]
     },
     "metadata": {},
     "output_type": "display_data"
    },
    {
     "data": {
      "application/vnd.jupyter.widget-view+json": {
       "model_id": "",
       "version_major": 2,
       "version_minor": 0
      },
      "text/plain": [
       "mode:   0%|          | 0/79 [00:00<?, ?it/s]"
      ]
     },
     "metadata": {},
     "output_type": "display_data"
    },
    {
     "data": {
      "application/vnd.jupyter.widget-view+json": {
       "model_id": "",
       "version_major": 2,
       "version_minor": 0
      },
      "text/plain": [
       "median:   0%|          | 0/79 [00:00<?, ?it/s]"
      ]
     },
     "metadata": {},
     "output_type": "display_data"
    },
    {
     "data": {
      "application/vnd.jupyter.widget-view+json": {
       "model_id": "",
       "version_major": 2,
       "version_minor": 0
      },
      "text/plain": [
       "mean:   0%|          | 0/79 [00:00<?, ?it/s]"
      ]
     },
     "metadata": {},
     "output_type": "display_data"
    },
    {
     "data": {
      "application/vnd.jupyter.widget-view+json": {
       "model_id": "",
       "version_major": 2,
       "version_minor": 0
      },
      "text/plain": [
       "mode:   0%|          | 0/79 [00:00<?, ?it/s]"
      ]
     },
     "metadata": {},
     "output_type": "display_data"
    },
    {
     "data": {
      "application/vnd.jupyter.widget-view+json": {
       "model_id": "",
       "version_major": 2,
       "version_minor": 0
      },
      "text/plain": [
       "median:   0%|          | 0/79 [00:00<?, ?it/s]"
      ]
     },
     "metadata": {},
     "output_type": "display_data"
    },
    {
     "data": {
      "application/vnd.jupyter.widget-view+json": {
       "model_id": "",
       "version_major": 2,
       "version_minor": 0
      },
      "text/plain": [
       "mean:   0%|          | 0/79 [00:00<?, ?it/s]"
      ]
     },
     "metadata": {},
     "output_type": "display_data"
    },
    {
     "data": {
      "application/vnd.jupyter.widget-view+json": {
       "model_id": "",
       "version_major": 2,
       "version_minor": 0
      },
      "text/plain": [
       "mode:   0%|          | 0/79 [00:00<?, ?it/s]"
      ]
     },
     "metadata": {},
     "output_type": "display_data"
    },
    {
     "data": {
      "application/vnd.jupyter.widget-view+json": {
       "model_id": "",
       "version_major": 2,
       "version_minor": 0
      },
      "text/plain": [
       "median:   0%|          | 0/79 [00:00<?, ?it/s]"
      ]
     },
     "metadata": {},
     "output_type": "display_data"
    },
    {
     "data": {
      "application/vnd.jupyter.widget-view+json": {
       "model_id": "",
       "version_major": 2,
       "version_minor": 0
      },
      "text/plain": [
       "mean:   0%|          | 0/79 [00:00<?, ?it/s]"
      ]
     },
     "metadata": {},
     "output_type": "display_data"
    },
    {
     "data": {
      "application/vnd.jupyter.widget-view+json": {
       "model_id": "",
       "version_major": 2,
       "version_minor": 0
      },
      "text/plain": [
       "mode:   0%|          | 0/79 [00:00<?, ?it/s]"
      ]
     },
     "metadata": {},
     "output_type": "display_data"
    },
    {
     "data": {
      "application/vnd.jupyter.widget-view+json": {
       "model_id": "",
       "version_major": 2,
       "version_minor": 0
      },
      "text/plain": [
       "median:   0%|          | 0/79 [00:00<?, ?it/s]"
      ]
     },
     "metadata": {},
     "output_type": "display_data"
    },
    {
     "data": {
      "application/vnd.jupyter.widget-view+json": {
       "model_id": "",
       "version_major": 2,
       "version_minor": 0
      },
      "text/plain": [
       "mean:   0%|          | 0/79 [00:00<?, ?it/s]"
      ]
     },
     "metadata": {},
     "output_type": "display_data"
    },
    {
     "data": {
      "application/vnd.jupyter.widget-view+json": {
       "model_id": "",
       "version_major": 2,
       "version_minor": 0
      },
      "text/plain": [
       "mode:   0%|          | 0/79 [00:00<?, ?it/s]"
      ]
     },
     "metadata": {},
     "output_type": "display_data"
    },
    {
     "data": {
      "application/vnd.jupyter.widget-view+json": {
       "model_id": "",
       "version_major": 2,
       "version_minor": 0
      },
      "text/plain": [
       "median:   0%|          | 0/79 [00:00<?, ?it/s]"
      ]
     },
     "metadata": {},
     "output_type": "display_data"
    },
    {
     "data": {
      "application/vnd.jupyter.widget-view+json": {
       "model_id": "",
       "version_major": 2,
       "version_minor": 0
      },
      "text/plain": [
       "mean:   0%|          | 0/79 [00:00<?, ?it/s]"
      ]
     },
     "metadata": {},
     "output_type": "display_data"
    },
    {
     "data": {
      "application/vnd.jupyter.widget-view+json": {
       "model_id": "",
       "version_major": 2,
       "version_minor": 0
      },
      "text/plain": [
       "mode:   0%|          | 0/79 [00:00<?, ?it/s]"
      ]
     },
     "metadata": {},
     "output_type": "display_data"
    },
    {
     "data": {
      "application/vnd.jupyter.widget-view+json": {
       "model_id": "",
       "version_major": 2,
       "version_minor": 0
      },
      "text/plain": [
       "median:   0%|          | 0/79 [00:00<?, ?it/s]"
      ]
     },
     "metadata": {},
     "output_type": "display_data"
    },
    {
     "data": {
      "application/vnd.jupyter.widget-view+json": {
       "model_id": "",
       "version_major": 2,
       "version_minor": 0
      },
      "text/plain": [
       "mean:   0%|          | 0/79 [00:00<?, ?it/s]"
      ]
     },
     "metadata": {},
     "output_type": "display_data"
    },
    {
     "data": {
      "application/vnd.jupyter.widget-view+json": {
       "model_id": "",
       "version_major": 2,
       "version_minor": 0
      },
      "text/plain": [
       "mode:   0%|          | 0/79 [00:00<?, ?it/s]"
      ]
     },
     "metadata": {},
     "output_type": "display_data"
    },
    {
     "data": {
      "application/vnd.jupyter.widget-view+json": {
       "model_id": "",
       "version_major": 2,
       "version_minor": 0
      },
      "text/plain": [
       "median:   0%|          | 0/79 [00:00<?, ?it/s]"
      ]
     },
     "metadata": {},
     "output_type": "display_data"
    },
    {
     "data": {
      "application/vnd.jupyter.widget-view+json": {
       "model_id": "",
       "version_major": 2,
       "version_minor": 0
      },
      "text/plain": [
       "mean:   0%|          | 0/79 [00:00<?, ?it/s]"
      ]
     },
     "metadata": {},
     "output_type": "display_data"
    },
    {
     "data": {
      "application/vnd.jupyter.widget-view+json": {
       "model_id": "",
       "version_major": 2,
       "version_minor": 0
      },
      "text/plain": [
       "mode:   0%|          | 0/79 [00:00<?, ?it/s]"
      ]
     },
     "metadata": {},
     "output_type": "display_data"
    },
    {
     "data": {
      "application/vnd.jupyter.widget-view+json": {
       "model_id": "",
       "version_major": 2,
       "version_minor": 0
      },
      "text/plain": [
       "median:   0%|          | 0/79 [00:00<?, ?it/s]"
      ]
     },
     "metadata": {},
     "output_type": "display_data"
    },
    {
     "data": {
      "application/vnd.jupyter.widget-view+json": {
       "model_id": "",
       "version_major": 2,
       "version_minor": 0
      },
      "text/plain": [
       "mean:   0%|          | 0/79 [00:00<?, ?it/s]"
      ]
     },
     "metadata": {},
     "output_type": "display_data"
    },
    {
     "data": {
      "application/vnd.jupyter.widget-view+json": {
       "model_id": "",
       "version_major": 2,
       "version_minor": 0
      },
      "text/plain": [
       "mode:   0%|          | 0/79 [00:00<?, ?it/s]"
      ]
     },
     "metadata": {},
     "output_type": "display_data"
    },
    {
     "data": {
      "application/vnd.jupyter.widget-view+json": {
       "model_id": "",
       "version_major": 2,
       "version_minor": 0
      },
      "text/plain": [
       "median:   0%|          | 0/79 [00:00<?, ?it/s]"
      ]
     },
     "metadata": {},
     "output_type": "display_data"
    },
    {
     "data": {
      "application/vnd.jupyter.widget-view+json": {
       "model_id": "",
       "version_major": 2,
       "version_minor": 0
      },
      "text/plain": [
       "mean:   0%|          | 0/79 [00:00<?, ?it/s]"
      ]
     },
     "metadata": {},
     "output_type": "display_data"
    },
    {
     "data": {
      "application/vnd.jupyter.widget-view+json": {
       "model_id": "",
       "version_major": 2,
       "version_minor": 0
      },
      "text/plain": [
       "mode:   0%|          | 0/79 [00:00<?, ?it/s]"
      ]
     },
     "metadata": {},
     "output_type": "display_data"
    },
    {
     "data": {
      "application/vnd.jupyter.widget-view+json": {
       "model_id": "",
       "version_major": 2,
       "version_minor": 0
      },
      "text/plain": [
       "median:   0%|          | 0/79 [00:00<?, ?it/s]"
      ]
     },
     "metadata": {},
     "output_type": "display_data"
    },
    {
     "data": {
      "application/vnd.jupyter.widget-view+json": {
       "model_id": "",
       "version_major": 2,
       "version_minor": 0
      },
      "text/plain": [
       "mean:   0%|          | 0/79 [00:00<?, ?it/s]"
      ]
     },
     "metadata": {},
     "output_type": "display_data"
    },
    {
     "data": {
      "application/vnd.jupyter.widget-view+json": {
       "model_id": "",
       "version_major": 2,
       "version_minor": 0
      },
      "text/plain": [
       "mode:   0%|          | 0/79 [00:00<?, ?it/s]"
      ]
     },
     "metadata": {},
     "output_type": "display_data"
    },
    {
     "data": {
      "application/vnd.jupyter.widget-view+json": {
       "model_id": "",
       "version_major": 2,
       "version_minor": 0
      },
      "text/plain": [
       "median:   0%|          | 0/79 [00:00<?, ?it/s]"
      ]
     },
     "metadata": {},
     "output_type": "display_data"
    },
    {
     "data": {
      "application/vnd.jupyter.widget-view+json": {
       "model_id": "",
       "version_major": 2,
       "version_minor": 0
      },
      "text/plain": [
       "mean:   0%|          | 0/79 [00:00<?, ?it/s]"
      ]
     },
     "metadata": {},
     "output_type": "display_data"
    },
    {
     "data": {
      "application/vnd.jupyter.widget-view+json": {
       "model_id": "",
       "version_major": 2,
       "version_minor": 0
      },
      "text/plain": [
       "mode:   0%|          | 0/79 [00:00<?, ?it/s]"
      ]
     },
     "metadata": {},
     "output_type": "display_data"
    },
    {
     "data": {
      "application/vnd.jupyter.widget-view+json": {
       "model_id": "",
       "version_major": 2,
       "version_minor": 0
      },
      "text/plain": [
       "median:   0%|          | 0/79 [00:00<?, ?it/s]"
      ]
     },
     "metadata": {},
     "output_type": "display_data"
    },
    {
     "data": {
      "application/vnd.jupyter.widget-view+json": {
       "model_id": "",
       "version_major": 2,
       "version_minor": 0
      },
      "text/plain": [
       "mean:   0%|          | 0/79 [00:00<?, ?it/s]"
      ]
     },
     "metadata": {},
     "output_type": "display_data"
    },
    {
     "data": {
      "application/vnd.jupyter.widget-view+json": {
       "model_id": "",
       "version_major": 2,
       "version_minor": 0
      },
      "text/plain": [
       "mode:   0%|          | 0/79 [00:00<?, ?it/s]"
      ]
     },
     "metadata": {},
     "output_type": "display_data"
    },
    {
     "data": {
      "application/vnd.jupyter.widget-view+json": {
       "model_id": "",
       "version_major": 2,
       "version_minor": 0
      },
      "text/plain": [
       "median:   0%|          | 0/79 [00:00<?, ?it/s]"
      ]
     },
     "metadata": {},
     "output_type": "display_data"
    },
    {
     "data": {
      "application/vnd.jupyter.widget-view+json": {
       "model_id": "",
       "version_major": 2,
       "version_minor": 0
      },
      "text/plain": [
       "mean:   0%|          | 0/79 [00:00<?, ?it/s]"
      ]
     },
     "metadata": {},
     "output_type": "display_data"
    },
    {
     "data": {
      "application/vnd.jupyter.widget-view+json": {
       "model_id": "",
       "version_major": 2,
       "version_minor": 0
      },
      "text/plain": [
       "mode:   0%|          | 0/79 [00:00<?, ?it/s]"
      ]
     },
     "metadata": {},
     "output_type": "display_data"
    },
    {
     "data": {
      "application/vnd.jupyter.widget-view+json": {
       "model_id": "",
       "version_major": 2,
       "version_minor": 0
      },
      "text/plain": [
       "median:   0%|          | 0/79 [00:00<?, ?it/s]"
      ]
     },
     "metadata": {},
     "output_type": "display_data"
    },
    {
     "data": {
      "application/vnd.jupyter.widget-view+json": {
       "model_id": "",
       "version_major": 2,
       "version_minor": 0
      },
      "text/plain": [
       "mean:   0%|          | 0/79 [00:00<?, ?it/s]"
      ]
     },
     "metadata": {},
     "output_type": "display_data"
    },
    {
     "data": {
      "application/vnd.jupyter.widget-view+json": {
       "model_id": "",
       "version_major": 2,
       "version_minor": 0
      },
      "text/plain": [
       "mode:   0%|          | 0/79 [00:00<?, ?it/s]"
      ]
     },
     "metadata": {},
     "output_type": "display_data"
    },
    {
     "data": {
      "application/vnd.jupyter.widget-view+json": {
       "model_id": "",
       "version_major": 2,
       "version_minor": 0
      },
      "text/plain": [
       "median:   0%|          | 0/79 [00:00<?, ?it/s]"
      ]
     },
     "metadata": {},
     "output_type": "display_data"
    },
    {
     "data": {
      "application/vnd.jupyter.widget-view+json": {
       "model_id": "",
       "version_major": 2,
       "version_minor": 0
      },
      "text/plain": [
       "mean:   0%|          | 0/79 [00:00<?, ?it/s]"
      ]
     },
     "metadata": {},
     "output_type": "display_data"
    },
    {
     "data": {
      "application/vnd.jupyter.widget-view+json": {
       "model_id": "",
       "version_major": 2,
       "version_minor": 0
      },
      "text/plain": [
       "mode:   0%|          | 0/79 [00:00<?, ?it/s]"
      ]
     },
     "metadata": {},
     "output_type": "display_data"
    },
    {
     "data": {
      "application/vnd.jupyter.widget-view+json": {
       "model_id": "",
       "version_major": 2,
       "version_minor": 0
      },
      "text/plain": [
       "median:   0%|          | 0/79 [00:00<?, ?it/s]"
      ]
     },
     "metadata": {},
     "output_type": "display_data"
    },
    {
     "data": {
      "application/vnd.jupyter.widget-view+json": {
       "model_id": "",
       "version_major": 2,
       "version_minor": 0
      },
      "text/plain": [
       "mean:   0%|          | 0/79 [00:00<?, ?it/s]"
      ]
     },
     "metadata": {},
     "output_type": "display_data"
    },
    {
     "data": {
      "application/vnd.jupyter.widget-view+json": {
       "model_id": "",
       "version_major": 2,
       "version_minor": 0
      },
      "text/plain": [
       "mode:   0%|          | 0/79 [00:00<?, ?it/s]"
      ]
     },
     "metadata": {},
     "output_type": "display_data"
    },
    {
     "data": {
      "application/vnd.jupyter.widget-view+json": {
       "model_id": "",
       "version_major": 2,
       "version_minor": 0
      },
      "text/plain": [
       "median:   0%|          | 0/79 [00:00<?, ?it/s]"
      ]
     },
     "metadata": {},
     "output_type": "display_data"
    },
    {
     "data": {
      "application/vnd.jupyter.widget-view+json": {
       "model_id": "",
       "version_major": 2,
       "version_minor": 0
      },
      "text/plain": [
       "mean:   0%|          | 0/79 [00:00<?, ?it/s]"
      ]
     },
     "metadata": {},
     "output_type": "display_data"
    },
    {
     "data": {
      "application/vnd.jupyter.widget-view+json": {
       "model_id": "",
       "version_major": 2,
       "version_minor": 0
      },
      "text/plain": [
       "mode:   0%|          | 0/79 [00:00<?, ?it/s]"
      ]
     },
     "metadata": {},
     "output_type": "display_data"
    },
    {
     "data": {
      "application/vnd.jupyter.widget-view+json": {
       "model_id": "",
       "version_major": 2,
       "version_minor": 0
      },
      "text/plain": [
       "median:   0%|          | 0/79 [00:00<?, ?it/s]"
      ]
     },
     "metadata": {},
     "output_type": "display_data"
    },
    {
     "data": {
      "application/vnd.jupyter.widget-view+json": {
       "model_id": "",
       "version_major": 2,
       "version_minor": 0
      },
      "text/plain": [
       "mean:   0%|          | 0/79 [00:00<?, ?it/s]"
      ]
     },
     "metadata": {},
     "output_type": "display_data"
    },
    {
     "data": {
      "application/vnd.jupyter.widget-view+json": {
       "model_id": "",
       "version_major": 2,
       "version_minor": 0
      },
      "text/plain": [
       "mode:   0%|          | 0/79 [00:00<?, ?it/s]"
      ]
     },
     "metadata": {},
     "output_type": "display_data"
    },
    {
     "data": {
      "application/vnd.jupyter.widget-view+json": {
       "model_id": "",
       "version_major": 2,
       "version_minor": 0
      },
      "text/plain": [
       "median:   0%|          | 0/79 [00:00<?, ?it/s]"
      ]
     },
     "metadata": {},
     "output_type": "display_data"
    },
    {
     "data": {
      "application/vnd.jupyter.widget-view+json": {
       "model_id": "",
       "version_major": 2,
       "version_minor": 0
      },
      "text/plain": [
       "mean:   0%|          | 0/79 [00:00<?, ?it/s]"
      ]
     },
     "metadata": {},
     "output_type": "display_data"
    },
    {
     "data": {
      "application/vnd.jupyter.widget-view+json": {
       "model_id": "",
       "version_major": 2,
       "version_minor": 0
      },
      "text/plain": [
       "mode:   0%|          | 0/79 [00:00<?, ?it/s]"
      ]
     },
     "metadata": {},
     "output_type": "display_data"
    },
    {
     "data": {
      "application/vnd.jupyter.widget-view+json": {
       "model_id": "",
       "version_major": 2,
       "version_minor": 0
      },
      "text/plain": [
       "median:   0%|          | 0/79 [00:00<?, ?it/s]"
      ]
     },
     "metadata": {},
     "output_type": "display_data"
    },
    {
     "data": {
      "application/vnd.jupyter.widget-view+json": {
       "model_id": "",
       "version_major": 2,
       "version_minor": 0
      },
      "text/plain": [
       "mean:   0%|          | 0/79 [00:00<?, ?it/s]"
      ]
     },
     "metadata": {},
     "output_type": "display_data"
    },
    {
     "data": {
      "application/vnd.jupyter.widget-view+json": {
       "model_id": "",
       "version_major": 2,
       "version_minor": 0
      },
      "text/plain": [
       "mode:   0%|          | 0/79 [00:00<?, ?it/s]"
      ]
     },
     "metadata": {},
     "output_type": "display_data"
    },
    {
     "data": {
      "application/vnd.jupyter.widget-view+json": {
       "model_id": "",
       "version_major": 2,
       "version_minor": 0
      },
      "text/plain": [
       "median:   0%|          | 0/79 [00:00<?, ?it/s]"
      ]
     },
     "metadata": {},
     "output_type": "display_data"
    },
    {
     "data": {
      "application/vnd.jupyter.widget-view+json": {
       "model_id": "",
       "version_major": 2,
       "version_minor": 0
      },
      "text/plain": [
       "mean:   0%|          | 0/79 [00:00<?, ?it/s]"
      ]
     },
     "metadata": {},
     "output_type": "display_data"
    },
    {
     "data": {
      "application/vnd.jupyter.widget-view+json": {
       "model_id": "",
       "version_major": 2,
       "version_minor": 0
      },
      "text/plain": [
       "mode:   0%|          | 0/79 [00:00<?, ?it/s]"
      ]
     },
     "metadata": {},
     "output_type": "display_data"
    },
    {
     "data": {
      "application/vnd.jupyter.widget-view+json": {
       "model_id": "",
       "version_major": 2,
       "version_minor": 0
      },
      "text/plain": [
       "median:   0%|          | 0/79 [00:00<?, ?it/s]"
      ]
     },
     "metadata": {},
     "output_type": "display_data"
    },
    {
     "data": {
      "application/vnd.jupyter.widget-view+json": {
       "model_id": "",
       "version_major": 2,
       "version_minor": 0
      },
      "text/plain": [
       "mean:   0%|          | 0/79 [00:00<?, ?it/s]"
      ]
     },
     "metadata": {},
     "output_type": "display_data"
    },
    {
     "data": {
      "application/vnd.jupyter.widget-view+json": {
       "model_id": "",
       "version_major": 2,
       "version_minor": 0
      },
      "text/plain": [
       "mode:   0%|          | 0/79 [00:00<?, ?it/s]"
      ]
     },
     "metadata": {},
     "output_type": "display_data"
    },
    {
     "data": {
      "application/vnd.jupyter.widget-view+json": {
       "model_id": "",
       "version_major": 2,
       "version_minor": 0
      },
      "text/plain": [
       "median:   0%|          | 0/79 [00:00<?, ?it/s]"
      ]
     },
     "metadata": {},
     "output_type": "display_data"
    },
    {
     "data": {
      "application/vnd.jupyter.widget-view+json": {
       "model_id": "",
       "version_major": 2,
       "version_minor": 0
      },
      "text/plain": [
       "mean:   0%|          | 0/79 [00:00<?, ?it/s]"
      ]
     },
     "metadata": {},
     "output_type": "display_data"
    },
    {
     "data": {
      "application/vnd.jupyter.widget-view+json": {
       "model_id": "",
       "version_major": 2,
       "version_minor": 0
      },
      "text/plain": [
       "mode:   0%|          | 0/79 [00:00<?, ?it/s]"
      ]
     },
     "metadata": {},
     "output_type": "display_data"
    },
    {
     "data": {
      "application/vnd.jupyter.widget-view+json": {
       "model_id": "",
       "version_major": 2,
       "version_minor": 0
      },
      "text/plain": [
       "median:   0%|          | 0/79 [00:00<?, ?it/s]"
      ]
     },
     "metadata": {},
     "output_type": "display_data"
    },
    {
     "data": {
      "application/vnd.jupyter.widget-view+json": {
       "model_id": "",
       "version_major": 2,
       "version_minor": 0
      },
      "text/plain": [
       "mean:   0%|          | 0/79 [00:00<?, ?it/s]"
      ]
     },
     "metadata": {},
     "output_type": "display_data"
    },
    {
     "data": {
      "application/vnd.jupyter.widget-view+json": {
       "model_id": "",
       "version_major": 2,
       "version_minor": 0
      },
      "text/plain": [
       "mode:   0%|          | 0/79 [00:00<?, ?it/s]"
      ]
     },
     "metadata": {},
     "output_type": "display_data"
    },
    {
     "data": {
      "application/vnd.jupyter.widget-view+json": {
       "model_id": "",
       "version_major": 2,
       "version_minor": 0
      },
      "text/plain": [
       "median:   0%|          | 0/79 [00:00<?, ?it/s]"
      ]
     },
     "metadata": {},
     "output_type": "display_data"
    },
    {
     "data": {
      "application/vnd.jupyter.widget-view+json": {
       "model_id": "",
       "version_major": 2,
       "version_minor": 0
      },
      "text/plain": [
       "mean:   0%|          | 0/79 [00:00<?, ?it/s]"
      ]
     },
     "metadata": {},
     "output_type": "display_data"
    },
    {
     "data": {
      "application/vnd.jupyter.widget-view+json": {
       "model_id": "",
       "version_major": 2,
       "version_minor": 0
      },
      "text/plain": [
       "mode:   0%|          | 0/79 [00:00<?, ?it/s]"
      ]
     },
     "metadata": {},
     "output_type": "display_data"
    },
    {
     "data": {
      "application/vnd.jupyter.widget-view+json": {
       "model_id": "",
       "version_major": 2,
       "version_minor": 0
      },
      "text/plain": [
       "median:   0%|          | 0/79 [00:00<?, ?it/s]"
      ]
     },
     "metadata": {},
     "output_type": "display_data"
    },
    {
     "data": {
      "application/vnd.jupyter.widget-view+json": {
       "model_id": "",
       "version_major": 2,
       "version_minor": 0
      },
      "text/plain": [
       "mean:   0%|          | 0/79 [00:00<?, ?it/s]"
      ]
     },
     "metadata": {},
     "output_type": "display_data"
    },
    {
     "data": {
      "application/vnd.jupyter.widget-view+json": {
       "model_id": "",
       "version_major": 2,
       "version_minor": 0
      },
      "text/plain": [
       "mode:   0%|          | 0/79 [00:00<?, ?it/s]"
      ]
     },
     "metadata": {},
     "output_type": "display_data"
    },
    {
     "data": {
      "application/vnd.jupyter.widget-view+json": {
       "model_id": "",
       "version_major": 2,
       "version_minor": 0
      },
      "text/plain": [
       "median:   0%|          | 0/79 [00:00<?, ?it/s]"
      ]
     },
     "metadata": {},
     "output_type": "display_data"
    },
    {
     "data": {
      "application/vnd.jupyter.widget-view+json": {
       "model_id": "",
       "version_major": 2,
       "version_minor": 0
      },
      "text/plain": [
       "mean:   0%|          | 0/79 [00:00<?, ?it/s]"
      ]
     },
     "metadata": {},
     "output_type": "display_data"
    },
    {
     "data": {
      "application/vnd.jupyter.widget-view+json": {
       "model_id": "",
       "version_major": 2,
       "version_minor": 0
      },
      "text/plain": [
       "mode:   0%|          | 0/79 [00:00<?, ?it/s]"
      ]
     },
     "metadata": {},
     "output_type": "display_data"
    },
    {
     "data": {
      "application/vnd.jupyter.widget-view+json": {
       "model_id": "",
       "version_major": 2,
       "version_minor": 0
      },
      "text/plain": [
       "median:   0%|          | 0/79 [00:00<?, ?it/s]"
      ]
     },
     "metadata": {},
     "output_type": "display_data"
    },
    {
     "data": {
      "application/vnd.jupyter.widget-view+json": {
       "model_id": "",
       "version_major": 2,
       "version_minor": 0
      },
      "text/plain": [
       "mean:   0%|          | 0/79 [00:00<?, ?it/s]"
      ]
     },
     "metadata": {},
     "output_type": "display_data"
    },
    {
     "data": {
      "application/vnd.jupyter.widget-view+json": {
       "model_id": "",
       "version_major": 2,
       "version_minor": 0
      },
      "text/plain": [
       "mode:   0%|          | 0/79 [00:00<?, ?it/s]"
      ]
     },
     "metadata": {},
     "output_type": "display_data"
    },
    {
     "data": {
      "application/vnd.jupyter.widget-view+json": {
       "model_id": "",
       "version_major": 2,
       "version_minor": 0
      },
      "text/plain": [
       "median:   0%|          | 0/79 [00:00<?, ?it/s]"
      ]
     },
     "metadata": {},
     "output_type": "display_data"
    },
    {
     "data": {
      "application/vnd.jupyter.widget-view+json": {
       "model_id": "",
       "version_major": 2,
       "version_minor": 0
      },
      "text/plain": [
       "mean:   0%|          | 0/79 [00:00<?, ?it/s]"
      ]
     },
     "metadata": {},
     "output_type": "display_data"
    },
    {
     "data": {
      "application/vnd.jupyter.widget-view+json": {
       "model_id": "",
       "version_major": 2,
       "version_minor": 0
      },
      "text/plain": [
       "mode:   0%|          | 0/79 [00:00<?, ?it/s]"
      ]
     },
     "metadata": {},
     "output_type": "display_data"
    },
    {
     "data": {
      "application/vnd.jupyter.widget-view+json": {
       "model_id": "",
       "version_major": 2,
       "version_minor": 0
      },
      "text/plain": [
       "median:   0%|          | 0/79 [00:00<?, ?it/s]"
      ]
     },
     "metadata": {},
     "output_type": "display_data"
    },
    {
     "data": {
      "application/vnd.jupyter.widget-view+json": {
       "model_id": "",
       "version_major": 2,
       "version_minor": 0
      },
      "text/plain": [
       "mean:   0%|          | 0/79 [00:00<?, ?it/s]"
      ]
     },
     "metadata": {},
     "output_type": "display_data"
    },
    {
     "data": {
      "application/vnd.jupyter.widget-view+json": {
       "model_id": "",
       "version_major": 2,
       "version_minor": 0
      },
      "text/plain": [
       "mode:   0%|          | 0/79 [00:00<?, ?it/s]"
      ]
     },
     "metadata": {},
     "output_type": "display_data"
    },
    {
     "data": {
      "application/vnd.jupyter.widget-view+json": {
       "model_id": "",
       "version_major": 2,
       "version_minor": 0
      },
      "text/plain": [
       "median:   0%|          | 0/79 [00:00<?, ?it/s]"
      ]
     },
     "metadata": {},
     "output_type": "display_data"
    },
    {
     "data": {
      "application/vnd.jupyter.widget-view+json": {
       "model_id": "",
       "version_major": 2,
       "version_minor": 0
      },
      "text/plain": [
       "mean:   0%|          | 0/79 [00:00<?, ?it/s]"
      ]
     },
     "metadata": {},
     "output_type": "display_data"
    },
    {
     "data": {
      "application/vnd.jupyter.widget-view+json": {
       "model_id": "",
       "version_major": 2,
       "version_minor": 0
      },
      "text/plain": [
       "mode:   0%|          | 0/79 [00:00<?, ?it/s]"
      ]
     },
     "metadata": {},
     "output_type": "display_data"
    },
    {
     "data": {
      "application/vnd.jupyter.widget-view+json": {
       "model_id": "",
       "version_major": 2,
       "version_minor": 0
      },
      "text/plain": [
       "median:   0%|          | 0/79 [00:00<?, ?it/s]"
      ]
     },
     "metadata": {},
     "output_type": "display_data"
    },
    {
     "data": {
      "application/vnd.jupyter.widget-view+json": {
       "model_id": "",
       "version_major": 2,
       "version_minor": 0
      },
      "text/plain": [
       "mean:   0%|          | 0/79 [00:00<?, ?it/s]"
      ]
     },
     "metadata": {},
     "output_type": "display_data"
    },
    {
     "data": {
      "application/vnd.jupyter.widget-view+json": {
       "model_id": "",
       "version_major": 2,
       "version_minor": 0
      },
      "text/plain": [
       "mode:   0%|          | 0/79 [00:00<?, ?it/s]"
      ]
     },
     "metadata": {},
     "output_type": "display_data"
    },
    {
     "data": {
      "application/vnd.jupyter.widget-view+json": {
       "model_id": "",
       "version_major": 2,
       "version_minor": 0
      },
      "text/plain": [
       "median:   0%|          | 0/79 [00:00<?, ?it/s]"
      ]
     },
     "metadata": {},
     "output_type": "display_data"
    },
    {
     "data": {
      "application/vnd.jupyter.widget-view+json": {
       "model_id": "",
       "version_major": 2,
       "version_minor": 0
      },
      "text/plain": [
       "mean:   0%|          | 0/79 [00:00<?, ?it/s]"
      ]
     },
     "metadata": {},
     "output_type": "display_data"
    },
    {
     "data": {
      "application/vnd.jupyter.widget-view+json": {
       "model_id": "",
       "version_major": 2,
       "version_minor": 0
      },
      "text/plain": [
       "mode:   0%|          | 0/79 [00:00<?, ?it/s]"
      ]
     },
     "metadata": {},
     "output_type": "display_data"
    },
    {
     "data": {
      "application/vnd.jupyter.widget-view+json": {
       "model_id": "2687be3269814c75907bfbf59eb2a1e1",
       "version_major": 2,
       "version_minor": 0
      },
      "text/plain": [
       "median:   0%|          | 0/79 [00:00<?, ?it/s]"
      ]
     },
     "metadata": {},
     "output_type": "display_data"
    },
    {
     "name": "stderr",
     "output_type": "stream",
     "text": [
      "Process ForkPoolWorker-831:\n",
      "Process ForkPoolWorker-826:\n",
      "Process ForkPoolWorker-832:\n",
      "Process ForkPoolWorker-829:\n",
      "Process ForkPoolWorker-825:\n",
      "Process ForkPoolWorker-828:\n",
      "Process ForkPoolWorker-830:\n",
      "Traceback (most recent call last):\n",
      "Process ForkPoolWorker-827:\n",
      "Traceback (most recent call last):\n",
      "Traceback (most recent call last):\n",
      "  File \"/home/kfuangsung/anaconda3/envs/pyenv/lib/python3.9/site-packages/multiprocess/process.py\", line 315, in _bootstrap\n",
      "    self.run()\n",
      "Traceback (most recent call last):\n",
      "Traceback (most recent call last):\n",
      "  File \"/home/kfuangsung/anaconda3/envs/pyenv/lib/python3.9/site-packages/multiprocess/process.py\", line 315, in _bootstrap\n",
      "    self.run()\n",
      "Traceback (most recent call last):\n",
      "Traceback (most recent call last):\n",
      "  File \"/home/kfuangsung/anaconda3/envs/pyenv/lib/python3.9/site-packages/multiprocess/process.py\", line 315, in _bootstrap\n",
      "    self.run()\n",
      "  File \"/home/kfuangsung/anaconda3/envs/pyenv/lib/python3.9/site-packages/multiprocess/process.py\", line 315, in _bootstrap\n",
      "    self.run()\n",
      "  File \"/home/kfuangsung/anaconda3/envs/pyenv/lib/python3.9/site-packages/multiprocess/process.py\", line 108, in run\n",
      "    self._target(*self._args, **self._kwargs)\n",
      "  File \"/home/kfuangsung/anaconda3/envs/pyenv/lib/python3.9/site-packages/multiprocess/process.py\", line 315, in _bootstrap\n",
      "    self.run()\n",
      "Traceback (most recent call last):\n",
      "  File \"/home/kfuangsung/anaconda3/envs/pyenv/lib/python3.9/site-packages/multiprocess/process.py\", line 315, in _bootstrap\n",
      "    self.run()\n",
      "  File \"/home/kfuangsung/anaconda3/envs/pyenv/lib/python3.9/site-packages/multiprocess/process.py\", line 315, in _bootstrap\n",
      "    self.run()\n",
      "  File \"/home/kfuangsung/anaconda3/envs/pyenv/lib/python3.9/site-packages/multiprocess/process.py\", line 108, in run\n",
      "    self._target(*self._args, **self._kwargs)\n",
      "  File \"/home/kfuangsung/anaconda3/envs/pyenv/lib/python3.9/site-packages/multiprocess/process.py\", line 108, in run\n",
      "    self._target(*self._args, **self._kwargs)\n",
      "  File \"/home/kfuangsung/anaconda3/envs/pyenv/lib/python3.9/site-packages/multiprocess/process.py\", line 108, in run\n",
      "    self._target(*self._args, **self._kwargs)\n",
      "  File \"/home/kfuangsung/anaconda3/envs/pyenv/lib/python3.9/site-packages/multiprocess/process.py\", line 315, in _bootstrap\n",
      "    self.run()\n",
      "  File \"/home/kfuangsung/anaconda3/envs/pyenv/lib/python3.9/site-packages/multiprocess/pool.py\", line 114, in worker\n",
      "    task = get()\n",
      "  File \"/home/kfuangsung/anaconda3/envs/pyenv/lib/python3.9/site-packages/multiprocess/process.py\", line 108, in run\n",
      "    self._target(*self._args, **self._kwargs)\n",
      "  File \"/home/kfuangsung/anaconda3/envs/pyenv/lib/python3.9/site-packages/multiprocess/pool.py\", line 114, in worker\n",
      "    task = get()\n",
      "  File \"/home/kfuangsung/anaconda3/envs/pyenv/lib/python3.9/site-packages/multiprocess/pool.py\", line 125, in worker\n",
      "    result = (True, func(*args, **kwds))\n",
      "  File \"/home/kfuangsung/anaconda3/envs/pyenv/lib/python3.9/site-packages/multiprocess/queues.py\", line 367, in get\n",
      "    with self._rlock:\n",
      "  File \"/home/kfuangsung/anaconda3/envs/pyenv/lib/python3.9/site-packages/multiprocess/pool.py\", line 114, in worker\n",
      "    task = get()\n",
      "  File \"/home/kfuangsung/anaconda3/envs/pyenv/lib/python3.9/site-packages/multiprocess/pool.py\", line 114, in worker\n",
      "    task = get()\n",
      "  File \"/home/kfuangsung/anaconda3/envs/pyenv/lib/python3.9/site-packages/multiprocess/process.py\", line 108, in run\n",
      "    self._target(*self._args, **self._kwargs)\n",
      "  File \"/home/kfuangsung/anaconda3/envs/pyenv/lib/python3.9/site-packages/multiprocess/process.py\", line 108, in run\n",
      "    self._target(*self._args, **self._kwargs)\n",
      "  File \"/home/kfuangsung/anaconda3/envs/pyenv/lib/python3.9/site-packages/multiprocess/synchronize.py\", line 101, in __enter__\n",
      "    return self._semlock.__enter__()\n",
      "  File \"/home/kfuangsung/anaconda3/envs/pyenv/lib/python3.9/site-packages/multiprocess/process.py\", line 108, in run\n",
      "    self._target(*self._args, **self._kwargs)\n",
      "  File \"/home/kfuangsung/anaconda3/envs/pyenv/lib/python3.9/site-packages/pathos/helpers/mp_helper.py\", line 15, in <lambda>\n",
      "    func = lambda args: f(*args)\n",
      "  File \"/home/kfuangsung/anaconda3/envs/pyenv/lib/python3.9/site-packages/multiprocess/queues.py\", line 367, in get\n",
      "    with self._rlock:\n",
      "  File \"/home/kfuangsung/anaconda3/envs/pyenv/lib/python3.9/site-packages/multiprocess/queues.py\", line 367, in get\n",
      "    with self._rlock:\n",
      "  File \"/home/kfuangsung/anaconda3/envs/pyenv/lib/python3.9/site-packages/multiprocess/pool.py\", line 125, in worker\n",
      "    result = (True, func(*args, **kwds))\n",
      "  File \"/home/kfuangsung/anaconda3/envs/pyenv/lib/python3.9/site-packages/multiprocess/pool.py\", line 125, in worker\n",
      "    result = (True, func(*args, **kwds))\n",
      "  File \"/home/kfuangsung/anaconda3/envs/pyenv/lib/python3.9/site-packages/multiprocess/queues.py\", line 368, in get\n",
      "    res = self._reader.recv_bytes()\n",
      "KeyboardInterrupt\n",
      "  File \"/tmp/ipykernel_9753/3778187036.py\", line 115, in get_strategy_return\n",
      "    backtester.backtest(progress_bar=False)\n",
      "  File \"/home/kfuangsung/anaconda3/envs/pyenv/lib/python3.9/site-packages/pathos/helpers/mp_helper.py\", line 15, in <lambda>\n",
      "    func = lambda args: f(*args)\n",
      "  File \"/home/kfuangsung/anaconda3/envs/pyenv/lib/python3.9/site-packages/multiprocess/synchronize.py\", line 101, in __enter__\n",
      "    return self._semlock.__enter__()\n",
      "  File \"/home/kfuangsung/anaconda3/envs/pyenv/lib/python3.9/site-packages/multiprocess/pool.py\", line 125, in worker\n",
      "    result = (True, func(*args, **kwds))\n",
      "  File \"/home/kfuangsung/anaconda3/envs/pyenv/lib/python3.9/site-packages/multiprocess/synchronize.py\", line 101, in __enter__\n",
      "    return self._semlock.__enter__()\n",
      "  File \"/home/kfuangsung/python_projects/algotrade/backtester.py\", line 192, in backtest\n",
      "    self.get_return_df()\n",
      "  File \"/home/kfuangsung/anaconda3/envs/pyenv/lib/python3.9/site-packages/multiprocess/connection.py\", line 224, in recv_bytes\n",
      "    buf = self._recv_bytes(maxlength)\n",
      "  File \"/home/kfuangsung/anaconda3/envs/pyenv/lib/python3.9/site-packages/pathos/helpers/mp_helper.py\", line 15, in <lambda>\n",
      "    func = lambda args: f(*args)\n",
      "  File \"/tmp/ipykernel_9753/3778187036.py\", line 115, in get_strategy_return\n",
      "    backtester.backtest(progress_bar=False)\n",
      "  File \"/home/kfuangsung/anaconda3/envs/pyenv/lib/python3.9/site-packages/pathos/helpers/mp_helper.py\", line 15, in <lambda>\n",
      "    func = lambda args: f(*args)\n",
      "KeyboardInterrupt\n",
      "  File \"/tmp/ipykernel_9753/3778187036.py\", line 115, in get_strategy_return\n",
      "    backtester.backtest(progress_bar=False)\n",
      "  File \"/home/kfuangsung/python_projects/algotrade/backtester.py\", line 213, in get_return_df\n",
      "    return_df.loc[:, 'AnnualReturn'] = ret_mean * self.multiplier['annual']\n",
      "  File \"/tmp/ipykernel_9753/3778187036.py\", line 115, in get_strategy_return\n",
      "    backtester.backtest(progress_bar=False)\n",
      "  File \"/home/kfuangsung/anaconda3/envs/pyenv/lib/python3.9/site-packages/multiprocess/connection.py\", line 422, in _recv_bytes\n",
      "    buf = self._recv(4)\n",
      "KeyboardInterrupt\n",
      "  File \"/home/kfuangsung/python_projects/algotrade/backtester.py\", line 195, in backtest\n",
      "    self.get_ratio_df()\n",
      "  File \"/home/kfuangsung/anaconda3/envs/pyenv/lib/python3.9/site-packages/pandas/core/indexing.py\", line 716, in __setitem__\n",
      "    iloc._setitem_with_indexer(indexer, value, self.name)\n",
      "  File \"/home/kfuangsung/python_projects/algotrade/backtester.py\", line 143, in backtest\n",
      "    signal = self.signals.iloc[i]\n",
      "  File \"/home/kfuangsung/python_projects/algotrade/backtester.py\", line 246, in get_ratio_df\n",
      "    ratio_df['StandardDeviation(%)'] = (ann_std*100).rename({'PortfolioReturns':'Portfolio', 'BenchmarkReturns':'Benchmark'})\n",
      "  File \"/home/kfuangsung/anaconda3/envs/pyenv/lib/python3.9/site-packages/multiprocess/connection.py\", line 387, in _recv\n",
      "    chunk = read(handle, remaining)\n",
      "  File \"/home/kfuangsung/anaconda3/envs/pyenv/lib/python3.9/site-packages/pandas/core/indexing.py\", line 1688, in _setitem_with_indexer\n",
      "    self._setitem_with_indexer_split_path(indexer, value, name)\n",
      "  File \"/home/kfuangsung/anaconda3/envs/pyenv/lib/python3.9/site-packages/pandas/core/indexing.py\", line 967, in __getitem__\n",
      "    return self._getitem_axis(maybe_callable, axis=axis)\n",
      "  File \"/home/kfuangsung/anaconda3/envs/pyenv/lib/python3.9/site-packages/pandas/core/series.py\", line 4601, in rename\n",
      "    return super()._rename(\n"
     ]
    },
    {
     "name": "stderr",
     "output_type": "stream",
     "text": [
      "  File \"/home/kfuangsung/anaconda3/envs/pyenv/lib/python3.9/site-packages/pandas/core/indexing.py\", line 1520, in _getitem_axis\n",
      "    self._validate_integer(key, axis)\n",
      "KeyboardInterrupt\n",
      "  File \"/home/kfuangsung/anaconda3/envs/pyenv/lib/python3.9/site-packages/pandas/core/generic.py\", line 1145, in _rename\n",
      "    indexer = ax.get_indexer_for(replacements)\n",
      "\n",
      "KeyboardInterrupt\n",
      "\n",
      "  File \"/home/kfuangsung/anaconda3/envs/pyenv/lib/python3.9/site-packages/pandas/core/indexing.py\", line 1450, in _validate_integer\n",
      "    len_axis = len(self.obj._get_axis(axis))\n",
      "  File \"/home/kfuangsung/anaconda3/envs/pyenv/lib/python3.9/site-packages/pandas/core/indexing.py\", line 1731, in _setitem_with_indexer_split_path\n",
      "    self._setitem_single_column(ilocs[0], value, pi)\n",
      "  File \"/home/kfuangsung/anaconda3/envs/pyenv/lib/python3.9/site-packages/pandas/core/indexes/base.py\", line 5764, in get_indexer_for\n",
      "    return self.get_indexer(target)\n",
      "  File \"/home/kfuangsung/python_projects/algotrade/backtester.py\", line 145, in backtest\n",
      "    bid = next_row['bidopen']\n",
      "  File \"/home/kfuangsung/anaconda3/envs/pyenv/lib/python3.9/site-packages/pandas/core/generic.py\", line 564, in _get_axis\n",
      "    return self.index if axis_number == 0 else self.columns\n",
      "  File \"/home/kfuangsung/anaconda3/envs/pyenv/lib/python3.9/site-packages/pandas/core/indexes/base.py\", line 3716, in get_indexer\n",
      "    target = self._maybe_cast_listlike_indexer(target)\n",
      "  File \"/home/kfuangsung/anaconda3/envs/pyenv/lib/python3.9/site-packages/pandas/core/series.py\", line 958, in __getitem__\n",
      "    return self._get_value(key)\n",
      "KeyboardInterrupt\n",
      "  File \"/home/kfuangsung/anaconda3/envs/pyenv/lib/python3.9/site-packages/pandas/core/indexes/base.py\", line 6297, in _maybe_cast_listlike_indexer\n",
      "    return ensure_index(target)\n",
      "  File \"/home/kfuangsung/anaconda3/envs/pyenv/lib/python3.9/site-packages/pandas/core/indexes/base.py\", line 7043, in ensure_index\n",
      "    return Index._with_infer(index_like, copy=copy)\n",
      "  File \"/home/kfuangsung/anaconda3/envs/pyenv/lib/python3.9/site-packages/pandas/core/series.py\", line 1069, in _get_value\n",
      "    loc = self.index.get_loc(label)\n",
      "  File \"/home/kfuangsung/anaconda3/envs/pyenv/lib/python3.9/site-packages/pandas/core/indexing.py\", line 1860, in _setitem_single_column\n",
      "    ser = self.obj._ixs(loc, axis=1)\n",
      "  File \"/home/kfuangsung/anaconda3/envs/pyenv/lib/python3.9/site-packages/pandas/core/indexes/base.py\", line 680, in _with_infer\n",
      "    result = cls(*args, **kwargs)\n",
      "  File \"/home/kfuangsung/anaconda3/envs/pyenv/lib/python3.9/site-packages/pandas/core/indexes/base.py\", line 3619, in get_loc\n",
      "    casted_key = self._maybe_cast_indexer(key)\n",
      "  File \"/home/kfuangsung/anaconda3/envs/pyenv/lib/python3.9/site-packages/pandas/core/frame.py\", line 3442, in _ixs\n",
      "    result = self._box_col_values(col_mgr, i)\n",
      "  File \"/home/kfuangsung/anaconda3/envs/pyenv/lib/python3.9/site-packages/pandas/core/indexes/base.py\", line 513, in __new__\n",
      "    if tupleize_cols and is_list_like(data):\n",
      "  File \"/home/kfuangsung/anaconda3/envs/pyenv/lib/python3.9/site-packages/pandas/core/indexes/base.py\", line 6289, in _maybe_cast_indexer\n",
      "    if not self.is_floating():\n",
      "KeyboardInterrupt\n",
      "KeyboardInterrupt\n",
      "  File \"/home/kfuangsung/anaconda3/envs/pyenv/lib/python3.9/site-packages/pandas/core/indexes/base.py\", line 2344, in is_floating\n",
      "    @final\n",
      "KeyboardInterrupt\n",
      "Process ForkPoolWorker-833:\n",
      "Process ForkPoolWorker-835:\n",
      "Process ForkPoolWorker-834:\n",
      "Process ForkPoolWorker-836:\n",
      "Process ForkPoolWorker-837:\n",
      "Process ForkPoolWorker-839:\n",
      "Process ForkPoolWorker-838:\n",
      "Traceback (most recent call last):\n",
      "Traceback (most recent call last):\n",
      "Traceback (most recent call last):\n",
      "Traceback (most recent call last):\n",
      "Traceback (most recent call last):\n",
      "  File \"/home/kfuangsung/anaconda3/envs/pyenv/lib/python3.9/site-packages/multiprocess/process.py\", line 315, in _bootstrap\n",
      "    self.run()\n",
      "Traceback (most recent call last):\n",
      "Traceback (most recent call last):\n",
      "  File \"/home/kfuangsung/anaconda3/envs/pyenv/lib/python3.9/site-packages/multiprocess/process.py\", line 315, in _bootstrap\n",
      "    self.run()\n",
      "  File \"/home/kfuangsung/anaconda3/envs/pyenv/lib/python3.9/site-packages/multiprocess/process.py\", line 315, in _bootstrap\n",
      "    self.run()\n",
      "  File \"/home/kfuangsung/anaconda3/envs/pyenv/lib/python3.9/site-packages/multiprocess/process.py\", line 315, in _bootstrap\n",
      "    self.run()\n",
      "  File \"/home/kfuangsung/anaconda3/envs/pyenv/lib/python3.9/site-packages/multiprocess/process.py\", line 315, in _bootstrap\n",
      "    self.run()\n",
      "  File \"/home/kfuangsung/anaconda3/envs/pyenv/lib/python3.9/site-packages/multiprocess/process.py\", line 108, in run\n",
      "    self._target(*self._args, **self._kwargs)\n",
      "  File \"/home/kfuangsung/anaconda3/envs/pyenv/lib/python3.9/site-packages/multiprocess/process.py\", line 108, in run\n",
      "    self._target(*self._args, **self._kwargs)\n",
      "  File \"/home/kfuangsung/anaconda3/envs/pyenv/lib/python3.9/site-packages/multiprocess/process.py\", line 315, in _bootstrap\n",
      "    self.run()\n",
      "  File \"/home/kfuangsung/anaconda3/envs/pyenv/lib/python3.9/site-packages/multiprocess/pool.py\", line 114, in worker\n",
      "    task = get()\n",
      "  File \"/home/kfuangsung/anaconda3/envs/pyenv/lib/python3.9/site-packages/multiprocess/process.py\", line 315, in _bootstrap\n",
      "    self.run()\n",
      "  File \"/home/kfuangsung/anaconda3/envs/pyenv/lib/python3.9/site-packages/multiprocess/process.py\", line 108, in run\n",
      "    self._target(*self._args, **self._kwargs)\n",
      "  File \"/home/kfuangsung/anaconda3/envs/pyenv/lib/python3.9/site-packages/multiprocess/process.py\", line 108, in run\n",
      "    self._target(*self._args, **self._kwargs)\n",
      "  File \"/home/kfuangsung/anaconda3/envs/pyenv/lib/python3.9/site-packages/multiprocess/process.py\", line 108, in run\n",
      "    self._target(*self._args, **self._kwargs)\n",
      "  File \"/home/kfuangsung/anaconda3/envs/pyenv/lib/python3.9/site-packages/multiprocess/process.py\", line 108, in run\n",
      "    self._target(*self._args, **self._kwargs)\n",
      "  File \"/home/kfuangsung/anaconda3/envs/pyenv/lib/python3.9/site-packages/multiprocess/pool.py\", line 114, in worker\n",
      "    task = get()\n",
      "  File \"/home/kfuangsung/anaconda3/envs/pyenv/lib/python3.9/site-packages/multiprocess/process.py\", line 108, in run\n",
      "    self._target(*self._args, **self._kwargs)\n",
      "  File \"/home/kfuangsung/anaconda3/envs/pyenv/lib/python3.9/site-packages/multiprocess/pool.py\", line 114, in worker\n",
      "    task = get()\n",
      "  File \"/home/kfuangsung/anaconda3/envs/pyenv/lib/python3.9/site-packages/multiprocess/pool.py\", line 114, in worker\n",
      "    task = get()\n",
      "  File \"/home/kfuangsung/anaconda3/envs/pyenv/lib/python3.9/site-packages/multiprocess/queues.py\", line 367, in get\n",
      "    with self._rlock:\n",
      "  File \"/home/kfuangsung/anaconda3/envs/pyenv/lib/python3.9/site-packages/multiprocess/queues.py\", line 367, in get\n",
      "    with self._rlock:\n",
      "  File \"/home/kfuangsung/anaconda3/envs/pyenv/lib/python3.9/site-packages/multiprocess/pool.py\", line 114, in worker\n",
      "    task = get()\n",
      "  File \"/home/kfuangsung/anaconda3/envs/pyenv/lib/python3.9/site-packages/multiprocess/pool.py\", line 114, in worker\n",
      "    task = get()\n",
      "  File \"/home/kfuangsung/anaconda3/envs/pyenv/lib/python3.9/site-packages/multiprocess/synchronize.py\", line 101, in __enter__\n",
      "    return self._semlock.__enter__()\n",
      "  File \"/home/kfuangsung/anaconda3/envs/pyenv/lib/python3.9/site-packages/multiprocess/queues.py\", line 367, in get\n",
      "    with self._rlock:\n",
      "  File \"/home/kfuangsung/anaconda3/envs/pyenv/lib/python3.9/site-packages/multiprocess/queues.py\", line 367, in get\n",
      "    with self._rlock:\n",
      "  File \"/home/kfuangsung/anaconda3/envs/pyenv/lib/python3.9/site-packages/multiprocess/queues.py\", line 367, in get\n",
      "    with self._rlock:\n",
      "  File \"/home/kfuangsung/anaconda3/envs/pyenv/lib/python3.9/site-packages/multiprocess/synchronize.py\", line 101, in __enter__\n",
      "    return self._semlock.__enter__()\n",
      "  File \"/home/kfuangsung/anaconda3/envs/pyenv/lib/python3.9/site-packages/multiprocess/pool.py\", line 114, in worker\n",
      "    task = get()\n",
      "  File \"/home/kfuangsung/anaconda3/envs/pyenv/lib/python3.9/site-packages/multiprocess/queues.py\", line 367, in get\n",
      "    with self._rlock:\n",
      "KeyboardInterrupt\n",
      "  File \"/home/kfuangsung/anaconda3/envs/pyenv/lib/python3.9/site-packages/multiprocess/synchronize.py\", line 101, in __enter__\n",
      "    return self._semlock.__enter__()\n",
      "  File \"/home/kfuangsung/anaconda3/envs/pyenv/lib/python3.9/site-packages/multiprocess/synchronize.py\", line 101, in __enter__\n",
      "    return self._semlock.__enter__()\n"
     ]
    },
    {
     "name": "stderr",
     "output_type": "stream",
     "text": [
      "  File \"/home/kfuangsung/anaconda3/envs/pyenv/lib/python3.9/site-packages/multiprocess/queues.py\", line 367, in get\n",
      "    with self._rlock:\n",
      "KeyboardInterrupt\n",
      "KeyboardInterrupt\n",
      "  File \"/home/kfuangsung/anaconda3/envs/pyenv/lib/python3.9/site-packages/multiprocess/synchronize.py\", line 101, in __enter__\n",
      "    return self._semlock.__enter__()\n",
      "KeyboardInterrupt\n",
      "  File \"/home/kfuangsung/anaconda3/envs/pyenv/lib/python3.9/site-packages/multiprocess/synchronize.py\", line 101, in __enter__\n",
      "    return self._semlock.__enter__()\n",
      "KeyboardInterrupt\n",
      "KeyboardInterrupt\n",
      "  File \"/home/kfuangsung/anaconda3/envs/pyenv/lib/python3.9/site-packages/multiprocess/synchronize.py\", line 101, in __enter__\n",
      "    return self._semlock.__enter__()\n",
      "KeyboardInterrupt\n"
     ]
    }
   ],
   "source": [
    "ticker_args = {}\n",
    "for ticker in tqdm_notebook(my_assets, desc='tickers'):\n",
    "    res = t_map(get_optimized_args, repeat(ticker), strategies, repeat(parameters), desc=ticker, leave=False)\n",
    "    res_df = pd.DataFrame(res, columns=['strategy', 'agg', 'n_periods', 'winrates', 'rets'])\n",
    "    res_df.sort_values(by='rets', ascending=False, inplace=True)\n",
    "    res_df.reset_index(drop=True, inplace=True)\n",
    "    ticker_args[ticker] = res_df.copy(deep=True)"
   ]
  },
  {
   "cell_type": "code",
   "execution_count": null,
   "id": "9edfe8d2",
   "metadata": {
    "ExecuteTime": {
     "end_time": "2022-09-02T09:03:46.620805Z",
     "start_time": "2022-09-02T09:03:46.620766Z"
    }
   },
   "outputs": [],
   "source": [
    "with pd.ExcelWriter('best_args.xlsx') as writer:  \n",
    "    for k, v in ticker_args.items():\n",
    "        v.to_excel(writer, sheet_name=k.replace('/','_'), index=False)"
   ]
  }
 ],
 "metadata": {
  "kernelspec": {
   "display_name": "Python 3 (ipykernel)",
   "language": "python",
   "name": "python3"
  },
  "language_info": {
   "codemirror_mode": {
    "name": "ipython",
    "version": 3
   },
   "file_extension": ".py",
   "mimetype": "text/x-python",
   "name": "python",
   "nbconvert_exporter": "python",
   "pygments_lexer": "ipython3",
   "version": "3.9.12"
  },
  "latex_envs": {
   "LaTeX_envs_menu_present": true,
   "autoclose": false,
   "autocomplete": true,
   "bibliofile": "biblio.bib",
   "cite_by": "apalike",
   "current_citInitial": 1,
   "eqLabelWithNumbers": true,
   "eqNumInitial": 1,
   "hotkeys": {
    "equation": "Ctrl-E",
    "itemize": "Ctrl-I"
   },
   "labels_anchors": false,
   "latex_user_defs": false,
   "report_style_numbering": false,
   "user_envs_cfg": false
  },
  "toc": {
   "base_numbering": 1,
   "nav_menu": {},
   "number_sections": true,
   "sideBar": true,
   "skip_h1_title": false,
   "title_cell": "Table of Contents",
   "title_sidebar": "Contents",
   "toc_cell": false,
   "toc_position": {},
   "toc_section_display": true,
   "toc_window_display": false
  },
  "varInspector": {
   "cols": {
    "lenName": 16,
    "lenType": 16,
    "lenVar": 40
   },
   "kernels_config": {
    "python": {
     "delete_cmd_postfix": "",
     "delete_cmd_prefix": "del ",
     "library": "var_list.py",
     "varRefreshCmd": "print(var_dic_list())"
    },
    "r": {
     "delete_cmd_postfix": ") ",
     "delete_cmd_prefix": "rm(",
     "library": "var_list.r",
     "varRefreshCmd": "cat(var_dic_list()) "
    }
   },
   "types_to_exclude": [
    "module",
    "function",
    "builtin_function_or_method",
    "instance",
    "_Feature"
   ],
   "window_display": false
  }
 },
 "nbformat": 4,
 "nbformat_minor": 5
}
