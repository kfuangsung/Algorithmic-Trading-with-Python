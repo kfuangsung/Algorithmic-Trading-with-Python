{
 "cells": [
  {
   "cell_type": "code",
   "execution_count": 1,
   "metadata": {},
   "outputs": [],
   "source": [
    "import sys \n",
    "import os  \n",
    "import json\n",
    "import datetime as dt \n",
    "import pandas as pd \n",
    "import numpy as np \n",
    "import talib\n",
    "import sqlite3 as sql\n",
    "from itertools import repeat\n",
    "from p_tqdm import p_umap\n",
    "sys.path.append('../')\n",
    "from backtester import * \n",
    "from fxcmtoken import my_assets"
   ]
  },
  {
   "cell_type": "code",
   "execution_count": 2,
   "metadata": {},
   "outputs": [
    {
     "name": "stdout",
     "output_type": "stream",
     "text": [
      "0 EUR/USD\n",
      "1 USD/JPY\n",
      "2 GBP/USD\n",
      "3 USD/CHF\n",
      "4 AUD/USD\n",
      "5 USD/CAD\n",
      "6 NZD/USD\n",
      "7 Bund\n",
      "8 AUS200\n",
      "9 ESP35\n",
      "10 EUSTX50\n",
      "11 FRA40\n",
      "12 GER30\n",
      "13 HKG33\n",
      "14 JPN225\n",
      "15 NAS100\n",
      "16 SPX500\n",
      "17 UK100\n",
      "18 US30\n",
      "19 Copper\n",
      "20 NGAS\n",
      "21 UKOil\n",
      "22 USOil\n",
      "23 XAU/USD\n",
      "24 XAG/USD\n"
     ]
    }
   ],
   "source": [
    "for i, a in enumerate(my_assets):\n",
    "    print(i, a)"
   ]
  },
  {
   "cell_type": "code",
   "execution_count": 11,
   "metadata": {},
   "outputs": [
    {
     "name": "stdout",
     "output_type": "stream",
     "text": [
      "USD/JPY\n"
     ]
    },
    {
     "data": {
      "text/html": [
       "<div>\n",
       "<style scoped>\n",
       "    .dataframe tbody tr th:only-of-type {\n",
       "        vertical-align: middle;\n",
       "    }\n",
       "\n",
       "    .dataframe tbody tr th {\n",
       "        vertical-align: top;\n",
       "    }\n",
       "\n",
       "    .dataframe thead th {\n",
       "        text-align: right;\n",
       "    }\n",
       "</style>\n",
       "<table border=\"1\" class=\"dataframe\">\n",
       "  <thead>\n",
       "    <tr style=\"text-align: right;\">\n",
       "      <th></th>\n",
       "      <th>bidopen</th>\n",
       "      <th>bidclose</th>\n",
       "      <th>bidhigh</th>\n",
       "      <th>bidlow</th>\n",
       "      <th>askopen</th>\n",
       "      <th>askclose</th>\n",
       "      <th>askhigh</th>\n",
       "      <th>asklow</th>\n",
       "      <th>tickqty</th>\n",
       "      <th>open</th>\n",
       "      <th>close</th>\n",
       "      <th>high</th>\n",
       "      <th>low</th>\n",
       "    </tr>\n",
       "    <tr>\n",
       "      <th>date</th>\n",
       "      <th></th>\n",
       "      <th></th>\n",
       "      <th></th>\n",
       "      <th></th>\n",
       "      <th></th>\n",
       "      <th></th>\n",
       "      <th></th>\n",
       "      <th></th>\n",
       "      <th></th>\n",
       "      <th></th>\n",
       "      <th></th>\n",
       "      <th></th>\n",
       "      <th></th>\n",
       "    </tr>\n",
       "  </thead>\n",
       "  <tbody>\n",
       "    <tr>\n",
       "      <th>2022-08-19 16:00:00</th>\n",
       "      <td>137.016</td>\n",
       "      <td>136.868</td>\n",
       "      <td>137.016</td>\n",
       "      <td>136.830</td>\n",
       "      <td>137.030</td>\n",
       "      <td>136.881</td>\n",
       "      <td>137.030</td>\n",
       "      <td>136.846</td>\n",
       "      <td>8612</td>\n",
       "      <td>137.0230</td>\n",
       "      <td>136.8745</td>\n",
       "      <td>137.0230</td>\n",
       "      <td>136.8380</td>\n",
       "    </tr>\n",
       "    <tr>\n",
       "      <th>2022-08-19 17:00:00</th>\n",
       "      <td>136.867</td>\n",
       "      <td>136.795</td>\n",
       "      <td>136.896</td>\n",
       "      <td>136.750</td>\n",
       "      <td>136.880</td>\n",
       "      <td>136.812</td>\n",
       "      <td>136.909</td>\n",
       "      <td>136.763</td>\n",
       "      <td>6561</td>\n",
       "      <td>136.8735</td>\n",
       "      <td>136.8035</td>\n",
       "      <td>136.9025</td>\n",
       "      <td>136.7565</td>\n",
       "    </tr>\n",
       "    <tr>\n",
       "      <th>2022-08-19 18:00:00</th>\n",
       "      <td>136.796</td>\n",
       "      <td>136.883</td>\n",
       "      <td>136.893</td>\n",
       "      <td>136.731</td>\n",
       "      <td>136.812</td>\n",
       "      <td>136.896</td>\n",
       "      <td>136.905</td>\n",
       "      <td>136.750</td>\n",
       "      <td>6376</td>\n",
       "      <td>136.8040</td>\n",
       "      <td>136.8895</td>\n",
       "      <td>136.8990</td>\n",
       "      <td>136.7405</td>\n",
       "    </tr>\n",
       "    <tr>\n",
       "      <th>2022-08-19 19:00:00</th>\n",
       "      <td>136.882</td>\n",
       "      <td>136.784</td>\n",
       "      <td>136.882</td>\n",
       "      <td>136.775</td>\n",
       "      <td>136.895</td>\n",
       "      <td>136.801</td>\n",
       "      <td>136.896</td>\n",
       "      <td>136.794</td>\n",
       "      <td>4209</td>\n",
       "      <td>136.8885</td>\n",
       "      <td>136.7925</td>\n",
       "      <td>136.8890</td>\n",
       "      <td>136.7845</td>\n",
       "    </tr>\n",
       "    <tr>\n",
       "      <th>2022-08-19 20:00:00</th>\n",
       "      <td>136.784</td>\n",
       "      <td>136.857</td>\n",
       "      <td>136.906</td>\n",
       "      <td>136.765</td>\n",
       "      <td>136.803</td>\n",
       "      <td>136.983</td>\n",
       "      <td>136.983</td>\n",
       "      <td>136.781</td>\n",
       "      <td>2879</td>\n",
       "      <td>136.7935</td>\n",
       "      <td>136.9200</td>\n",
       "      <td>136.9445</td>\n",
       "      <td>136.7730</td>\n",
       "    </tr>\n",
       "  </tbody>\n",
       "</table>\n",
       "</div>"
      ],
      "text/plain": [
       "                     bidopen  bidclose  bidhigh   bidlow  askopen  askclose  \\\n",
       "date                                                                          \n",
       "2022-08-19 16:00:00  137.016   136.868  137.016  136.830  137.030   136.881   \n",
       "2022-08-19 17:00:00  136.867   136.795  136.896  136.750  136.880   136.812   \n",
       "2022-08-19 18:00:00  136.796   136.883  136.893  136.731  136.812   136.896   \n",
       "2022-08-19 19:00:00  136.882   136.784  136.882  136.775  136.895   136.801   \n",
       "2022-08-19 20:00:00  136.784   136.857  136.906  136.765  136.803   136.983   \n",
       "\n",
       "                     askhigh   asklow  tickqty      open     close      high  \\\n",
       "date                                                                           \n",
       "2022-08-19 16:00:00  137.030  136.846     8612  137.0230  136.8745  137.0230   \n",
       "2022-08-19 17:00:00  136.909  136.763     6561  136.8735  136.8035  136.9025   \n",
       "2022-08-19 18:00:00  136.905  136.750     6376  136.8040  136.8895  136.8990   \n",
       "2022-08-19 19:00:00  136.896  136.794     4209  136.8885  136.7925  136.8890   \n",
       "2022-08-19 20:00:00  136.983  136.781     2879  136.7935  136.9200  136.9445   \n",
       "\n",
       "                          low  \n",
       "date                           \n",
       "2022-08-19 16:00:00  136.8380  \n",
       "2022-08-19 17:00:00  136.7565  \n",
       "2022-08-19 18:00:00  136.7405  \n",
       "2022-08-19 19:00:00  136.7845  \n",
       "2022-08-19 20:00:00  136.7730  "
      ]
     },
     "execution_count": 11,
     "metadata": {},
     "output_type": "execute_result"
    }
   ],
   "source": [
    "freq = 'H1'\n",
    "conn = sql.connect(f\"/home/kachain/python_projects/algorithmic_trading/PriceData/PriceData_{freq}.db\")\n",
    "ticker = my_assets[1]\n",
    "print(ticker)\n",
    "data_sql = pd.read_sql(f\"SELECT * FROM '{ticker}'\", conn, parse_dates=['date'], index_col=['date'])\n",
    "for col in ['open', 'close', 'high', 'low']:\n",
    "    data_sql[col] = data_sql[['bid'+col, 'ask'+col]].mean(axis=1)\n",
    "conn.close()\n",
    "data_sql.tail()"
   ]
  },
  {
   "cell_type": "code",
   "execution_count": 30,
   "metadata": {},
   "outputs": [],
   "source": [
    "def get_mama_return_lastweek(n_period, data, freq):\n",
    "    \n",
    "    data['ht'] = talib.HT_TRENDLINE(data.close)\n",
    "    data.dropna(axis=0, inplace=True)\n",
    "    data['mama'], data['fama'] = talib.MAMA(data.ht, fastlimit=n_period, slowlimit=n_period/10)\n",
    "    data.dropna(axis=0, inplace=True)\n",
    "    data['signals'] = np.where(data.mama > data.fama, 1, -1) \n",
    "    \n",
    "    sat_index = data.resample('W-Sat').last().index\n",
    "    data = data.loc[sat_index[-2]:sat_index[-1], :]\n",
    "    \n",
    "    backtester = IterativeBacktester(data=data, signals=data.signals, freq=freq)\n",
    "    backtester.backtest(progress_bar=False)\n",
    "\n",
    "    return n_period, backtester.return_df.loc['TotalReturn', 'Portfolio']\n",
    "\n",
    "\n",
    "def get_tsf_return_lastweek(n_period, data, freq):\n",
    "    \n",
    "    data['ht'] = talib.HT_TRENDLINE(data.close)\n",
    "    data['tsf'] = talib.TSF(data.ht, n_period)\n",
    "    data.dropna(axis=0, inplace=True)\n",
    "    data['signals'] = np.where(data.ht > data.tsf, 1, -1)\n",
    "    \n",
    "    sat_index = data.resample('W-Sat').last().index\n",
    "    data = data.loc[sat_index[-2]:sat_index[-1], :]\n",
    "    \n",
    "    backtester = IterativeBacktester(data=data, signals=data.signals, freq=freq)\n",
    "    backtester.backtest(progress_bar=False)\n",
    "\n",
    "    return n_period, backtester.return_df.loc['TotalReturn', 'Portfolio']\n",
    "\n",
    "def get_slope_return_lastweek(n_period, data, freq):\n",
    "    \n",
    "    data['ht'] = talib.HT_TRENDLINE(data.close)\n",
    "    data.dropna(axis=0, inplace=True)\n",
    "    data['signals'] = talib.LINEARREG_SLOPE(data.ht, timeperiod=n_period).apply(np.sign)\n",
    "    data.dropna(axis=0, inplace=True)\n",
    "    \n",
    "    sat_index = data.resample('W-Sat').last().index\n",
    "    data = data.loc[sat_index[-2]:sat_index[-1], :]\n",
    "    \n",
    "    backtester = IterativeBacktester(data=data, signals=data.signals, freq=freq)\n",
    "    backtester.backtest(progress_bar=False)\n",
    "\n",
    "    return n_period, backtester.return_df.loc['TotalReturn', 'Portfolio']"
   ]
  },
  {
   "cell_type": "code",
   "execution_count": 34,
   "metadata": {},
   "outputs": [
    {
     "name": "stderr",
     "output_type": "stream",
     "text": [
      "                                             \r"
     ]
    },
    {
     "data": {
      "text/plain": [
       "0.8"
      ]
     },
     "execution_count": 34,
     "metadata": {},
     "output_type": "execute_result"
    }
   ],
   "source": [
    "mama_res = p_umap(get_mama_return_lastweek, np.arange(0.1, 1, 0.1),\n",
    "                  repeat(data_sql.copy(deep=True)), \n",
    "                  repeat(freq),\n",
    "                  leave=False)\n",
    "best_mama = pd.DataFrame(mama_res).sort_values(by=1, ascending=False).iloc[0,0]\n",
    "best_mama"
   ]
  },
  {
   "cell_type": "code",
   "execution_count": 40,
   "metadata": {},
   "outputs": [
    {
     "name": "stderr",
     "output_type": "stream",
     "text": [
      "                                             \r"
     ]
    },
    {
     "data": {
      "text/plain": [
       "70"
      ]
     },
     "execution_count": 40,
     "metadata": {},
     "output_type": "execute_result"
    }
   ],
   "source": [
    "slope_res = p_umap(get_slope_return_lastweek, \n",
    "                       np.arange(10, 100, 10),\n",
    "                       repeat(data_sql.copy(deep=True)), \n",
    "                       repeat(freq),\n",
    "                       leave=False)\n",
    "best_slope = pd.DataFrame(slope_res).sort_values(by=1, ascending=False).iloc[0, 0]\n",
    "best_slope"
   ]
  },
  {
   "cell_type": "code",
   "execution_count": 38,
   "metadata": {},
   "outputs": [
    {
     "name": "stderr",
     "output_type": "stream",
     "text": [
      "                                             \r"
     ]
    },
    {
     "data": {
      "text/plain": [
       "90"
      ]
     },
     "execution_count": 38,
     "metadata": {},
     "output_type": "execute_result"
    }
   ],
   "source": [
    "tsf_res = p_umap(get_tsf_return_lastweek, \n",
    "                 np.arange(10, 100, 10),\n",
    "                 repeat(data_sql.copy(deep=True)), \n",
    "                 repeat(freq),    \n",
    "                 leave=False)\n",
    "best_tsf = pd.DataFrame(tsf_res).sort_values(by=1, ascending=False).iloc[0,0]\n",
    "best_tsf"
   ]
  },
  {
   "cell_type": "code",
   "execution_count": 37,
   "metadata": {},
   "outputs": [
    {
     "data": {
      "text/plain": [
       "90"
      ]
     },
     "execution_count": 37,
     "metadata": {},
     "output_type": "execute_result"
    }
   ],
   "source": []
  }
 ],
 "metadata": {
  "kernelspec": {
   "display_name": "Python 3.8.8 ('DL')",
   "language": "python",
   "name": "python3"
  },
  "language_info": {
   "codemirror_mode": {
    "name": "ipython",
    "version": 3
   },
   "file_extension": ".py",
   "mimetype": "text/x-python",
   "name": "python",
   "nbconvert_exporter": "python",
   "pygments_lexer": "ipython3",
   "version": "3.8.8"
  },
  "orig_nbformat": 4,
  "vscode": {
   "interpreter": {
    "hash": "0936eeb49a1fb86b0720257f07e018b6b65dc7d20ad9a5268553f320ae37e0bb"
   }
  }
 },
 "nbformat": 4,
 "nbformat_minor": 2
}
