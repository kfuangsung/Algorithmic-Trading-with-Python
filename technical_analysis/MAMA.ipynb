{
 "cells": [
  {
   "cell_type": "code",
   "execution_count": 1,
   "id": "1a5da584",
   "metadata": {
    "ExecuteTime": {
     "end_time": "2022-08-28T09:30:49.439434Z",
     "start_time": "2022-08-28T09:30:47.971576Z"
    }
   },
   "outputs": [],
   "source": [
    "import sys \n",
    "sys.path.append('../')\n",
    "from itertools import product, repeat\n",
    "import pandas as pd \n",
    "import numpy as np \n",
    "from scipy.stats import mode\n",
    "import talib\n",
    "import sqlite3 as sql\n",
    "import matplotlib.pyplot as plt\n",
    "from p_tqdm import p_map, p_umap, t_map\n",
    "from backtester import * \n",
    "from fxcmtoken import my_assets"
   ]
  },
  {
   "cell_type": "code",
   "execution_count": 2,
   "id": "88b021c9",
   "metadata": {
    "ExecuteTime": {
     "end_time": "2022-08-28T09:30:49.447454Z",
     "start_time": "2022-08-28T09:30:49.442390Z"
    }
   },
   "outputs": [
    {
     "name": "stdout",
     "output_type": "stream",
     "text": [
      "0 EUR/USD\n",
      "1 USD/JPY\n",
      "2 GBP/USD\n",
      "3 USD/CHF\n",
      "4 AUD/USD\n",
      "5 USD/CAD\n",
      "6 NZD/USD\n",
      "7 Bund\n",
      "8 AUS200\n",
      "9 ESP35\n",
      "10 EUSTX50\n",
      "11 FRA40\n",
      "12 GER30\n",
      "13 HKG33\n",
      "14 JPN225\n",
      "15 NAS100\n",
      "16 SPX500\n",
      "17 UK100\n",
      "18 US30\n",
      "19 Copper\n",
      "20 NGAS\n",
      "21 UKOil\n",
      "22 USOil\n",
      "23 XAU/USD\n",
      "24 XAG/USD\n"
     ]
    }
   ],
   "source": [
    "for i, a in enumerate(my_assets):\n",
    "    print(i, a)"
   ]
  },
  {
   "cell_type": "code",
   "execution_count": 3,
   "id": "9afd1aed",
   "metadata": {
    "ExecuteTime": {
     "end_time": "2022-08-28T09:30:49.733550Z",
     "start_time": "2022-08-28T09:30:49.450675Z"
    }
   },
   "outputs": [
    {
     "name": "stdout",
     "output_type": "stream",
     "text": [
      "EUR/USD\n",
      "(10000, 13)\n"
     ]
    },
    {
     "data": {
      "text/html": [
       "<div>\n",
       "<style scoped>\n",
       "    .dataframe tbody tr th:only-of-type {\n",
       "        vertical-align: middle;\n",
       "    }\n",
       "\n",
       "    .dataframe tbody tr th {\n",
       "        vertical-align: top;\n",
       "    }\n",
       "\n",
       "    .dataframe thead th {\n",
       "        text-align: right;\n",
       "    }\n",
       "</style>\n",
       "<table border=\"1\" class=\"dataframe\">\n",
       "  <thead>\n",
       "    <tr style=\"text-align: right;\">\n",
       "      <th></th>\n",
       "      <th>bidopen</th>\n",
       "      <th>bidclose</th>\n",
       "      <th>bidhigh</th>\n",
       "      <th>bidlow</th>\n",
       "      <th>askopen</th>\n",
       "      <th>askclose</th>\n",
       "      <th>askhigh</th>\n",
       "      <th>asklow</th>\n",
       "      <th>tickqty</th>\n",
       "      <th>open</th>\n",
       "      <th>close</th>\n",
       "      <th>high</th>\n",
       "      <th>low</th>\n",
       "    </tr>\n",
       "    <tr>\n",
       "      <th>date</th>\n",
       "      <th></th>\n",
       "      <th></th>\n",
       "      <th></th>\n",
       "      <th></th>\n",
       "      <th></th>\n",
       "      <th></th>\n",
       "      <th></th>\n",
       "      <th></th>\n",
       "      <th></th>\n",
       "      <th></th>\n",
       "      <th></th>\n",
       "      <th></th>\n",
       "      <th></th>\n",
       "    </tr>\n",
       "  </thead>\n",
       "  <tbody>\n",
       "    <tr>\n",
       "      <th>2022-08-26 16:00:00</th>\n",
       "      <td>0.99963</td>\n",
       "      <td>0.99792</td>\n",
       "      <td>1.00023</td>\n",
       "      <td>0.99747</td>\n",
       "      <td>0.99976</td>\n",
       "      <td>0.99805</td>\n",
       "      <td>1.00036</td>\n",
       "      <td>0.99760</td>\n",
       "      <td>18846</td>\n",
       "      <td>0.999695</td>\n",
       "      <td>0.997985</td>\n",
       "      <td>1.000295</td>\n",
       "      <td>0.997535</td>\n",
       "    </tr>\n",
       "    <tr>\n",
       "      <th>2022-08-26 17:00:00</th>\n",
       "      <td>0.99792</td>\n",
       "      <td>0.99690</td>\n",
       "      <td>0.99824</td>\n",
       "      <td>0.99579</td>\n",
       "      <td>0.99806</td>\n",
       "      <td>0.99704</td>\n",
       "      <td>0.99837</td>\n",
       "      <td>0.99594</td>\n",
       "      <td>12934</td>\n",
       "      <td>0.997990</td>\n",
       "      <td>0.996970</td>\n",
       "      <td>0.998305</td>\n",
       "      <td>0.995865</td>\n",
       "    </tr>\n",
       "    <tr>\n",
       "      <th>2022-08-26 18:00:00</th>\n",
       "      <td>0.99691</td>\n",
       "      <td>0.99636</td>\n",
       "      <td>0.99727</td>\n",
       "      <td>0.99580</td>\n",
       "      <td>0.99704</td>\n",
       "      <td>0.99648</td>\n",
       "      <td>0.99741</td>\n",
       "      <td>0.99594</td>\n",
       "      <td>11144</td>\n",
       "      <td>0.996975</td>\n",
       "      <td>0.996420</td>\n",
       "      <td>0.997340</td>\n",
       "      <td>0.995870</td>\n",
       "    </tr>\n",
       "    <tr>\n",
       "      <th>2022-08-26 19:00:00</th>\n",
       "      <td>0.99635</td>\n",
       "      <td>0.99649</td>\n",
       "      <td>0.99666</td>\n",
       "      <td>0.99558</td>\n",
       "      <td>0.99648</td>\n",
       "      <td>0.99663</td>\n",
       "      <td>0.99682</td>\n",
       "      <td>0.99572</td>\n",
       "      <td>8444</td>\n",
       "      <td>0.996415</td>\n",
       "      <td>0.996560</td>\n",
       "      <td>0.996740</td>\n",
       "      <td>0.995650</td>\n",
       "    </tr>\n",
       "    <tr>\n",
       "      <th>2022-08-26 20:00:00</th>\n",
       "      <td>0.99649</td>\n",
       "      <td>0.99634</td>\n",
       "      <td>0.99687</td>\n",
       "      <td>0.99589</td>\n",
       "      <td>0.99662</td>\n",
       "      <td>0.99665</td>\n",
       "      <td>0.99701</td>\n",
       "      <td>0.99637</td>\n",
       "      <td>3720</td>\n",
       "      <td>0.996555</td>\n",
       "      <td>0.996495</td>\n",
       "      <td>0.996940</td>\n",
       "      <td>0.996130</td>\n",
       "    </tr>\n",
       "  </tbody>\n",
       "</table>\n",
       "</div>"
      ],
      "text/plain": [
       "                     bidopen  bidclose  bidhigh   bidlow  askopen  askclose  \\\n",
       "date                                                                          \n",
       "2022-08-26 16:00:00  0.99963   0.99792  1.00023  0.99747  0.99976   0.99805   \n",
       "2022-08-26 17:00:00  0.99792   0.99690  0.99824  0.99579  0.99806   0.99704   \n",
       "2022-08-26 18:00:00  0.99691   0.99636  0.99727  0.99580  0.99704   0.99648   \n",
       "2022-08-26 19:00:00  0.99635   0.99649  0.99666  0.99558  0.99648   0.99663   \n",
       "2022-08-26 20:00:00  0.99649   0.99634  0.99687  0.99589  0.99662   0.99665   \n",
       "\n",
       "                     askhigh   asklow  tickqty      open     close      high  \\\n",
       "date                                                                           \n",
       "2022-08-26 16:00:00  1.00036  0.99760    18846  0.999695  0.997985  1.000295   \n",
       "2022-08-26 17:00:00  0.99837  0.99594    12934  0.997990  0.996970  0.998305   \n",
       "2022-08-26 18:00:00  0.99741  0.99594    11144  0.996975  0.996420  0.997340   \n",
       "2022-08-26 19:00:00  0.99682  0.99572     8444  0.996415  0.996560  0.996740   \n",
       "2022-08-26 20:00:00  0.99701  0.99637     3720  0.996555  0.996495  0.996940   \n",
       "\n",
       "                          low  \n",
       "date                           \n",
       "2022-08-26 16:00:00  0.997535  \n",
       "2022-08-26 17:00:00  0.995865  \n",
       "2022-08-26 18:00:00  0.995870  \n",
       "2022-08-26 19:00:00  0.995650  \n",
       "2022-08-26 20:00:00  0.996130  "
      ]
     },
     "execution_count": 3,
     "metadata": {},
     "output_type": "execute_result"
    }
   ],
   "source": [
    "freq = 'H1'\n",
    "sql_path = f'/home/kachain/python_projects/algorithmic_trading/PriceData/PriceData_{freq}.db'\n",
    "conn = sql.connect(sql_path)\n",
    "ticker = my_assets[0]\n",
    "data_sql = pd.read_sql(f\"SELECT * FROM '{ticker}'\", conn, parse_dates=['date'], index_col=['date'])\n",
    "for col in ['open', 'close', 'high', 'low']:\n",
    "    data_sql[col] = data_sql[['bid'+col, 'ask'+col]].mean(axis=1)\n",
    "    \n",
    "print(ticker)\n",
    "print(data_sql.shape)\n",
    "data_sql.tail()"
   ]
  },
  {
   "cell_type": "code",
   "execution_count": 4,
   "id": "5d08d110",
   "metadata": {
    "ExecuteTime": {
     "end_time": "2022-08-28T09:30:49.752287Z",
     "start_time": "2022-08-28T09:30:49.737485Z"
    }
   },
   "outputs": [],
   "source": [
    "sat_index = data_sql.resample('W-Sat').last().index"
   ]
  },
  {
   "cell_type": "code",
   "execution_count": 5,
   "id": "73835081",
   "metadata": {
    "ExecuteTime": {
     "end_time": "2022-08-28T09:30:49.762556Z",
     "start_time": "2022-08-28T09:30:49.754778Z"
    }
   },
   "outputs": [
    {
     "data": {
      "text/plain": [
       "90"
      ]
     },
     "execution_count": 5,
     "metadata": {},
     "output_type": "execute_result"
    }
   ],
   "source": [
    "# params = product(np.arange(0.01, 1, 0.01), repeat=2)\n",
    "# params = list(params)\n",
    "# len(params)\n",
    "\n",
    "params = []\n",
    "for i in np.arange(0.1, 1, 0.1):\n",
    "    for j in np.arange(0.01, 0.11, 0.01):\n",
    "        params.append((i,j))\n",
    "len(params)"
   ]
  },
  {
   "cell_type": "code",
   "execution_count": 6,
   "id": "464afa12",
   "metadata": {
    "ExecuteTime": {
     "end_time": "2022-08-28T09:30:49.770335Z",
     "start_time": "2022-08-28T09:30:49.764692Z"
    }
   },
   "outputs": [],
   "source": [
    "def get_mama_signals(data, param, start, end):\n",
    "    data = data.copy(deep=True)\n",
    "    data[\"mama\"], data[\"fama\"] = talib.MAMA(data.close, fastlimit=param[0], slowlimit=param[1])\n",
    "    data.dropna(axis=0, inplace=True)\n",
    "    data['signal'] = np.where(data[\"mama\"] > data[\"fama\"], 1,\n",
    "                               np.where(data[\"mama\"] < data[\"fama\"], -1, np.nan)\n",
    "                              )\n",
    "    data['signal'] = data['signal'].ffill()\n",
    "    return data.loc[start:end]"
   ]
  },
  {
   "cell_type": "code",
   "execution_count": 7,
   "id": "a3b8a2a3",
   "metadata": {
    "ExecuteTime": {
     "end_time": "2022-08-28T09:30:49.778613Z",
     "start_time": "2022-08-28T09:30:49.772203Z"
    }
   },
   "outputs": [],
   "source": [
    "def get_strategy_return(data, param, freq, start, end):    \n",
    "    data = get_mama_signals(data, param, start, end)\n",
    "    backtester = IterativeBacktester(data=data, signals=data.signal, freq=freq)\n",
    "    backtester.backtest(progress_bar=False)\n",
    "\n",
    "    return param, backtester.return_df.loc['TotalReturn', 'Portfolio']\n",
    "\n",
    "def get_optim_param(data, params, freq, start, end): \n",
    "    res = t_map(get_strategy_return, repeat(data), params, repeat(freq), \n",
    "                 repeat(start), repeat(end), leave=False)\n",
    "    res = pd.DataFrame(res, columns=['params', 'returns'])\n",
    "    res.sort_values(by='returns', ascending=False, inplace=True)\n",
    "    best = res.iloc[0]\n",
    "    \n",
    "    return start, end, best['params'], best['returns'] "
   ]
  },
  {
   "cell_type": "code",
   "execution_count": 8,
   "id": "d13a4990",
   "metadata": {
    "ExecuteTime": {
     "end_time": "2022-08-28T09:30:49.789491Z",
     "start_time": "2022-08-28T09:30:49.780965Z"
    }
   },
   "outputs": [],
   "source": [
    "start_dates = []\n",
    "end_dates = []\n",
    "for i in range(1, len(sat_index)-1):\n",
    "    start_dates.append(sat_index[i])\n",
    "    end_dates.append(sat_index[i+1])"
   ]
  },
  {
   "cell_type": "code",
   "execution_count": null,
   "id": "2f0b5174",
   "metadata": {
    "ExecuteTime": {
     "start_time": "2022-08-28T09:30:47.983Z"
    }
   },
   "outputs": [
    {
     "data": {
      "application/vnd.jupyter.widget-view+json": {
       "model_id": "503bdea6114f450da6c16b06c09b50b0",
       "version_major": 2,
       "version_minor": 0
      },
      "text/plain": [
       "  0%|          | 0/80 [00:00<?, ?it/s]"
      ]
     },
     "metadata": {},
     "output_type": "display_data"
    }
   ],
   "source": [
    "optim_params = p_umap(get_optim_param, repeat(data_sql), repeat(params), repeat(freq), start_dates, end_dates)"
   ]
  },
  {
   "cell_type": "code",
   "execution_count": null,
   "id": "fa3fca5f",
   "metadata": {
    "ExecuteTime": {
     "start_time": "2022-08-28T09:30:47.984Z"
    }
   },
   "outputs": [],
   "source": [
    "opt_df = pd.DataFrame(optim_params, columns=['starts', 'ends', 'params', 'returns'])"
   ]
  },
  {
   "cell_type": "code",
   "execution_count": null,
   "id": "0c98632d",
   "metadata": {
    "ExecuteTime": {
     "start_time": "2022-08-28T09:30:47.986Z"
    }
   },
   "outputs": [],
   "source": [
    "opt_df"
   ]
  },
  {
   "cell_type": "code",
   "execution_count": null,
   "id": "5d81905a",
   "metadata": {
    "ExecuteTime": {
     "start_time": "2022-08-28T09:30:47.987Z"
    }
   },
   "outputs": [],
   "source": [
    "opt_df.returns.plot(kind='bar', figsize=(15, 5))\n",
    "plt.tight_layout()\n",
    "plt.show()"
   ]
  },
  {
   "cell_type": "code",
   "execution_count": null,
   "id": "80b06d55",
   "metadata": {
    "ExecuteTime": {
     "start_time": "2022-08-28T09:30:47.989Z"
    }
   },
   "outputs": [],
   "source": [
    "opt_df.returns.apply(np.sign).value_counts(normalize=True)"
   ]
  },
  {
   "cell_type": "code",
   "execution_count": null,
   "id": "905b070b",
   "metadata": {
    "ExecuteTime": {
     "start_time": "2022-08-28T09:30:47.992Z"
    }
   },
   "outputs": [],
   "source": [
    "opt_df.returns.mean()"
   ]
  },
  {
   "cell_type": "code",
   "execution_count": null,
   "id": "2ff87eff",
   "metadata": {
    "ExecuteTime": {
     "start_time": "2022-08-28T09:30:47.993Z"
    }
   },
   "outputs": [],
   "source": [
    "opt_df['fast'] = opt_df.params.apply(lambda x: x[0])\n",
    "opt_df['slow'] = opt_df.params.apply(lambda x: x[1])"
   ]
  },
  {
   "cell_type": "code",
   "execution_count": null,
   "id": "a28b0e15",
   "metadata": {
    "ExecuteTime": {
     "start_time": "2022-08-28T09:30:47.995Z"
    }
   },
   "outputs": [],
   "source": [
    "opt_df['fast'].plot(kind='bar', figsize=(15, 5))\n",
    "plt.tight_layout()\n",
    "plt.show()"
   ]
  },
  {
   "cell_type": "code",
   "execution_count": null,
   "id": "6ad2d593",
   "metadata": {
    "ExecuteTime": {
     "start_time": "2022-08-28T09:30:47.996Z"
    }
   },
   "outputs": [],
   "source": [
    "opt_df.fast.value_counts(normalize=True).iloc[:5]"
   ]
  },
  {
   "cell_type": "code",
   "execution_count": null,
   "id": "11d87b44",
   "metadata": {
    "ExecuteTime": {
     "start_time": "2022-08-28T09:30:47.999Z"
    }
   },
   "outputs": [],
   "source": [
    "print('median'.ljust(10), opt_df.fast.median())\n",
    "print('mean'.ljust(10), opt_df.fast.mean())\n",
    "print('mode'.ljust(10), opt_df.fast.mode()[0])"
   ]
  },
  {
   "cell_type": "code",
   "execution_count": null,
   "id": "09c4151f",
   "metadata": {
    "ExecuteTime": {
     "start_time": "2022-08-28T09:30:48.002Z"
    }
   },
   "outputs": [],
   "source": [
    "opt_df['slow'].plot(kind='bar', figsize=(15, 5))\n",
    "plt.tight_layout()\n",
    "plt.show()"
   ]
  },
  {
   "cell_type": "code",
   "execution_count": null,
   "id": "fd04904a",
   "metadata": {
    "ExecuteTime": {
     "start_time": "2022-08-28T09:30:48.004Z"
    }
   },
   "outputs": [],
   "source": [
    "opt_df.slow.value_counts(normalize=True).iloc[:5]"
   ]
  },
  {
   "cell_type": "code",
   "execution_count": null,
   "id": "10105859",
   "metadata": {
    "ExecuteTime": {
     "start_time": "2022-08-28T09:30:48.007Z"
    }
   },
   "outputs": [],
   "source": [
    "print('median'.ljust(10), opt_df.slow.median())\n",
    "print('mean'.ljust(10), opt_df.slow.mean())\n",
    "print('mode'.ljust(10), opt_df.slow.mode()[0])"
   ]
  },
  {
   "cell_type": "code",
   "execution_count": null,
   "id": "518bb3df",
   "metadata": {
    "ExecuteTime": {
     "start_time": "2022-08-28T09:30:48.010Z"
    }
   },
   "outputs": [],
   "source": [
    "n_roll = 5"
   ]
  },
  {
   "cell_type": "code",
   "execution_count": null,
   "id": "753459b4",
   "metadata": {
    "ExecuteTime": {
     "start_time": "2022-08-28T09:30:48.012Z"
    }
   },
   "outputs": [],
   "source": [
    "fig, ax = plt.subplots(figsize=(15,5))\n",
    "# exclude last one to be out-of-sample\n",
    "fast_roll_median = opt_df.fast.iloc[:-1].rolling(n_roll).median()\n",
    "fast_roll_mean = opt_df.fast.iloc[:-1].rolling(n_roll).mean()\n",
    "fast_roll_mode = opt_df.fast.iloc[:-1].rolling(n_roll).apply(lambda x: mode(x)[0])\n",
    "\n",
    "fast_roll_median.plot(ax=ax)\n",
    "fast_roll_mean.plot(ax=ax)\n",
    "fast_roll_mode.plot(ax=ax)\n",
    "\n",
    "ax.legend(['median', 'mean', 'mode'])\n",
    "ax.set_title(f'n rolling: {n_roll}')\n",
    "plt.tight_layout()\n",
    "plt.show()"
   ]
  },
  {
   "cell_type": "code",
   "execution_count": null,
   "id": "a3329d4f",
   "metadata": {
    "ExecuteTime": {
     "start_time": "2022-08-28T09:30:48.015Z"
    }
   },
   "outputs": [],
   "source": [
    "fig, ax = plt.subplots(figsize=(15,5))\n",
    "# exclude last one to be out-of-sample\n",
    "slow_roll_median = opt_df.slow.iloc[:-1].rolling(n_roll).median()\n",
    "slow_roll_mean = opt_df.slow.iloc[:-1].rolling(n_roll).mean()\n",
    "slow_roll_mode = opt_df.slow.iloc[:-1].rolling(n_roll).apply(lambda x: mode(x)[0])\n",
    "\n",
    "slow_roll_median.plot(ax=ax)\n",
    "slow_roll_mean.plot(ax=ax)\n",
    "slow_roll_mode.plot(ax=ax)\n",
    "\n",
    "ax.legend(['median', 'mean', 'mode'])\n",
    "ax.set_title(f'n rolling: {n_roll}')\n",
    "plt.tight_layout()\n",
    "plt.show()"
   ]
  },
  {
   "cell_type": "markdown",
   "id": "8ca4c11d",
   "metadata": {},
   "source": [
    "## median"
   ]
  },
  {
   "cell_type": "code",
   "execution_count": null,
   "id": "12d179ae",
   "metadata": {
    "ExecuteTime": {
     "start_time": "2022-08-28T09:30:48.135Z"
    }
   },
   "outputs": [],
   "source": [
    "fast_p = fast_roll_median.dropna().values\n",
    "slow_p = slow_roll_median.dropna().values\n",
    "\n",
    "params = [*zip(fast_p, slow_p)]"
   ]
  },
  {
   "cell_type": "code",
   "execution_count": null,
   "id": "c4900ccd",
   "metadata": {
    "ExecuteTime": {
     "start_time": "2022-08-28T09:30:48.139Z"
    }
   },
   "outputs": [],
   "source": [
    "test_returns =  p_map(get_strategy_return, repeat(data_sql), params, repeat(freq), \n",
    "                       start_dates[-len(params):], end_dates[-len(params):])"
   ]
  },
  {
   "cell_type": "code",
   "execution_count": null,
   "id": "a3453378",
   "metadata": {
    "ExecuteTime": {
     "start_time": "2022-08-28T09:30:48.141Z"
    }
   },
   "outputs": [],
   "source": [
    "test_returns = pd.DataFrame(test_returns, columns=['params', 'returns'])"
   ]
  },
  {
   "cell_type": "code",
   "execution_count": null,
   "id": "f662842a",
   "metadata": {
    "ExecuteTime": {
     "start_time": "2022-08-28T09:30:48.143Z"
    }
   },
   "outputs": [],
   "source": [
    "test_returns.returns.plot(kind='bar',figsize=(15, 5))\n",
    "plt.tight_layout()\n",
    "plt.show()"
   ]
  },
  {
   "cell_type": "code",
   "execution_count": null,
   "id": "6449a3a3",
   "metadata": {
    "ExecuteTime": {
     "start_time": "2022-08-28T09:30:48.145Z"
    }
   },
   "outputs": [],
   "source": [
    "test_returns.returns.apply(np.sign).value_counts(normalize=True)"
   ]
  },
  {
   "cell_type": "code",
   "execution_count": null,
   "id": "64c7da21",
   "metadata": {
    "ExecuteTime": {
     "start_time": "2022-08-28T09:30:48.146Z"
    }
   },
   "outputs": [],
   "source": [
    "test_returns.returns.mean() * 100"
   ]
  },
  {
   "cell_type": "markdown",
   "id": "938d55a8",
   "metadata": {},
   "source": [
    "## mean"
   ]
  },
  {
   "cell_type": "code",
   "execution_count": null,
   "id": "15a1bec0",
   "metadata": {
    "ExecuteTime": {
     "start_time": "2022-08-28T09:30:48.163Z"
    }
   },
   "outputs": [],
   "source": [
    "fast_p = fast_roll_mean.dropna().values\n",
    "slow_p = slow_roll_mean.dropna().values\n",
    "\n",
    "params = [*zip(fast_p, slow_p)]"
   ]
  },
  {
   "cell_type": "code",
   "execution_count": null,
   "id": "a0008d22",
   "metadata": {
    "ExecuteTime": {
     "start_time": "2022-08-28T09:30:48.165Z"
    }
   },
   "outputs": [],
   "source": [
    "test_returns =  p_map(get_strategy_return, repeat(data_sql), params, repeat(freq), \n",
    "                       start_dates[-len(params):], end_dates[-len(params):])"
   ]
  },
  {
   "cell_type": "code",
   "execution_count": null,
   "id": "628a6255",
   "metadata": {
    "ExecuteTime": {
     "start_time": "2022-08-28T09:30:48.167Z"
    }
   },
   "outputs": [],
   "source": [
    "test_returns = pd.DataFrame(test_returns, columns=['params', 'returns'])"
   ]
  },
  {
   "cell_type": "code",
   "execution_count": null,
   "id": "e83819b4",
   "metadata": {
    "ExecuteTime": {
     "start_time": "2022-08-28T09:30:48.169Z"
    }
   },
   "outputs": [],
   "source": [
    "test_returns.returns.plot(kind='bar',figsize=(15, 5))\n",
    "plt.tight_layout()\n",
    "plt.show()"
   ]
  },
  {
   "cell_type": "code",
   "execution_count": null,
   "id": "0d7c313c",
   "metadata": {
    "ExecuteTime": {
     "start_time": "2022-08-28T09:30:48.171Z"
    }
   },
   "outputs": [],
   "source": [
    "test_returns.returns.apply(np.sign).value_counts(normalize=True)"
   ]
  },
  {
   "cell_type": "code",
   "execution_count": null,
   "id": "edf00b03",
   "metadata": {
    "ExecuteTime": {
     "start_time": "2022-08-28T09:30:48.172Z"
    }
   },
   "outputs": [],
   "source": [
    "test_returns.returns.mean() * 100"
   ]
  },
  {
   "cell_type": "markdown",
   "id": "86ddd357",
   "metadata": {},
   "source": [
    "## mode"
   ]
  },
  {
   "cell_type": "code",
   "execution_count": null,
   "id": "505308e2",
   "metadata": {
    "ExecuteTime": {
     "start_time": "2022-08-28T09:30:48.192Z"
    }
   },
   "outputs": [],
   "source": [
    "fast_p = fast_roll_mode.dropna().values\n",
    "slow_p = slow_roll_mode.dropna().values\n",
    "\n",
    "params = [*zip(fast_p, slow_p)]"
   ]
  },
  {
   "cell_type": "code",
   "execution_count": null,
   "id": "e7148098",
   "metadata": {
    "ExecuteTime": {
     "start_time": "2022-08-28T09:30:48.194Z"
    }
   },
   "outputs": [],
   "source": [
    "test_returns =  p_map(get_strategy_return, repeat(data_sql), params, repeat(freq), \n",
    "                       start_dates[-len(params):], end_dates[-len(params):])"
   ]
  },
  {
   "cell_type": "code",
   "execution_count": null,
   "id": "c73265ff",
   "metadata": {
    "ExecuteTime": {
     "start_time": "2022-08-28T09:30:48.196Z"
    }
   },
   "outputs": [],
   "source": [
    "test_returns = pd.DataFrame(test_returns, columns=['params', 'returns'])"
   ]
  },
  {
   "cell_type": "code",
   "execution_count": null,
   "id": "01553836",
   "metadata": {
    "ExecuteTime": {
     "start_time": "2022-08-28T09:30:48.198Z"
    }
   },
   "outputs": [],
   "source": [
    "test_returns.returns.plot(kind='bar',figsize=(15, 5))\n",
    "plt.tight_layout()\n",
    "plt.show()"
   ]
  },
  {
   "cell_type": "code",
   "execution_count": null,
   "id": "59a8fa7d",
   "metadata": {
    "ExecuteTime": {
     "start_time": "2022-08-28T09:30:48.200Z"
    }
   },
   "outputs": [],
   "source": [
    "test_returns.returns.apply(np.sign).value_counts(normalize=True)"
   ]
  },
  {
   "cell_type": "code",
   "execution_count": null,
   "id": "35772ad9",
   "metadata": {
    "ExecuteTime": {
     "start_time": "2022-08-28T09:30:48.201Z"
    }
   },
   "outputs": [],
   "source": [
    "test_returns.returns.mean() * 100"
   ]
  }
 ],
 "metadata": {
  "kernelspec": {
   "display_name": "Python 3 (ipykernel)",
   "language": "python",
   "name": "python3"
  },
  "language_info": {
   "codemirror_mode": {
    "name": "ipython",
    "version": 3
   },
   "file_extension": ".py",
   "mimetype": "text/x-python",
   "name": "python",
   "nbconvert_exporter": "python",
   "pygments_lexer": "ipython3",
   "version": "3.8.8"
  },
  "latex_envs": {
   "LaTeX_envs_menu_present": true,
   "autoclose": false,
   "autocomplete": true,
   "bibliofile": "biblio.bib",
   "cite_by": "apalike",
   "current_citInitial": 1,
   "eqLabelWithNumbers": true,
   "eqNumInitial": 1,
   "hotkeys": {
    "equation": "Ctrl-E",
    "itemize": "Ctrl-I"
   },
   "labels_anchors": false,
   "latex_user_defs": false,
   "report_style_numbering": false,
   "user_envs_cfg": false
  },
  "toc": {
   "base_numbering": 1,
   "nav_menu": {},
   "number_sections": true,
   "sideBar": true,
   "skip_h1_title": false,
   "title_cell": "Table of Contents",
   "title_sidebar": "Contents",
   "toc_cell": false,
   "toc_position": {},
   "toc_section_display": true,
   "toc_window_display": false
  }
 },
 "nbformat": 4,
 "nbformat_minor": 5
}
