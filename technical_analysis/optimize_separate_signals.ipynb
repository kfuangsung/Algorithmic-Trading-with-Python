{
 "cells": [
  {
   "cell_type": "code",
   "execution_count": 1,
   "id": "17b835a0",
   "metadata": {
    "ExecuteTime": {
     "end_time": "2022-07-25T15:16:14.603629Z",
     "start_time": "2022-07-25T15:16:13.110780Z"
    }
   },
   "outputs": [],
   "source": [
    "import sys \n",
    "import os  \n",
    "import json\n",
    "import datetime as dt \n",
    "import pandas as pd \n",
    "import numpy as np \n",
    "import talib\n",
    "import sqlite3 as sql\n",
    "from itertools import repeat\n",
    "from p_tqdm import p_umap\n",
    "sys.path.append('../')\n",
    "from backtester import * \n",
    "from fxcmtoken import my_assets"
   ]
  },
  {
   "cell_type": "code",
   "execution_count": 2,
   "id": "fe06edc8",
   "metadata": {
    "ExecuteTime": {
     "end_time": "2022-07-25T15:16:14.611731Z",
     "start_time": "2022-07-25T15:16:14.605950Z"
    }
   },
   "outputs": [
    {
     "name": "stdout",
     "output_type": "stream",
     "text": [
      "0 EUR/USD\n",
      "1 USD/JPY\n",
      "2 GBP/USD\n",
      "3 USD/CHF\n",
      "4 AUD/USD\n",
      "5 USD/CAD\n",
      "6 NZD/USD\n",
      "7 AUS200\n",
      "8 ESP35\n",
      "9 EUSTX50\n",
      "10 FRA40\n",
      "11 GER30\n",
      "12 HKG33\n",
      "13 JPN225\n",
      "14 NAS100\n",
      "15 SPX500\n",
      "16 UK100\n",
      "17 US30\n",
      "18 Copper\n",
      "19 NGAS\n",
      "20 UKOil\n",
      "21 USOil\n",
      "22 XAU/USD\n",
      "23 XAG/USD\n"
     ]
    }
   ],
   "source": [
    "for i, a in enumerate(my_assets):\n",
    "    print(i, a)"
   ]
  },
  {
   "cell_type": "code",
   "execution_count": 3,
   "id": "c4d09e5a",
   "metadata": {
    "ExecuteTime": {
     "end_time": "2022-07-25T15:16:14.878423Z",
     "start_time": "2022-07-25T15:16:14.615023Z"
    }
   },
   "outputs": [
    {
     "name": "stdout",
     "output_type": "stream",
     "text": [
      "FRA40\n"
     ]
    },
    {
     "data": {
      "text/html": [
       "<div>\n",
       "<style scoped>\n",
       "    .dataframe tbody tr th:only-of-type {\n",
       "        vertical-align: middle;\n",
       "    }\n",
       "\n",
       "    .dataframe tbody tr th {\n",
       "        vertical-align: top;\n",
       "    }\n",
       "\n",
       "    .dataframe thead th {\n",
       "        text-align: right;\n",
       "    }\n",
       "</style>\n",
       "<table border=\"1\" class=\"dataframe\">\n",
       "  <thead>\n",
       "    <tr style=\"text-align: right;\">\n",
       "      <th></th>\n",
       "      <th>bidopen</th>\n",
       "      <th>bidclose</th>\n",
       "      <th>bidhigh</th>\n",
       "      <th>bidlow</th>\n",
       "      <th>askopen</th>\n",
       "      <th>askclose</th>\n",
       "      <th>askhigh</th>\n",
       "      <th>asklow</th>\n",
       "      <th>tickqty</th>\n",
       "      <th>open</th>\n",
       "      <th>close</th>\n",
       "      <th>high</th>\n",
       "      <th>low</th>\n",
       "    </tr>\n",
       "    <tr>\n",
       "      <th>date</th>\n",
       "      <th></th>\n",
       "      <th></th>\n",
       "      <th></th>\n",
       "      <th></th>\n",
       "      <th></th>\n",
       "      <th></th>\n",
       "      <th></th>\n",
       "      <th></th>\n",
       "      <th></th>\n",
       "      <th></th>\n",
       "      <th></th>\n",
       "      <th></th>\n",
       "      <th></th>\n",
       "    </tr>\n",
       "  </thead>\n",
       "  <tbody>\n",
       "    <tr>\n",
       "      <th>2022-07-22 15:00:00</th>\n",
       "      <td>6225.68</td>\n",
       "      <td>6211.04</td>\n",
       "      <td>6230.38</td>\n",
       "      <td>6200.63</td>\n",
       "      <td>6226.68</td>\n",
       "      <td>6212.04</td>\n",
       "      <td>6231.38</td>\n",
       "      <td>6201.63</td>\n",
       "      <td>6323</td>\n",
       "      <td>6226.18</td>\n",
       "      <td>6211.54</td>\n",
       "      <td>6230.88</td>\n",
       "      <td>6201.13</td>\n",
       "    </tr>\n",
       "    <tr>\n",
       "      <th>2022-07-22 16:00:00</th>\n",
       "      <td>6211.29</td>\n",
       "      <td>6195.34</td>\n",
       "      <td>6214.21</td>\n",
       "      <td>6194.10</td>\n",
       "      <td>6212.29</td>\n",
       "      <td>6196.34</td>\n",
       "      <td>6215.21</td>\n",
       "      <td>6195.10</td>\n",
       "      <td>2582</td>\n",
       "      <td>6211.79</td>\n",
       "      <td>6195.84</td>\n",
       "      <td>6214.71</td>\n",
       "      <td>6194.60</td>\n",
       "    </tr>\n",
       "    <tr>\n",
       "      <th>2022-07-22 17:00:00</th>\n",
       "      <td>6194.84</td>\n",
       "      <td>6181.79</td>\n",
       "      <td>6194.84</td>\n",
       "      <td>6173.65</td>\n",
       "      <td>6195.84</td>\n",
       "      <td>6182.79</td>\n",
       "      <td>6195.84</td>\n",
       "      <td>6174.65</td>\n",
       "      <td>1922</td>\n",
       "      <td>6195.34</td>\n",
       "      <td>6182.29</td>\n",
       "      <td>6195.34</td>\n",
       "      <td>6174.15</td>\n",
       "    </tr>\n",
       "    <tr>\n",
       "      <th>2022-07-22 18:00:00</th>\n",
       "      <td>6181.42</td>\n",
       "      <td>6168.42</td>\n",
       "      <td>6182.19</td>\n",
       "      <td>6161.08</td>\n",
       "      <td>6182.42</td>\n",
       "      <td>6169.42</td>\n",
       "      <td>6183.19</td>\n",
       "      <td>6162.08</td>\n",
       "      <td>1868</td>\n",
       "      <td>6181.92</td>\n",
       "      <td>6168.92</td>\n",
       "      <td>6182.69</td>\n",
       "      <td>6161.58</td>\n",
       "    </tr>\n",
       "    <tr>\n",
       "      <th>2022-07-22 19:00:00</th>\n",
       "      <td>6168.38</td>\n",
       "      <td>6178.51</td>\n",
       "      <td>6182.79</td>\n",
       "      <td>6163.92</td>\n",
       "      <td>6169.38</td>\n",
       "      <td>6179.71</td>\n",
       "      <td>6183.79</td>\n",
       "      <td>6164.92</td>\n",
       "      <td>2226</td>\n",
       "      <td>6168.88</td>\n",
       "      <td>6179.11</td>\n",
       "      <td>6183.29</td>\n",
       "      <td>6164.42</td>\n",
       "    </tr>\n",
       "  </tbody>\n",
       "</table>\n",
       "</div>"
      ],
      "text/plain": [
       "                     bidopen  bidclose  bidhigh   bidlow  askopen  askclose  \\\n",
       "date                                                                          \n",
       "2022-07-22 15:00:00  6225.68   6211.04  6230.38  6200.63  6226.68   6212.04   \n",
       "2022-07-22 16:00:00  6211.29   6195.34  6214.21  6194.10  6212.29   6196.34   \n",
       "2022-07-22 17:00:00  6194.84   6181.79  6194.84  6173.65  6195.84   6182.79   \n",
       "2022-07-22 18:00:00  6181.42   6168.42  6182.19  6161.08  6182.42   6169.42   \n",
       "2022-07-22 19:00:00  6168.38   6178.51  6182.79  6163.92  6169.38   6179.71   \n",
       "\n",
       "                     askhigh   asklow  tickqty     open    close     high  \\\n",
       "date                                                                        \n",
       "2022-07-22 15:00:00  6231.38  6201.63     6323  6226.18  6211.54  6230.88   \n",
       "2022-07-22 16:00:00  6215.21  6195.10     2582  6211.79  6195.84  6214.71   \n",
       "2022-07-22 17:00:00  6195.84  6174.65     1922  6195.34  6182.29  6195.34   \n",
       "2022-07-22 18:00:00  6183.19  6162.08     1868  6181.92  6168.92  6182.69   \n",
       "2022-07-22 19:00:00  6183.79  6164.92     2226  6168.88  6179.11  6183.29   \n",
       "\n",
       "                         low  \n",
       "date                          \n",
       "2022-07-22 15:00:00  6201.13  \n",
       "2022-07-22 16:00:00  6194.60  \n",
       "2022-07-22 17:00:00  6174.15  \n",
       "2022-07-22 18:00:00  6161.58  \n",
       "2022-07-22 19:00:00  6164.42  "
      ]
     },
     "execution_count": 3,
     "metadata": {},
     "output_type": "execute_result"
    }
   ],
   "source": [
    "freq = 'H1'\n",
    "conn = sql.connect(f'../PriceData/PriceData_{freq}.db')\n",
    "ticker = my_assets[10]\n",
    "print(ticker)\n",
    "data_sql = pd.read_sql(f\"SELECT * FROM '{ticker}'\", conn, parse_dates=['date'], index_col=['date'])\n",
    "for col in ['open', 'close', 'high', 'low']:\n",
    "    data_sql[col] = data_sql[['bid'+col, 'ask'+col]].mean(axis=1)\n",
    "conn.close()\n",
    "data_sql.tail()"
   ]
  },
  {
   "cell_type": "code",
   "execution_count": 4,
   "id": "3ec3b9a3",
   "metadata": {
    "ExecuteTime": {
     "end_time": "2022-07-25T15:16:14.890668Z",
     "start_time": "2022-07-25T15:16:14.881904Z"
    }
   },
   "outputs": [],
   "source": [
    "def get_mama_return(n_period, data, freq, split_date):\n",
    "    \n",
    "    data['ht'] = talib.HT_TRENDLINE(data.close)\n",
    "    data.dropna(axis=0, inplace=True)\n",
    "    data['mama'], data['fama'] = talib.MAMA(data.ht, fastlimit=n_period, slowlimit=n_period/10)\n",
    "    data.dropna(axis=0, inplace=True)\n",
    "    data['signals'] = np.where(data.mama > data.fama, 1, -1) \n",
    "    \n",
    "    train, test = (data.loc[pd.Timestamp(split_date)-dt.timedelta(days=7):pd.Timestamp(split_date)-dt.timedelta(days=1)] , \n",
    "                   data.loc[pd.Timestamp(split_date):])\n",
    "    \n",
    "    train_backtest = IterativeBacktester(data=train, signals=train.signals, freq=freq)\n",
    "    train_backtest.backtest(progress_bar=False)\n",
    "    \n",
    "    test_backtest = IterativeBacktester(data=test, signals=test.signals, freq=freq)\n",
    "    test_backtest.backtest(progress_bar=False)\n",
    "\n",
    "    return n_period, train_backtest.return_df.loc['TotalReturn', 'Portfolio'], test_backtest.return_df.loc['TotalReturn', 'Portfolio']"
   ]
  },
  {
   "cell_type": "code",
   "execution_count": 5,
   "id": "5c892d81",
   "metadata": {
    "ExecuteTime": {
     "end_time": "2022-07-25T15:16:14.900635Z",
     "start_time": "2022-07-25T15:16:14.893474Z"
    }
   },
   "outputs": [],
   "source": [
    "def get_tsf_return(n_period, data, freq, split_date):\n",
    "    \n",
    "    data['ht'] = talib.HT_TRENDLINE(data.close)\n",
    "    data['tsf'] = talib.TSF(data.ht, n_period)\n",
    "    data.dropna(axis=0, inplace=True)\n",
    "    data['signals'] = np.where(data.ht > data.tsf, 1, -1)\n",
    "    \n",
    "    train, test = (data.loc[pd.Timestamp(split_date)-dt.timedelta(days=7):pd.Timestamp(split_date)-dt.timedelta(days=1)] , \n",
    "                   data.loc[pd.Timestamp(split_date):])\n",
    "    \n",
    "    train_backtest = IterativeBacktester(data=train, signals=train.signals, freq=freq)\n",
    "    train_backtest.backtest(progress_bar=False)\n",
    "    \n",
    "    test_backtest = IterativeBacktester(data=test, signals=test.signals, freq=freq)\n",
    "    test_backtest.backtest(progress_bar=False)\n",
    "\n",
    "    return n_period, train_backtest.return_df.loc['TotalReturn', 'Portfolio'], test_backtest.return_df.loc['TotalReturn', 'Portfolio']"
   ]
  },
  {
   "cell_type": "code",
   "execution_count": 6,
   "id": "79f2e4d1",
   "metadata": {
    "ExecuteTime": {
     "end_time": "2022-07-25T15:16:14.910313Z",
     "start_time": "2022-07-25T15:16:14.903524Z"
    }
   },
   "outputs": [],
   "source": [
    "def get_slope_return(n_period, data, freq, split_date):\n",
    "    \n",
    "    data['ht'] = talib.HT_TRENDLINE(data.close)\n",
    "    data.dropna(axis=0, inplace=True)\n",
    "    data['signals'] = talib.LINEARREG_SLOPE(data.ht, timeperiod=n_period).apply(np.sign)\n",
    "    data.dropna(axis=0, inplace=True)\n",
    "    \n",
    "    train, test = (data.loc[pd.Timestamp(split_date)-dt.timedelta(days=7):pd.Timestamp(split_date)-dt.timedelta(days=1)] , \n",
    "                   data.loc[pd.Timestamp(split_date):])\n",
    "    \n",
    "    train_backtest = IterativeBacktester(data=train, signals=train.signals, freq=freq)\n",
    "    train_backtest.backtest(progress_bar=False)\n",
    "    \n",
    "    test_backtest = IterativeBacktester(data=test, signals=test.signals, freq=freq)\n",
    "    test_backtest.backtest(progress_bar=False)\n",
    "\n",
    "    return n_period, train_backtest.return_df.loc['TotalReturn', 'Portfolio'], test_backtest.return_df.loc['TotalReturn', 'Portfolio']"
   ]
  },
  {
   "cell_type": "code",
   "execution_count": 7,
   "id": "93ea2717",
   "metadata": {
    "ExecuteTime": {
     "end_time": "2022-07-25T15:16:14.928406Z",
     "start_time": "2022-07-25T15:16:14.912433Z"
    }
   },
   "outputs": [],
   "source": [
    "def get_performance(data, split_date, params, freq):\n",
    "    # params --> (mama, slope, tsf)\n",
    "      \n",
    "    data['ht'] = talib.HT_TRENDLINE(data.close)\n",
    "    data['mama'], data['fama'] = talib.MAMA(data.ht, fastlimit=params[0], slowlimit=params[0]/10)\n",
    "    data['slope'] = talib.LINEARREG_SLOPE(data.ht, timeperiod=params[1])\n",
    "    data['tsf'] = talib.TSF(data.ht, params[2])\n",
    "    data.dropna(axis=0, inplace=True)\n",
    "\n",
    "    # signals\n",
    "    data['mama_signals'] = np.where(data.mama > data.fama, 1, -1) \n",
    "    data['slope_signals'] = data.slope.apply(np.sign)\n",
    "    data['tsf_signals'] = np.where(data.ht > data.tsf, 1, -1)\n",
    "    signal_cols = ['mama_signals', 'slope_signals', 'tsf_signals']\n",
    "    data['agg_signals'] = data[signal_cols].mode(axis=1)\n",
    "    \n",
    "    # train/test split\n",
    "    train, test = (data.loc[pd.Timestamp(split_date)-dt.timedelta(days=7):pd.Timestamp(split_date)-dt.timedelta(days=1)] , \n",
    "                   data.loc[pd.Timestamp(split_date):])\n",
    "    \n",
    "    # backtest train\n",
    "    train_date_range = train.index[-1]-train.index[0]\n",
    "    train_backtest = IterativeBacktester(data=train, signals=train.agg_signals, freq=freq)\n",
    "    train_backtest.backtest(progress_bar=False)\n",
    "    \n",
    "    train_ret = train_backtest.return_df.loc['TotalReturn', 'Portfolio']\n",
    "    train_signal_counts = train_backtest.signals.value_counts()\n",
    "    train_signal_changes = train_backtest.signals.diff(1).dropna().apply(np.abs).value_counts()\n",
    "    \n",
    "    train_total_days = train_date_range.total_seconds() / (60*60*24)\n",
    "    try:\n",
    "        train_pos_short = train_signal_counts[-1]\n",
    "    except:\n",
    "        train_pos_short = 0\n",
    "    try:\n",
    "        train_pos_long = train_signal_counts[1]\n",
    "    except:\n",
    "        train_pos_long = 0\n",
    "    train_pos_changes = (train_signal_changes.index * train_signal_changes).sum()\n",
    "    \n",
    "    # backtest test\n",
    "    test_date_range = test.index[-1]-test.index[0]\n",
    "    test_backtest = IterativeBacktester(data=test, signals=test.agg_signals, freq=freq)\n",
    "    test_backtest.backtest(progress_bar=False)\n",
    "    \n",
    "    test_ret = test_backtest.return_df.loc['TotalReturn', 'Portfolio']\n",
    "    test_signal_counts = test_backtest.signals.value_counts()\n",
    "    test_signal_changes = test_backtest.signals.diff(1).dropna().apply(np.abs).value_counts()\n",
    "    \n",
    "    test_total_days = test_date_range.total_seconds() / (60*60*24)\n",
    "    try:\n",
    "        test_pos_short = test_signal_counts[-1]\n",
    "    except:\n",
    "        test_pos_short = 0\n",
    "    try:\n",
    "        test_pos_long = test_signal_counts[1]\n",
    "    except:\n",
    "        test_pos_long = 0\n",
    "    test_pos_changes = (test_signal_changes.index * test_signal_changes).sum()\n",
    "    \n",
    "    # (train , test)\n",
    "    # returns, #days, #short, #long, #posChanges\n",
    "#     performances[params] = (train_ret, train_total_days, train_pos_short, train_pos_long, train_pos_changes,\n",
    "#                             test_ret, test_total_days, test_pos_short, test_pos_long, test_pos_changes)\n",
    "    return (params, \n",
    "            train_ret, train_total_days, train_pos_short, train_pos_long, train_pos_changes,\n",
    "            test_ret, test_total_days, test_pos_short, test_pos_long, test_pos_changes)"
   ]
  },
  {
   "cell_type": "code",
   "execution_count": 8,
   "id": "3222255a",
   "metadata": {
    "ExecuteTime": {
     "end_time": "2022-07-25T15:18:31.439710Z",
     "start_time": "2022-07-25T15:16:14.930420Z"
    },
    "code_folding": [
     58
    ],
    "scrolled": false
   },
   "outputs": [
    {
     "data": {
      "application/vnd.jupyter.widget-view+json": {
       "model_id": "cd5695e34b44470786058b2cc20f3502",
       "version_major": 2,
       "version_minor": 0
      },
      "text/plain": [
       "  0%|          | 0/24 [00:00<?, ?it/s]"
      ]
     },
     "metadata": {},
     "output_type": "display_data"
    },
    {
     "data": {
      "application/vnd.jupyter.widget-view+json": {
       "model_id": "",
       "version_major": 2,
       "version_minor": 0
      },
      "text/plain": [
       "  0%|          | 0/9 [00:00<?, ?it/s]"
      ]
     },
     "metadata": {},
     "output_type": "display_data"
    },
    {
     "data": {
      "application/vnd.jupyter.widget-view+json": {
       "model_id": "",
       "version_major": 2,
       "version_minor": 0
      },
      "text/plain": [
       "  0%|          | 0/31 [00:00<?, ?it/s]"
      ]
     },
     "metadata": {},
     "output_type": "display_data"
    },
    {
     "data": {
      "application/vnd.jupyter.widget-view+json": {
       "model_id": "",
       "version_major": 2,
       "version_minor": 0
      },
      "text/plain": [
       "  0%|          | 0/31 [00:00<?, ?it/s]"
      ]
     },
     "metadata": {},
     "output_type": "display_data"
    },
    {
     "name": "stdout",
     "output_type": "stream",
     "text": [
      "EUR/USD | H1\n",
      "(0.1, 200, 380)\n",
      "TrainReturn: 0.86 %\n",
      "TestReturn: -0.22 %\n",
      "--------------------------------------------------\n"
     ]
    },
    {
     "data": {
      "application/vnd.jupyter.widget-view+json": {
       "model_id": "",
       "version_major": 2,
       "version_minor": 0
      },
      "text/plain": [
       "  0%|          | 0/9 [00:00<?, ?it/s]"
      ]
     },
     "metadata": {},
     "output_type": "display_data"
    },
    {
     "data": {
      "application/vnd.jupyter.widget-view+json": {
       "model_id": "",
       "version_major": 2,
       "version_minor": 0
      },
      "text/plain": [
       "  0%|          | 0/31 [00:00<?, ?it/s]"
      ]
     },
     "metadata": {},
     "output_type": "display_data"
    },
    {
     "data": {
      "application/vnd.jupyter.widget-view+json": {
       "model_id": "",
       "version_major": 2,
       "version_minor": 0
      },
      "text/plain": [
       "  0%|          | 0/31 [00:00<?, ?it/s]"
      ]
     },
     "metadata": {},
     "output_type": "display_data"
    },
    {
     "name": "stdout",
     "output_type": "stream",
     "text": [
      "USD/JPY | H1\n",
      "(0.1, 350, 350)\n",
      "TrainReturn: 1.86 %\n",
      "TestReturn: -0.63 %\n",
      "--------------------------------------------------\n"
     ]
    },
    {
     "data": {
      "application/vnd.jupyter.widget-view+json": {
       "model_id": "",
       "version_major": 2,
       "version_minor": 0
      },
      "text/plain": [
       "  0%|          | 0/9 [00:00<?, ?it/s]"
      ]
     },
     "metadata": {},
     "output_type": "display_data"
    },
    {
     "data": {
      "application/vnd.jupyter.widget-view+json": {
       "model_id": "",
       "version_major": 2,
       "version_minor": 0
      },
      "text/plain": [
       "  0%|          | 0/31 [00:00<?, ?it/s]"
      ]
     },
     "metadata": {},
     "output_type": "display_data"
    },
    {
     "data": {
      "application/vnd.jupyter.widget-view+json": {
       "model_id": "",
       "version_major": 2,
       "version_minor": 0
      },
      "text/plain": [
       "  0%|          | 0/31 [00:00<?, ?it/s]"
      ]
     },
     "metadata": {},
     "output_type": "display_data"
    },
    {
     "name": "stdout",
     "output_type": "stream",
     "text": [
      "GBP/USD | H1\n",
      "(0.1, 200, 460)\n",
      "TrainReturn: 1.37 %\n",
      "TestReturn: -0.09 %\n",
      "--------------------------------------------------\n"
     ]
    },
    {
     "data": {
      "application/vnd.jupyter.widget-view+json": {
       "model_id": "",
       "version_major": 2,
       "version_minor": 0
      },
      "text/plain": [
       "  0%|          | 0/9 [00:00<?, ?it/s]"
      ]
     },
     "metadata": {},
     "output_type": "display_data"
    },
    {
     "data": {
      "application/vnd.jupyter.widget-view+json": {
       "model_id": "",
       "version_major": 2,
       "version_minor": 0
      },
      "text/plain": [
       "  0%|          | 0/31 [00:00<?, ?it/s]"
      ]
     },
     "metadata": {},
     "output_type": "display_data"
    },
    {
     "data": {
      "application/vnd.jupyter.widget-view+json": {
       "model_id": "",
       "version_major": 2,
       "version_minor": 0
      },
      "text/plain": [
       "  0%|          | 0/31 [00:00<?, ?it/s]"
      ]
     },
     "metadata": {},
     "output_type": "display_data"
    },
    {
     "name": "stdout",
     "output_type": "stream",
     "text": [
      "USD/CHF | H1\n",
      "(0.1, 480, 240)\n",
      "TrainReturn: 1.31 %\n",
      "TestReturn: 1.52 %\n",
      "--------------------------------------------------\n"
     ]
    },
    {
     "data": {
      "application/vnd.jupyter.widget-view+json": {
       "model_id": "",
       "version_major": 2,
       "version_minor": 0
      },
      "text/plain": [
       "  0%|          | 0/9 [00:00<?, ?it/s]"
      ]
     },
     "metadata": {},
     "output_type": "display_data"
    },
    {
     "data": {
      "application/vnd.jupyter.widget-view+json": {
       "model_id": "",
       "version_major": 2,
       "version_minor": 0
      },
      "text/plain": [
       "  0%|          | 0/31 [00:00<?, ?it/s]"
      ]
     },
     "metadata": {},
     "output_type": "display_data"
    },
    {
     "data": {
      "application/vnd.jupyter.widget-view+json": {
       "model_id": "",
       "version_major": 2,
       "version_minor": 0
      },
      "text/plain": [
       "  0%|          | 0/31 [00:00<?, ?it/s]"
      ]
     },
     "metadata": {},
     "output_type": "display_data"
    },
    {
     "name": "stdout",
     "output_type": "stream",
     "text": [
      "AUD/USD | H1\n",
      "(0.9, 210, 370)\n",
      "TrainReturn: 1.51 %\n",
      "TestReturn: 1.84 %\n",
      "--------------------------------------------------\n"
     ]
    },
    {
     "data": {
      "application/vnd.jupyter.widget-view+json": {
       "model_id": "",
       "version_major": 2,
       "version_minor": 0
      },
      "text/plain": [
       "  0%|          | 0/9 [00:00<?, ?it/s]"
      ]
     },
     "metadata": {},
     "output_type": "display_data"
    },
    {
     "data": {
      "application/vnd.jupyter.widget-view+json": {
       "model_id": "",
       "version_major": 2,
       "version_minor": 0
      },
      "text/plain": [
       "  0%|          | 0/31 [00:00<?, ?it/s]"
      ]
     },
     "metadata": {},
     "output_type": "display_data"
    },
    {
     "data": {
      "application/vnd.jupyter.widget-view+json": {
       "model_id": "",
       "version_major": 2,
       "version_minor": 0
      },
      "text/plain": [
       "  0%|          | 0/31 [00:00<?, ?it/s]"
      ]
     },
     "metadata": {},
     "output_type": "display_data"
    },
    {
     "name": "stdout",
     "output_type": "stream",
     "text": [
      "USD/CAD | H1\n",
      "(0.1, 410, 500)\n",
      "TrainReturn: 0.46 %\n",
      "TestReturn: 0.29 %\n",
      "--------------------------------------------------\n"
     ]
    },
    {
     "data": {
      "application/vnd.jupyter.widget-view+json": {
       "model_id": "",
       "version_major": 2,
       "version_minor": 0
      },
      "text/plain": [
       "  0%|          | 0/9 [00:00<?, ?it/s]"
      ]
     },
     "metadata": {},
     "output_type": "display_data"
    },
    {
     "data": {
      "application/vnd.jupyter.widget-view+json": {
       "model_id": "",
       "version_major": 2,
       "version_minor": 0
      },
      "text/plain": [
       "  0%|          | 0/31 [00:00<?, ?it/s]"
      ]
     },
     "metadata": {},
     "output_type": "display_data"
    },
    {
     "data": {
      "application/vnd.jupyter.widget-view+json": {
       "model_id": "",
       "version_major": 2,
       "version_minor": 0
      },
      "text/plain": [
       "  0%|          | 0/31 [00:00<?, ?it/s]"
      ]
     },
     "metadata": {},
     "output_type": "display_data"
    },
    {
     "name": "stdout",
     "output_type": "stream",
     "text": [
      "NZD/USD | H1\n",
      "(0.1, 200, 500)\n",
      "TrainReturn: 0.37 %\n",
      "TestReturn: 1.35 %\n",
      "--------------------------------------------------\n"
     ]
    },
    {
     "data": {
      "application/vnd.jupyter.widget-view+json": {
       "model_id": "",
       "version_major": 2,
       "version_minor": 0
      },
      "text/plain": [
       "  0%|          | 0/9 [00:00<?, ?it/s]"
      ]
     },
     "metadata": {},
     "output_type": "display_data"
    },
    {
     "data": {
      "application/vnd.jupyter.widget-view+json": {
       "model_id": "",
       "version_major": 2,
       "version_minor": 0
      },
      "text/plain": [
       "  0%|          | 0/31 [00:00<?, ?it/s]"
      ]
     },
     "metadata": {},
     "output_type": "display_data"
    },
    {
     "data": {
      "application/vnd.jupyter.widget-view+json": {
       "model_id": "",
       "version_major": 2,
       "version_minor": 0
      },
      "text/plain": [
       "  0%|          | 0/31 [00:00<?, ?it/s]"
      ]
     },
     "metadata": {},
     "output_type": "display_data"
    },
    {
     "name": "stdout",
     "output_type": "stream",
     "text": [
      "AUS200 | H1\n",
      "(0.1, 240, 360)\n",
      "TrainReturn: -0.09 %\n",
      "TestReturn: 1.00 %\n",
      "--------------------------------------------------\n"
     ]
    },
    {
     "data": {
      "application/vnd.jupyter.widget-view+json": {
       "model_id": "",
       "version_major": 2,
       "version_minor": 0
      },
      "text/plain": [
       "  0%|          | 0/9 [00:00<?, ?it/s]"
      ]
     },
     "metadata": {},
     "output_type": "display_data"
    },
    {
     "data": {
      "application/vnd.jupyter.widget-view+json": {
       "model_id": "",
       "version_major": 2,
       "version_minor": 0
      },
      "text/plain": [
       "  0%|          | 0/31 [00:00<?, ?it/s]"
      ]
     },
     "metadata": {},
     "output_type": "display_data"
    },
    {
     "data": {
      "application/vnd.jupyter.widget-view+json": {
       "model_id": "",
       "version_major": 2,
       "version_minor": 0
      },
      "text/plain": [
       "  0%|          | 0/31 [00:00<?, ?it/s]"
      ]
     },
     "metadata": {},
     "output_type": "display_data"
    },
    {
     "name": "stdout",
     "output_type": "stream",
     "text": [
      "ESP35 | H1\n",
      "(0.5, 200, 250)\n",
      "TrainReturn: 2.35 %\n",
      "TestReturn: -0.95 %\n",
      "--------------------------------------------------\n"
     ]
    },
    {
     "data": {
      "application/vnd.jupyter.widget-view+json": {
       "model_id": "",
       "version_major": 2,
       "version_minor": 0
      },
      "text/plain": [
       "  0%|          | 0/9 [00:00<?, ?it/s]"
      ]
     },
     "metadata": {},
     "output_type": "display_data"
    },
    {
     "data": {
      "application/vnd.jupyter.widget-view+json": {
       "model_id": "",
       "version_major": 2,
       "version_minor": 0
      },
      "text/plain": [
       "  0%|          | 0/31 [00:00<?, ?it/s]"
      ]
     },
     "metadata": {},
     "output_type": "display_data"
    },
    {
     "data": {
      "application/vnd.jupyter.widget-view+json": {
       "model_id": "",
       "version_major": 2,
       "version_minor": 0
      },
      "text/plain": [
       "  0%|          | 0/31 [00:00<?, ?it/s]"
      ]
     },
     "metadata": {},
     "output_type": "display_data"
    },
    {
     "name": "stdout",
     "output_type": "stream",
     "text": [
      "EUSTX50 | H1\n",
      "(0.4, 200, 500)\n",
      "TrainReturn: 2.27 %\n",
      "TestReturn: 1.36 %\n",
      "--------------------------------------------------\n"
     ]
    },
    {
     "data": {
      "application/vnd.jupyter.widget-view+json": {
       "model_id": "",
       "version_major": 2,
       "version_minor": 0
      },
      "text/plain": [
       "  0%|          | 0/9 [00:00<?, ?it/s]"
      ]
     },
     "metadata": {},
     "output_type": "display_data"
    },
    {
     "data": {
      "application/vnd.jupyter.widget-view+json": {
       "model_id": "",
       "version_major": 2,
       "version_minor": 0
      },
      "text/plain": [
       "  0%|          | 0/31 [00:00<?, ?it/s]"
      ]
     },
     "metadata": {},
     "output_type": "display_data"
    },
    {
     "data": {
      "application/vnd.jupyter.widget-view+json": {
       "model_id": "",
       "version_major": 2,
       "version_minor": 0
      },
      "text/plain": [
       "  0%|          | 0/31 [00:00<?, ?it/s]"
      ]
     },
     "metadata": {},
     "output_type": "display_data"
    },
    {
     "name": "stdout",
     "output_type": "stream",
     "text": [
      "FRA40 | H1\n",
      "(0.30000000000000004, 320, 360)\n",
      "TrainReturn: 2.97 %\n",
      "TestReturn: 1.46 %\n",
      "--------------------------------------------------\n"
     ]
    },
    {
     "data": {
      "application/vnd.jupyter.widget-view+json": {
       "model_id": "",
       "version_major": 2,
       "version_minor": 0
      },
      "text/plain": [
       "  0%|          | 0/9 [00:00<?, ?it/s]"
      ]
     },
     "metadata": {},
     "output_type": "display_data"
    },
    {
     "data": {
      "application/vnd.jupyter.widget-view+json": {
       "model_id": "",
       "version_major": 2,
       "version_minor": 0
      },
      "text/plain": [
       "  0%|          | 0/31 [00:00<?, ?it/s]"
      ]
     },
     "metadata": {},
     "output_type": "display_data"
    },
    {
     "data": {
      "application/vnd.jupyter.widget-view+json": {
       "model_id": "",
       "version_major": 2,
       "version_minor": 0
      },
      "text/plain": [
       "  0%|          | 0/31 [00:00<?, ?it/s]"
      ]
     },
     "metadata": {},
     "output_type": "display_data"
    },
    {
     "name": "stdout",
     "output_type": "stream",
     "text": [
      "GER30 | H1\n",
      "(0.2, 210, 500)\n",
      "TrainReturn: 5.15 %\n",
      "TestReturn: -0.31 %\n",
      "--------------------------------------------------\n"
     ]
    },
    {
     "data": {
      "application/vnd.jupyter.widget-view+json": {
       "model_id": "",
       "version_major": 2,
       "version_minor": 0
      },
      "text/plain": [
       "  0%|          | 0/9 [00:00<?, ?it/s]"
      ]
     },
     "metadata": {},
     "output_type": "display_data"
    },
    {
     "data": {
      "application/vnd.jupyter.widget-view+json": {
       "model_id": "",
       "version_major": 2,
       "version_minor": 0
      },
      "text/plain": [
       "  0%|          | 0/31 [00:00<?, ?it/s]"
      ]
     },
     "metadata": {},
     "output_type": "display_data"
    },
    {
     "data": {
      "application/vnd.jupyter.widget-view+json": {
       "model_id": "",
       "version_major": 2,
       "version_minor": 0
      },
      "text/plain": [
       "  0%|          | 0/31 [00:00<?, ?it/s]"
      ]
     },
     "metadata": {},
     "output_type": "display_data"
    },
    {
     "name": "stdout",
     "output_type": "stream",
     "text": [
      "HKG33 | H1\n",
      "(0.1, 200, 210)\n",
      "TrainReturn: 4.10 %\n",
      "TestReturn: 0.05 %\n",
      "--------------------------------------------------\n"
     ]
    },
    {
     "data": {
      "application/vnd.jupyter.widget-view+json": {
       "model_id": "",
       "version_major": 2,
       "version_minor": 0
      },
      "text/plain": [
       "  0%|          | 0/9 [00:00<?, ?it/s]"
      ]
     },
     "metadata": {},
     "output_type": "display_data"
    },
    {
     "data": {
      "application/vnd.jupyter.widget-view+json": {
       "model_id": "",
       "version_major": 2,
       "version_minor": 0
      },
      "text/plain": [
       "  0%|          | 0/31 [00:00<?, ?it/s]"
      ]
     },
     "metadata": {},
     "output_type": "display_data"
    },
    {
     "data": {
      "application/vnd.jupyter.widget-view+json": {
       "model_id": "",
       "version_major": 2,
       "version_minor": 0
      },
      "text/plain": [
       "  0%|          | 0/31 [00:00<?, ?it/s]"
      ]
     },
     "metadata": {},
     "output_type": "display_data"
    },
    {
     "name": "stdout",
     "output_type": "stream",
     "text": [
      "JPN225 | H1\n",
      "(0.7000000000000001, 480, 250)\n",
      "TrainReturn: 3.55 %\n",
      "TestReturn: 2.27 %\n",
      "--------------------------------------------------\n"
     ]
    },
    {
     "data": {
      "application/vnd.jupyter.widget-view+json": {
       "model_id": "",
       "version_major": 2,
       "version_minor": 0
      },
      "text/plain": [
       "  0%|          | 0/9 [00:00<?, ?it/s]"
      ]
     },
     "metadata": {},
     "output_type": "display_data"
    },
    {
     "data": {
      "application/vnd.jupyter.widget-view+json": {
       "model_id": "",
       "version_major": 2,
       "version_minor": 0
      },
      "text/plain": [
       "  0%|          | 0/31 [00:00<?, ?it/s]"
      ]
     },
     "metadata": {},
     "output_type": "display_data"
    },
    {
     "data": {
      "application/vnd.jupyter.widget-view+json": {
       "model_id": "",
       "version_major": 2,
       "version_minor": 0
      },
      "text/plain": [
       "  0%|          | 0/31 [00:00<?, ?it/s]"
      ]
     },
     "metadata": {},
     "output_type": "display_data"
    },
    {
     "name": "stdout",
     "output_type": "stream",
     "text": [
      "NAS100 | H1\n",
      "(0.6, 230, 200)\n",
      "TrainReturn: -0.08 %\n",
      "TestReturn: 3.11 %\n",
      "--------------------------------------------------\n"
     ]
    },
    {
     "data": {
      "application/vnd.jupyter.widget-view+json": {
       "model_id": "",
       "version_major": 2,
       "version_minor": 0
      },
      "text/plain": [
       "  0%|          | 0/9 [00:00<?, ?it/s]"
      ]
     },
     "metadata": {},
     "output_type": "display_data"
    },
    {
     "data": {
      "application/vnd.jupyter.widget-view+json": {
       "model_id": "",
       "version_major": 2,
       "version_minor": 0
      },
      "text/plain": [
       "  0%|          | 0/31 [00:00<?, ?it/s]"
      ]
     },
     "metadata": {},
     "output_type": "display_data"
    },
    {
     "data": {
      "application/vnd.jupyter.widget-view+json": {
       "model_id": "",
       "version_major": 2,
       "version_minor": 0
      },
      "text/plain": [
       "  0%|          | 0/31 [00:00<?, ?it/s]"
      ]
     },
     "metadata": {},
     "output_type": "display_data"
    },
    {
     "name": "stdout",
     "output_type": "stream",
     "text": [
      "SPX500 | H1\n",
      "(0.6, 250, 360)\n",
      "TrainReturn: 3.06 %\n",
      "TestReturn: -2.87 %\n",
      "--------------------------------------------------\n"
     ]
    },
    {
     "data": {
      "application/vnd.jupyter.widget-view+json": {
       "model_id": "",
       "version_major": 2,
       "version_minor": 0
      },
      "text/plain": [
       "  0%|          | 0/9 [00:00<?, ?it/s]"
      ]
     },
     "metadata": {},
     "output_type": "display_data"
    },
    {
     "data": {
      "application/vnd.jupyter.widget-view+json": {
       "model_id": "",
       "version_major": 2,
       "version_minor": 0
      },
      "text/plain": [
       "  0%|          | 0/31 [00:00<?, ?it/s]"
      ]
     },
     "metadata": {},
     "output_type": "display_data"
    },
    {
     "data": {
      "application/vnd.jupyter.widget-view+json": {
       "model_id": "",
       "version_major": 2,
       "version_minor": 0
      },
      "text/plain": [
       "  0%|          | 0/31 [00:00<?, ?it/s]"
      ]
     },
     "metadata": {},
     "output_type": "display_data"
    },
    {
     "name": "stdout",
     "output_type": "stream",
     "text": [
      "UK100 | H1\n",
      "(0.9, 480, 460)\n",
      "TrainReturn: 0.75 %\n",
      "TestReturn: 1.02 %\n",
      "--------------------------------------------------\n"
     ]
    },
    {
     "data": {
      "application/vnd.jupyter.widget-view+json": {
       "model_id": "",
       "version_major": 2,
       "version_minor": 0
      },
      "text/plain": [
       "  0%|          | 0/9 [00:00<?, ?it/s]"
      ]
     },
     "metadata": {},
     "output_type": "display_data"
    },
    {
     "data": {
      "application/vnd.jupyter.widget-view+json": {
       "model_id": "",
       "version_major": 2,
       "version_minor": 0
      },
      "text/plain": [
       "  0%|          | 0/31 [00:00<?, ?it/s]"
      ]
     },
     "metadata": {},
     "output_type": "display_data"
    },
    {
     "data": {
      "application/vnd.jupyter.widget-view+json": {
       "model_id": "",
       "version_major": 2,
       "version_minor": 0
      },
      "text/plain": [
       "  0%|          | 0/31 [00:00<?, ?it/s]"
      ]
     },
     "metadata": {},
     "output_type": "display_data"
    },
    {
     "name": "stdout",
     "output_type": "stream",
     "text": [
      "US30 | H1\n",
      "(0.9, 500, 370)\n",
      "TrainReturn: 3.81 %\n",
      "TestReturn: 1.92 %\n",
      "--------------------------------------------------\n"
     ]
    },
    {
     "data": {
      "application/vnd.jupyter.widget-view+json": {
       "model_id": "",
       "version_major": 2,
       "version_minor": 0
      },
      "text/plain": [
       "  0%|          | 0/9 [00:00<?, ?it/s]"
      ]
     },
     "metadata": {},
     "output_type": "display_data"
    },
    {
     "data": {
      "application/vnd.jupyter.widget-view+json": {
       "model_id": "",
       "version_major": 2,
       "version_minor": 0
      },
      "text/plain": [
       "  0%|          | 0/31 [00:00<?, ?it/s]"
      ]
     },
     "metadata": {},
     "output_type": "display_data"
    },
    {
     "data": {
      "application/vnd.jupyter.widget-view+json": {
       "model_id": "",
       "version_major": 2,
       "version_minor": 0
      },
      "text/plain": [
       "  0%|          | 0/31 [00:00<?, ?it/s]"
      ]
     },
     "metadata": {},
     "output_type": "display_data"
    },
    {
     "name": "stdout",
     "output_type": "stream",
     "text": [
      "Copper | H1\n",
      "(0.1, 200, 310)\n",
      "TrainReturn: 6.46 %\n",
      "TestReturn: -2.78 %\n",
      "--------------------------------------------------\n"
     ]
    },
    {
     "data": {
      "application/vnd.jupyter.widget-view+json": {
       "model_id": "",
       "version_major": 2,
       "version_minor": 0
      },
      "text/plain": [
       "  0%|          | 0/9 [00:00<?, ?it/s]"
      ]
     },
     "metadata": {},
     "output_type": "display_data"
    },
    {
     "data": {
      "application/vnd.jupyter.widget-view+json": {
       "model_id": "",
       "version_major": 2,
       "version_minor": 0
      },
      "text/plain": [
       "  0%|          | 0/31 [00:00<?, ?it/s]"
      ]
     },
     "metadata": {},
     "output_type": "display_data"
    },
    {
     "data": {
      "application/vnd.jupyter.widget-view+json": {
       "model_id": "",
       "version_major": 2,
       "version_minor": 0
      },
      "text/plain": [
       "  0%|          | 0/31 [00:00<?, ?it/s]"
      ]
     },
     "metadata": {},
     "output_type": "display_data"
    },
    {
     "name": "stdout",
     "output_type": "stream",
     "text": [
      "NGAS | H1\n",
      "(0.1, 210, 330)\n",
      "TrainReturn: 11.28 %\n",
      "TestReturn: 14.67 %\n",
      "--------------------------------------------------\n"
     ]
    },
    {
     "data": {
      "application/vnd.jupyter.widget-view+json": {
       "model_id": "",
       "version_major": 2,
       "version_minor": 0
      },
      "text/plain": [
       "  0%|          | 0/9 [00:00<?, ?it/s]"
      ]
     },
     "metadata": {},
     "output_type": "display_data"
    },
    {
     "data": {
      "application/vnd.jupyter.widget-view+json": {
       "model_id": "",
       "version_major": 2,
       "version_minor": 0
      },
      "text/plain": [
       "  0%|          | 0/31 [00:00<?, ?it/s]"
      ]
     },
     "metadata": {},
     "output_type": "display_data"
    },
    {
     "data": {
      "application/vnd.jupyter.widget-view+json": {
       "model_id": "",
       "version_major": 2,
       "version_minor": 0
      },
      "text/plain": [
       "  0%|          | 0/31 [00:00<?, ?it/s]"
      ]
     },
     "metadata": {},
     "output_type": "display_data"
    },
    {
     "name": "stdout",
     "output_type": "stream",
     "text": [
      "UKOil | H1\n",
      "(0.9, 200, 320)\n",
      "TrainReturn: 6.61 %\n",
      "TestReturn: 2.25 %\n",
      "--------------------------------------------------\n"
     ]
    },
    {
     "data": {
      "application/vnd.jupyter.widget-view+json": {
       "model_id": "",
       "version_major": 2,
       "version_minor": 0
      },
      "text/plain": [
       "  0%|          | 0/9 [00:00<?, ?it/s]"
      ]
     },
     "metadata": {},
     "output_type": "display_data"
    },
    {
     "data": {
      "application/vnd.jupyter.widget-view+json": {
       "model_id": "",
       "version_major": 2,
       "version_minor": 0
      },
      "text/plain": [
       "  0%|          | 0/31 [00:00<?, ?it/s]"
      ]
     },
     "metadata": {},
     "output_type": "display_data"
    },
    {
     "data": {
      "application/vnd.jupyter.widget-view+json": {
       "model_id": "",
       "version_major": 2,
       "version_minor": 0
      },
      "text/plain": [
       "  0%|          | 0/31 [00:00<?, ?it/s]"
      ]
     },
     "metadata": {},
     "output_type": "display_data"
    },
    {
     "name": "stdout",
     "output_type": "stream",
     "text": [
      "USOil | H1\n",
      "(0.9, 200, 310)\n",
      "TrainReturn: 6.62 %\n",
      "TestReturn: 6.01 %\n",
      "--------------------------------------------------\n"
     ]
    },
    {
     "data": {
      "application/vnd.jupyter.widget-view+json": {
       "model_id": "",
       "version_major": 2,
       "version_minor": 0
      },
      "text/plain": [
       "  0%|          | 0/9 [00:00<?, ?it/s]"
      ]
     },
     "metadata": {},
     "output_type": "display_data"
    },
    {
     "data": {
      "application/vnd.jupyter.widget-view+json": {
       "model_id": "",
       "version_major": 2,
       "version_minor": 0
      },
      "text/plain": [
       "  0%|          | 0/31 [00:00<?, ?it/s]"
      ]
     },
     "metadata": {},
     "output_type": "display_data"
    },
    {
     "data": {
      "application/vnd.jupyter.widget-view+json": {
       "model_id": "",
       "version_major": 2,
       "version_minor": 0
      },
      "text/plain": [
       "  0%|          | 0/31 [00:00<?, ?it/s]"
      ]
     },
     "metadata": {},
     "output_type": "display_data"
    },
    {
     "name": "stdout",
     "output_type": "stream",
     "text": [
      "XAU/USD | H1\n",
      "(0.1, 210, 500)\n",
      "TrainReturn: 2.17 %\n",
      "TestReturn: -0.92 %\n",
      "--------------------------------------------------\n"
     ]
    },
    {
     "data": {
      "application/vnd.jupyter.widget-view+json": {
       "model_id": "",
       "version_major": 2,
       "version_minor": 0
      },
      "text/plain": [
       "  0%|          | 0/9 [00:00<?, ?it/s]"
      ]
     },
     "metadata": {},
     "output_type": "display_data"
    },
    {
     "data": {
      "application/vnd.jupyter.widget-view+json": {
       "model_id": "",
       "version_major": 2,
       "version_minor": 0
      },
      "text/plain": [
       "  0%|          | 0/31 [00:00<?, ?it/s]"
      ]
     },
     "metadata": {},
     "output_type": "display_data"
    },
    {
     "data": {
      "application/vnd.jupyter.widget-view+json": {
       "model_id": "",
       "version_major": 2,
       "version_minor": 0
      },
      "text/plain": [
       "  0%|          | 0/31 [00:00<?, ?it/s]"
      ]
     },
     "metadata": {},
     "output_type": "display_data"
    },
    {
     "name": "stdout",
     "output_type": "stream",
     "text": [
      "XAG/USD | H1\n",
      "(0.1, 200, 440)\n",
      "TrainReturn: 3.28 %\n",
      "TestReturn: 0.59 %\n",
      "--------------------------------------------------\n",
      "*** Average returns ***\n",
      "Train 3.00 %\n",
      "Test 1.33 %\n"
     ]
    }
   ],
   "source": [
    "freq = 'H1'\n",
    "conn = sql.connect(f'../PriceData/PriceData_{freq}.db')\n",
    "split_date = '2022-07-17'\n",
    "train_returns = []\n",
    "test_returns = []\n",
    "optim_parameters = {}\n",
    "\n",
    "for ticker in tqdm_notebook(my_assets):    \n",
    "    data_sql = pd.read_sql(f\"SELECT * FROM '{ticker}'\", conn, parse_dates=['date'], index_col=['date'])\n",
    "    for col in ['open', 'close', 'high', 'low']:\n",
    "        data_sql[col] = data_sql[['bid'+col, 'ask'+col]].mean(axis=1)\n",
    "    \n",
    "    mama_results = p_umap(get_mama_return, np.arange(0.1, 1, 0.1),\n",
    "                          repeat(data_sql.copy(deep=True)), \n",
    "                          repeat(freq),\n",
    "                          repeat(split_date), \n",
    "                          leave=False)\n",
    "    best_mama_period = pd.DataFrame(mama_results).sort_values(by=1, ascending=False).iloc[0, 0]\n",
    "    \n",
    "    tsf_results = p_umap(get_tsf_return, \n",
    "                         np.arange(200, 501, 10),\n",
    "                         repeat(data_sql.copy(deep=True)), \n",
    "                         repeat(freq),\n",
    "                         repeat(split_date),\n",
    "                         leave=False)\n",
    "    best_tsf_period = pd.DataFrame(tsf_results).sort_values(by=1, ascending=False).iloc[0, 0]\n",
    "    \n",
    "    slope_results = p_umap(get_slope_return, \n",
    "                            np.arange(200, 501, 10),\n",
    "                            repeat(data_sql.copy(deep=True)), \n",
    "                            repeat(freq),\n",
    "                            repeat(split_date),\n",
    "                            leave=False)\n",
    "    best_slope_period = pd.DataFrame(slope_results).sort_values(by=1, ascending=False).iloc[0, 0]\n",
    "    \n",
    "    params = (best_mama_period, best_slope_period, best_tsf_period)\n",
    "    optim_parameters[ticker] = {}\n",
    "    optim_parameters[ticker]['mama'] = float(best_mama_period)\n",
    "    optim_parameters[ticker]['slope'] = int(best_slope_period)\n",
    "    optim_parameters[ticker]['tsf'] = int(best_tsf_period)\n",
    "    \n",
    "    perf = get_performance(data_sql.copy(deep=True), split_date, params, freq)\n",
    "    train_ret = perf[1]\n",
    "    test_ret = perf[6]\n",
    "    train_returns.append(train_ret)\n",
    "    test_returns.append(test_ret)\n",
    "    \n",
    "    lines = [f\"{ticker} | {freq}\", \n",
    "             f'{params}\\nTrainReturn: {train_ret*100:.2f} %\\nTestReturn: {test_ret*100:.2f} %',\n",
    "             '-'*50]\n",
    "    for l in lines: print(l)\n",
    "        \n",
    "    with open(f'optimize_train_test_split{split_date}.txt', 'a') as f:\n",
    "        f.writelines('\\n'.join(lines))\n",
    "        f.write('\\n')\n",
    "    \n",
    "conn.close()\n",
    "\n",
    "lines = [\"*** Average returns ***\", \n",
    "         f\"Train {np.mean(train_returns)*100:.2f} %\",\n",
    "         f\"Test {np.mean(test_returns)*100:.2f} %\"]\n",
    "\n",
    "for l in lines: print(l)\n",
    "\n",
    "with open(f'optimize_train_test_split{split_date}.txt', 'a') as f:\n",
    "        f.writelines('\\n'.join(lines))"
   ]
  },
  {
   "cell_type": "code",
   "execution_count": 9,
   "id": "75d6c96a",
   "metadata": {
    "ExecuteTime": {
     "end_time": "2022-07-25T15:18:31.447580Z",
     "start_time": "2022-07-25T15:18:31.442413Z"
    }
   },
   "outputs": [],
   "source": [
    "with open('my_parameters.json', 'w') as f:\n",
    "    json.dump(optim_parameters, f, indent=4)"
   ]
  },
  {
   "cell_type": "code",
   "execution_count": 10,
   "id": "79aefb67",
   "metadata": {
    "ExecuteTime": {
     "end_time": "2022-07-25T15:18:31.463665Z",
     "start_time": "2022-07-25T15:18:31.452388Z"
    }
   },
   "outputs": [],
   "source": [
    "with open('my_parameters.json', 'r') as f:\n",
    "    my_params = json.load(f)"
   ]
  },
  {
   "cell_type": "code",
   "execution_count": 11,
   "id": "31ca9a4d",
   "metadata": {
    "ExecuteTime": {
     "end_time": "2022-07-25T15:18:31.478831Z",
     "start_time": "2022-07-25T15:18:31.466735Z"
    }
   },
   "outputs": [
    {
     "data": {
      "text/plain": [
       "{'EUR/USD': {'mama': 0.1, 'slope': 200, 'tsf': 380},\n",
       " 'USD/JPY': {'mama': 0.1, 'slope': 350, 'tsf': 350},\n",
       " 'GBP/USD': {'mama': 0.1, 'slope': 200, 'tsf': 460},\n",
       " 'USD/CHF': {'mama': 0.1, 'slope': 480, 'tsf': 240},\n",
       " 'AUD/USD': {'mama': 0.9, 'slope': 210, 'tsf': 370},\n",
       " 'USD/CAD': {'mama': 0.1, 'slope': 410, 'tsf': 500},\n",
       " 'NZD/USD': {'mama': 0.1, 'slope': 200, 'tsf': 500},\n",
       " 'AUS200': {'mama': 0.1, 'slope': 240, 'tsf': 360},\n",
       " 'ESP35': {'mama': 0.5, 'slope': 200, 'tsf': 250},\n",
       " 'EUSTX50': {'mama': 0.4, 'slope': 200, 'tsf': 500},\n",
       " 'FRA40': {'mama': 0.30000000000000004, 'slope': 320, 'tsf': 360},\n",
       " 'GER30': {'mama': 0.2, 'slope': 210, 'tsf': 500},\n",
       " 'HKG33': {'mama': 0.1, 'slope': 200, 'tsf': 210},\n",
       " 'JPN225': {'mama': 0.7000000000000001, 'slope': 480, 'tsf': 250},\n",
       " 'NAS100': {'mama': 0.6, 'slope': 230, 'tsf': 200},\n",
       " 'SPX500': {'mama': 0.6, 'slope': 250, 'tsf': 360},\n",
       " 'UK100': {'mama': 0.9, 'slope': 480, 'tsf': 460},\n",
       " 'US30': {'mama': 0.9, 'slope': 500, 'tsf': 370},\n",
       " 'Copper': {'mama': 0.1, 'slope': 200, 'tsf': 310},\n",
       " 'NGAS': {'mama': 0.1, 'slope': 210, 'tsf': 330},\n",
       " 'UKOil': {'mama': 0.9, 'slope': 200, 'tsf': 320},\n",
       " 'USOil': {'mama': 0.9, 'slope': 200, 'tsf': 310},\n",
       " 'XAU/USD': {'mama': 0.1, 'slope': 210, 'tsf': 500},\n",
       " 'XAG/USD': {'mama': 0.1, 'slope': 200, 'tsf': 440}}"
      ]
     },
     "execution_count": 11,
     "metadata": {},
     "output_type": "execute_result"
    }
   ],
   "source": [
    "my_params"
   ]
  }
 ],
 "metadata": {
  "kernelspec": {
   "display_name": "Python 3 (ipykernel)",
   "language": "python",
   "name": "python3"
  },
  "language_info": {
   "codemirror_mode": {
    "name": "ipython",
    "version": 3
   },
   "file_extension": ".py",
   "mimetype": "text/x-python",
   "name": "python",
   "nbconvert_exporter": "python",
   "pygments_lexer": "ipython3",
   "version": "3.8.8"
  },
  "latex_envs": {
   "LaTeX_envs_menu_present": true,
   "autoclose": false,
   "autocomplete": true,
   "bibliofile": "biblio.bib",
   "cite_by": "apalike",
   "current_citInitial": 1,
   "eqLabelWithNumbers": true,
   "eqNumInitial": 1,
   "hotkeys": {
    "equation": "Ctrl-E",
    "itemize": "Ctrl-I"
   },
   "labels_anchors": false,
   "latex_user_defs": false,
   "report_style_numbering": false,
   "user_envs_cfg": false
  },
  "toc": {
   "base_numbering": 1,
   "nav_menu": {},
   "number_sections": true,
   "sideBar": true,
   "skip_h1_title": false,
   "title_cell": "Table of Contents",
   "title_sidebar": "Contents",
   "toc_cell": false,
   "toc_position": {},
   "toc_section_display": true,
   "toc_window_display": false
  }
 },
 "nbformat": 4,
 "nbformat_minor": 5
}
