{
 "cells": [
  {
   "cell_type": "code",
   "execution_count": 1,
   "id": "fe021cc4",
   "metadata": {
    "ExecuteTime": {
     "end_time": "2022-07-09T10:43:37.275430Z",
     "start_time": "2022-07-09T10:43:35.903451Z"
    }
   },
   "outputs": [],
   "source": [
    "import sys \n",
    "sys.path.append('../')\n",
    "import pandas as pd \n",
    "import numpy as np \n",
    "import talib\n",
    "import sqlite3 as sql\n",
    "import matplotlib.pyplot as plt \n",
    "from backtester import * \n",
    "from fxcmtoken import my_assets"
   ]
  },
  {
   "cell_type": "code",
   "execution_count": 2,
   "id": "05434983",
   "metadata": {
    "ExecuteTime": {
     "end_time": "2022-07-09T10:43:37.282015Z",
     "start_time": "2022-07-09T10:43:37.278043Z"
    }
   },
   "outputs": [
    {
     "name": "stdout",
     "output_type": "stream",
     "text": [
      "0 EUR/USD\n",
      "1 USD/JPY\n",
      "2 GBP/USD\n",
      "3 USOil\n",
      "4 SPX500\n",
      "5 VOLX\n",
      "6 XAU/USD\n",
      "7 Bund\n",
      "8 BTC/USD\n"
     ]
    }
   ],
   "source": [
    "for i, a in enumerate(my_assets):\n",
    "    print(i, a)"
   ]
  },
  {
   "cell_type": "code",
   "execution_count": 21,
   "id": "7b512cbf",
   "metadata": {
    "ExecuteTime": {
     "end_time": "2022-07-09T10:51:22.464170Z",
     "start_time": "2022-07-09T10:51:22.345424Z"
    }
   },
   "outputs": [
    {
     "name": "stdout",
     "output_type": "stream",
     "text": [
      "BTC/USD\n"
     ]
    }
   ],
   "source": [
    "conn = sql.connect('../PriceData/PriceData_m5.db')\n",
    "ticker = my_assets[8]\n",
    "print(ticker)\n",
    "data_sql = pd.read_sql(f\"SELECT * FROM '{ticker}'\", conn, parse_dates=['date'], index_col=['date'])\n",
    "for col in ['open', 'close', 'high', 'low']:\n",
    "    data_sql[col] = data_sql[['bid'+col, 'ask'+col]].mean(axis=1)\n",
    "conn.close()"
   ]
  },
  {
   "cell_type": "code",
   "execution_count": 22,
   "id": "1035be10",
   "metadata": {
    "ExecuteTime": {
     "end_time": "2022-07-09T10:51:44.741660Z",
     "start_time": "2022-07-09T10:51:22.664799Z"
    },
    "scrolled": false
   },
   "outputs": [
    {
     "name": "stdout",
     "output_type": "stream",
     "text": [
      "BTC/USD\n",
      "Period: 50.00\n",
      "-59.3034%\n",
      "Signals\n",
      "-1    5015\n",
      " 1    4873\n",
      "Name: signals, dtype: int64\n",
      "Signals change\n",
      "0.0    9570\n",
      "2.0     317\n",
      "Name: signals, dtype: int64\n",
      "--------------------------------------------------\n",
      "BTC/USD\n",
      "Period: 100.00\n",
      "-6.1959%\n",
      "Signals\n",
      " 1    4953\n",
      "-1    4885\n",
      "Name: signals, dtype: int64\n",
      "Signals change\n",
      "0.0    9645\n",
      "2.0     192\n",
      "Name: signals, dtype: int64\n",
      "--------------------------------------------------\n",
      "BTC/USD\n",
      "Period: 150.00\n",
      "-8.1836%\n",
      "Signals\n",
      " 1    4937\n",
      "-1    4851\n",
      "Name: signals, dtype: int64\n",
      "Signals change\n",
      "0.0    9644\n",
      "2.0     143\n",
      "Name: signals, dtype: int64\n",
      "--------------------------------------------------\n",
      "BTC/USD\n",
      "Period: 200.00\n",
      "10.7673%\n",
      "Signals\n",
      " 1    5156\n",
      "-1    4582\n",
      "Name: signals, dtype: int64\n",
      "Signals change\n",
      "0.0    9616\n",
      "2.0     121\n",
      "Name: signals, dtype: int64\n",
      "--------------------------------------------------\n",
      "BTC/USD\n",
      "Period: 250.00\n",
      "18.3147%\n",
      "Signals\n",
      " 1    5020\n",
      "-1    4668\n",
      "Name: signals, dtype: int64\n",
      "Signals change\n",
      "0.0    9581\n",
      "2.0     106\n",
      "Name: signals, dtype: int64\n",
      "--------------------------------------------------\n",
      "BTC/USD\n",
      "Period: 300.00\n",
      "29.5326%\n",
      "Signals\n",
      "-1    4834\n",
      " 1    4804\n",
      "Name: signals, dtype: int64\n",
      "Signals change\n",
      "0.0    9543\n",
      "2.0      94\n",
      "Name: signals, dtype: int64\n",
      "--------------------------------------------------\n",
      "BTC/USD\n",
      "Period: 350.00\n",
      "5.9188%\n",
      "Signals\n",
      "-1    4863\n",
      " 1    4725\n",
      "Name: signals, dtype: int64\n",
      "Signals change\n",
      "0.0    9506\n",
      "2.0      81\n",
      "Name: signals, dtype: int64\n",
      "--------------------------------------------------\n",
      "BTC/USD\n",
      "Period: 400.00\n",
      "15.2355%\n",
      "Signals\n",
      "-1    4918\n",
      " 1    4620\n",
      "Name: signals, dtype: int64\n",
      "Signals change\n",
      "0.0    9460\n",
      "2.0      77\n",
      "Name: signals, dtype: int64\n",
      "--------------------------------------------------\n",
      "BTC/USD\n",
      "Period: 450.00\n",
      "-20.3573%\n",
      "Signals\n",
      "-1    4860\n",
      " 1    4628\n",
      "Name: signals, dtype: int64\n",
      "Signals change\n",
      "0.0    9408\n",
      "2.0      79\n",
      "Name: signals, dtype: int64\n",
      "--------------------------------------------------\n",
      "BTC/USD\n",
      "Period: 500.00\n",
      "-18.1201%\n",
      "Signals\n",
      "-1    4734\n",
      " 1    4704\n",
      "Name: signals, dtype: int64\n",
      "Signals change\n",
      "0.0    9372\n",
      "2.0      65\n",
      "Name: signals, dtype: int64\n",
      "--------------------------------------------------\n"
     ]
    }
   ],
   "source": [
    "num_periods =  [i for i in range(50, 501, 50)]\n",
    "\n",
    "for n_period in num_periods:\n",
    "    data = data_sql.copy(deep=True)\n",
    "    print(ticker)\n",
    "    print(f\"Period: {n_period:.2f}\")\n",
    "\n",
    "    data['ht'] = talib.HT_TRENDLINE(data.close)\n",
    "    data['tsf'] = talib.TSF(data.ht, n_period)\n",
    "    data.dropna(axis=0, inplace=True)\n",
    "    data['signals'] = np.where(data.ht > data.tsf, 1, -1)\n",
    "    backtest = IterativeBacktester(data=data,\n",
    "                                   signals=data.signals,\n",
    "                                   freq='m5')\n",
    "\n",
    "    backtest.backtest(progress_bar=False)\n",
    "    # backtest.results()\n",
    "    print(f\"{backtest.return_df.loc['TotalReturn', 'Portfolio']*100:.4f}%\")\n",
    "    \n",
    "    print(\"Signals\")\n",
    "    print(backtest.signals.value_counts())\n",
    "\n",
    "    print(\"Signals change\")\n",
    "    print(backtest.signals.diff(1).dropna().apply(np.abs).value_counts())\n",
    "    \n",
    "    print(\"-\"*50)"
   ]
  },
  {
   "cell_type": "code",
   "execution_count": null,
   "id": "70bfdc9e",
   "metadata": {},
   "outputs": [],
   "source": []
  }
 ],
 "metadata": {
  "kernelspec": {
   "display_name": "Python 3 (ipykernel)",
   "language": "python",
   "name": "python3"
  },
  "language_info": {
   "codemirror_mode": {
    "name": "ipython",
    "version": 3
   },
   "file_extension": ".py",
   "mimetype": "text/x-python",
   "name": "python",
   "nbconvert_exporter": "python",
   "pygments_lexer": "ipython3",
   "version": "3.8.8"
  },
  "latex_envs": {
   "LaTeX_envs_menu_present": true,
   "autoclose": false,
   "autocomplete": true,
   "bibliofile": "biblio.bib",
   "cite_by": "apalike",
   "current_citInitial": 1,
   "eqLabelWithNumbers": true,
   "eqNumInitial": 1,
   "hotkeys": {
    "equation": "Ctrl-E",
    "itemize": "Ctrl-I"
   },
   "labels_anchors": false,
   "latex_user_defs": false,
   "report_style_numbering": false,
   "user_envs_cfg": false
  },
  "toc": {
   "base_numbering": 1,
   "nav_menu": {},
   "number_sections": true,
   "sideBar": true,
   "skip_h1_title": false,
   "title_cell": "Table of Contents",
   "title_sidebar": "Contents",
   "toc_cell": false,
   "toc_position": {},
   "toc_section_display": true,
   "toc_window_display": false
  }
 },
 "nbformat": 4,
 "nbformat_minor": 5
}
