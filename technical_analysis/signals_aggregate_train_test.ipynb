{
 "cells": [
  {
   "cell_type": "code",
   "execution_count": 37,
   "id": "17b835a0",
   "metadata": {
    "ExecuteTime": {
     "end_time": "2022-07-24T07:17:19.330415Z",
     "start_time": "2022-07-24T07:17:19.325750Z"
    }
   },
   "outputs": [],
   "source": [
    "import sys \n",
    "import os  \n",
    "import multiprocessing\n",
    "import datetime as dt \n",
    "import pandas as pd \n",
    "import numpy as np \n",
    "import talib\n",
    "import sqlite3 as sql\n",
    "import matplotlib.pyplot as plt\n",
    "from itertools import repeat\n",
    "from p_tqdm import p_umap\n",
    "sys.path.append('../')\n",
    "from backtester import * \n",
    "from fxcmtoken import my_assets"
   ]
  },
  {
   "cell_type": "code",
   "execution_count": 2,
   "id": "fe06edc8",
   "metadata": {
    "ExecuteTime": {
     "end_time": "2022-07-24T07:09:17.019683Z",
     "start_time": "2022-07-24T07:09:17.015256Z"
    }
   },
   "outputs": [
    {
     "name": "stdout",
     "output_type": "stream",
     "text": [
      "0 EUR/USD\n",
      "1 USD/JPY\n",
      "2 GBP/USD\n",
      "3 USD/CHF\n",
      "4 AUD/USD\n",
      "5 USD/CAD\n",
      "6 NZD/USD\n",
      "7 AUS200\n",
      "8 ESP35\n",
      "9 EUSTX50\n",
      "10 FRA40\n",
      "11 GER30\n",
      "12 HKG33\n",
      "13 JPN225\n",
      "14 NAS100\n",
      "15 SPX500\n",
      "16 UK100\n",
      "17 US30\n",
      "18 VOLX\n",
      "19 Copper\n",
      "20 NGAS\n",
      "21 UKOil\n",
      "22 USOil\n",
      "23 XAU/USD\n",
      "24 XAG/USD\n"
     ]
    }
   ],
   "source": [
    "for i, a in enumerate(my_assets):\n",
    "    print(i, a)"
   ]
  },
  {
   "cell_type": "code",
   "execution_count": 3,
   "id": "c4d09e5a",
   "metadata": {
    "ExecuteTime": {
     "end_time": "2022-07-24T07:09:17.306278Z",
     "start_time": "2022-07-24T07:09:17.021896Z"
    }
   },
   "outputs": [
    {
     "name": "stdout",
     "output_type": "stream",
     "text": [
      "EUR/USD\n"
     ]
    },
    {
     "data": {
      "text/html": [
       "<div>\n",
       "<style scoped>\n",
       "    .dataframe tbody tr th:only-of-type {\n",
       "        vertical-align: middle;\n",
       "    }\n",
       "\n",
       "    .dataframe tbody tr th {\n",
       "        vertical-align: top;\n",
       "    }\n",
       "\n",
       "    .dataframe thead th {\n",
       "        text-align: right;\n",
       "    }\n",
       "</style>\n",
       "<table border=\"1\" class=\"dataframe\">\n",
       "  <thead>\n",
       "    <tr style=\"text-align: right;\">\n",
       "      <th></th>\n",
       "      <th>bidopen</th>\n",
       "      <th>bidclose</th>\n",
       "      <th>bidhigh</th>\n",
       "      <th>bidlow</th>\n",
       "      <th>askopen</th>\n",
       "      <th>askclose</th>\n",
       "      <th>askhigh</th>\n",
       "      <th>asklow</th>\n",
       "      <th>tickqty</th>\n",
       "      <th>open</th>\n",
       "      <th>close</th>\n",
       "      <th>high</th>\n",
       "      <th>low</th>\n",
       "    </tr>\n",
       "    <tr>\n",
       "      <th>date</th>\n",
       "      <th></th>\n",
       "      <th></th>\n",
       "      <th></th>\n",
       "      <th></th>\n",
       "      <th></th>\n",
       "      <th></th>\n",
       "      <th></th>\n",
       "      <th></th>\n",
       "      <th></th>\n",
       "      <th></th>\n",
       "      <th></th>\n",
       "      <th></th>\n",
       "      <th></th>\n",
       "    </tr>\n",
       "  </thead>\n",
       "  <tbody>\n",
       "    <tr>\n",
       "      <th>2022-07-22 20:35:00</th>\n",
       "      <td>1.02095</td>\n",
       "      <td>1.02124</td>\n",
       "      <td>1.02124</td>\n",
       "      <td>1.02095</td>\n",
       "      <td>1.02111</td>\n",
       "      <td>1.02140</td>\n",
       "      <td>1.02140</td>\n",
       "      <td>1.02111</td>\n",
       "      <td>128</td>\n",
       "      <td>1.02103</td>\n",
       "      <td>1.021320</td>\n",
       "      <td>1.021320</td>\n",
       "      <td>1.021030</td>\n",
       "    </tr>\n",
       "    <tr>\n",
       "      <th>2022-07-22 20:40:00</th>\n",
       "      <td>1.02123</td>\n",
       "      <td>1.02135</td>\n",
       "      <td>1.02155</td>\n",
       "      <td>1.02112</td>\n",
       "      <td>1.02141</td>\n",
       "      <td>1.02148</td>\n",
       "      <td>1.02168</td>\n",
       "      <td>1.02130</td>\n",
       "      <td>303</td>\n",
       "      <td>1.02132</td>\n",
       "      <td>1.021415</td>\n",
       "      <td>1.021615</td>\n",
       "      <td>1.021210</td>\n",
       "    </tr>\n",
       "    <tr>\n",
       "      <th>2022-07-22 20:45:00</th>\n",
       "      <td>1.02135</td>\n",
       "      <td>1.02111</td>\n",
       "      <td>1.02135</td>\n",
       "      <td>1.02085</td>\n",
       "      <td>1.02149</td>\n",
       "      <td>1.02130</td>\n",
       "      <td>1.02150</td>\n",
       "      <td>1.02104</td>\n",
       "      <td>267</td>\n",
       "      <td>1.02142</td>\n",
       "      <td>1.021205</td>\n",
       "      <td>1.021425</td>\n",
       "      <td>1.020945</td>\n",
       "    </tr>\n",
       "    <tr>\n",
       "      <th>2022-07-22 20:50:00</th>\n",
       "      <td>1.02112</td>\n",
       "      <td>1.02100</td>\n",
       "      <td>1.02115</td>\n",
       "      <td>1.02087</td>\n",
       "      <td>1.02132</td>\n",
       "      <td>1.02125</td>\n",
       "      <td>1.02137</td>\n",
       "      <td>1.02104</td>\n",
       "      <td>397</td>\n",
       "      <td>1.02122</td>\n",
       "      <td>1.021125</td>\n",
       "      <td>1.021260</td>\n",
       "      <td>1.020955</td>\n",
       "    </tr>\n",
       "    <tr>\n",
       "      <th>2022-07-22 20:55:00</th>\n",
       "      <td>1.02100</td>\n",
       "      <td>1.02137</td>\n",
       "      <td>1.02144</td>\n",
       "      <td>1.02094</td>\n",
       "      <td>1.02126</td>\n",
       "      <td>1.02169</td>\n",
       "      <td>1.02173</td>\n",
       "      <td>1.02124</td>\n",
       "      <td>140</td>\n",
       "      <td>1.02113</td>\n",
       "      <td>1.021530</td>\n",
       "      <td>1.021585</td>\n",
       "      <td>1.021090</td>\n",
       "    </tr>\n",
       "  </tbody>\n",
       "</table>\n",
       "</div>"
      ],
      "text/plain": [
       "                     bidopen  bidclose  bidhigh   bidlow  askopen  askclose  \\\n",
       "date                                                                          \n",
       "2022-07-22 20:35:00  1.02095   1.02124  1.02124  1.02095  1.02111   1.02140   \n",
       "2022-07-22 20:40:00  1.02123   1.02135  1.02155  1.02112  1.02141   1.02148   \n",
       "2022-07-22 20:45:00  1.02135   1.02111  1.02135  1.02085  1.02149   1.02130   \n",
       "2022-07-22 20:50:00  1.02112   1.02100  1.02115  1.02087  1.02132   1.02125   \n",
       "2022-07-22 20:55:00  1.02100   1.02137  1.02144  1.02094  1.02126   1.02169   \n",
       "\n",
       "                     askhigh   asklow  tickqty     open     close      high  \\\n",
       "date                                                                          \n",
       "2022-07-22 20:35:00  1.02140  1.02111      128  1.02103  1.021320  1.021320   \n",
       "2022-07-22 20:40:00  1.02168  1.02130      303  1.02132  1.021415  1.021615   \n",
       "2022-07-22 20:45:00  1.02150  1.02104      267  1.02142  1.021205  1.021425   \n",
       "2022-07-22 20:50:00  1.02137  1.02104      397  1.02122  1.021125  1.021260   \n",
       "2022-07-22 20:55:00  1.02173  1.02124      140  1.02113  1.021530  1.021585   \n",
       "\n",
       "                          low  \n",
       "date                           \n",
       "2022-07-22 20:35:00  1.021030  \n",
       "2022-07-22 20:40:00  1.021210  \n",
       "2022-07-22 20:45:00  1.020945  \n",
       "2022-07-22 20:50:00  1.020955  \n",
       "2022-07-22 20:55:00  1.021090  "
      ]
     },
     "execution_count": 3,
     "metadata": {},
     "output_type": "execute_result"
    }
   ],
   "source": [
    "freq = 'm5'\n",
    "conn = sql.connect(f'../PriceData/PriceData_{freq}.db')\n",
    "ticker = my_assets[0]\n",
    "print(ticker)\n",
    "data_sql = pd.read_sql(f\"SELECT * FROM '{ticker}'\", conn, parse_dates=['date'], index_col=['date'])\n",
    "for col in ['open', 'close', 'high', 'low']:\n",
    "    data_sql[col] = data_sql[['bid'+col, 'ask'+col]].mean(axis=1)\n",
    "conn.close()\n",
    "data_sql.tail()"
   ]
  },
  {
   "cell_type": "code",
   "execution_count": 6,
   "id": "93ea2717",
   "metadata": {
    "ExecuteTime": {
     "end_time": "2022-07-24T07:09:18.034177Z",
     "start_time": "2022-07-24T07:09:18.018835Z"
    }
   },
   "outputs": [],
   "source": [
    "def get_performance(data, split_date, params, freq):\n",
    "    # params --> (mama, slope, tsf)\n",
    "      \n",
    "    data['ht'] = talib.HT_TRENDLINE(data.close)\n",
    "    data['mama'], data['fama'] = talib.MAMA(data.ht, fastlimit=params[0], slowlimit=params[0]/10)\n",
    "    data['slope'] = talib.LINEARREG_SLOPE(data.close, timeperiod=params[1])\n",
    "    data['tsf'] = talib.TSF(data.ht, params[2])\n",
    "    data.dropna(axis=0, inplace=True)\n",
    "\n",
    "    # signals\n",
    "    data['mama_signals'] = np.where(data.mama > data.fama, 1, -1) \n",
    "    data['slope_signals'] = data.slope.apply(np.sign)\n",
    "    data['tsf_signals'] = np.where(data.ht > data.tsf, 1, -1)\n",
    "    signal_cols = ['mama_signals', 'slope_signals', 'tsf_signals']\n",
    "    data['agg_signals'] = data[signal_cols].mode(axis=1)\n",
    "    \n",
    "    # train/test split\n",
    "    train, test = (data.loc[:pd.Timestamp(split_date)-dt.timedelta(days=1)] , \n",
    "                   data.loc[pd.Timestamp(split_date):])\n",
    "    \n",
    "    # backtest train\n",
    "    train_date_range = train.index[-1]-train.index[0]\n",
    "    train_backtest = IterativeBacktester(data=train, signals=train.agg_signals, freq=freq)\n",
    "    train_backtest.backtest(progress_bar=False)\n",
    "    \n",
    "    train_ret = train_backtest.return_df.loc['TotalReturn', 'Portfolio']\n",
    "    train_signal_counts = train_backtest.signals.value_counts()\n",
    "    train_signal_changes = train_backtest.signals.diff(1).dropna().apply(np.abs).value_counts()\n",
    "    \n",
    "    train_total_days = train_date_range.total_seconds() / (60*60*24)\n",
    "    train_pos_short = train_signal_counts[-1]\n",
    "    train_pos_long = train_signal_counts[1]\n",
    "    train_pos_changes = (train_signal_changes.index * train_signal_changes).sum()\n",
    "    \n",
    "    # backtest test\n",
    "    test_date_range = test.index[-1]-test.index[0]\n",
    "    test_backtest = IterativeBacktester(data=test, signals=test.agg_signals, freq=freq)\n",
    "    test_backtest.backtest(progress_bar=False)\n",
    "    \n",
    "    test_ret = test_backtest.return_df.loc['TotalReturn', 'Portfolio']\n",
    "    test_signal_counts = test_backtest.signals.value_counts()\n",
    "    test_signal_changes = test_backtest.signals.diff(1).dropna().apply(np.abs).value_counts()\n",
    "    \n",
    "    test_total_days = test_date_range.total_seconds() / (60*60*24)\n",
    "    test_pos_short = test_signal_counts[-1]\n",
    "    test_pos_long = test_signal_counts[1]\n",
    "    test_pos_changes = (test_signal_changes.index * test_signal_changes).sum()\n",
    "    \n",
    "    # (train , test)\n",
    "    # returns, #days, #short, #long, #posChanges\n",
    "#     performances[params] = (train_ret, train_total_days, train_pos_short, train_pos_long, train_pos_changes,\n",
    "#                             test_ret, test_total_days, test_pos_short, test_pos_long, test_pos_changes)\n",
    "    return (params, \n",
    "            train_ret, train_total_days, train_pos_short, train_pos_long, train_pos_changes,\n",
    "            test_ret, test_total_days, test_pos_short, test_pos_long, test_pos_changes)"
   ]
  },
  {
   "cell_type": "code",
   "execution_count": 53,
   "id": "e78f281b",
   "metadata": {
    "ExecuteTime": {
     "end_time": "2022-07-24T07:26:18.124387Z",
     "start_time": "2022-07-24T07:26:18.119491Z"
    }
   },
   "outputs": [
    {
     "name": "stdout",
     "output_type": "stream",
     "text": [
      "Set of Parameters: 27\n"
     ]
    }
   ],
   "source": [
    "\n",
    "params_list = []\n",
    "\n",
    "for mama_period in np.arange(0.1, 1, 0.3):\n",
    "    for slope_period in range(20, 101, 40):\n",
    "        for tsf_period in range(20, 101, 40):\n",
    "            params_list.append((mama_period, slope_period, tsf_period))\n",
    "print(f'Set of Parameters: {len(params_list)}')"
   ]
  },
  {
   "cell_type": "code",
   "execution_count": 14,
   "id": "1ee64114",
   "metadata": {
    "ExecuteTime": {
     "end_time": "2022-07-24T07:12:36.482880Z",
     "start_time": "2022-07-24T07:12:02.495853Z"
    }
   },
   "outputs": [
    {
     "data": {
      "application/vnd.jupyter.widget-view+json": {
       "model_id": "633276f7a0524a008c393e352225d895",
       "version_major": 2,
       "version_minor": 0
      },
      "text/plain": [
       "  0%|          | 0/27 [00:00<?, ?it/s]"
      ]
     },
     "metadata": {},
     "output_type": "display_data"
    }
   ],
   "source": [
    "split_date = '2022-07-17'\n",
    "num_cpus = 4\n",
    "results = p_umap(get_performance, \n",
    "                 repeat(data_sql), repeat(split_date), params_list, repeat(freq),\n",
    "                 **{\"num_cpus\": num_cpus})"
   ]
  },
  {
   "cell_type": "code",
   "execution_count": 41,
   "id": "3361e42b",
   "metadata": {
    "ExecuteTime": {
     "end_time": "2022-07-24T07:17:45.039154Z",
     "start_time": "2022-07-24T07:17:45.035807Z"
    }
   },
   "outputs": [],
   "source": [
    "res_df = pd.DataFrame(results)\n",
    "res_df.columns = ['params', \n",
    "                  'train_returns', 'train_n_days', 'train_n_short', 'train_n_long', 'train_n_changes',\n",
    "                  'test_returns', 'test_n_days', 'test_n_short', 'test_n_long', 'test_n_changes']\n",
    "res_df.set_index('params', inplace=True)\n",
    "res_df.sort_values(by='train_returns', ascending=False, inplace=True)"
   ]
  },
  {
   "cell_type": "code",
   "execution_count": 52,
   "id": "6c69f8f4",
   "metadata": {
    "ExecuteTime": {
     "end_time": "2022-07-24T07:24:43.091936Z",
     "start_time": "2022-07-24T07:24:43.048665Z"
    }
   },
   "outputs": [],
   "source": [
    "file_name = 'performances_train_test.xlsx'\n",
    "if os.path.exists(file_name):\n",
    "    mode = 'a'\n",
    "else:\n",
    "    mode = 'w'\n",
    "\n",
    "engine = \"openpyxl\"\n",
    "with pd.ExcelWriter(file_name, engine=engine, mode=mode) as writer:  \n",
    "    workBook = writer.book\n",
    "    try:\n",
    "        workBook.remove(workBook[ticker.replace('/','_')])\n",
    "    except:\n",
    "        print(\"worksheet doesn't exist\")\n",
    "    finally:\n",
    "        res_df.to_excel(writer, sheet_name=ticker.replace('/','_'), engine=engine)\n",
    "    writer.save()"
   ]
  },
  {
   "cell_type": "code",
   "execution_count": null,
   "id": "79aefb67",
   "metadata": {},
   "outputs": [],
   "source": []
  }
 ],
 "metadata": {
  "kernelspec": {
   "display_name": "Python 3 (ipykernel)",
   "language": "python",
   "name": "python3"
  },
  "language_info": {
   "codemirror_mode": {
    "name": "ipython",
    "version": 3
   },
   "file_extension": ".py",
   "mimetype": "text/x-python",
   "name": "python",
   "nbconvert_exporter": "python",
   "pygments_lexer": "ipython3",
   "version": "3.8.8"
  },
  "latex_envs": {
   "LaTeX_envs_menu_present": true,
   "autoclose": false,
   "autocomplete": true,
   "bibliofile": "biblio.bib",
   "cite_by": "apalike",
   "current_citInitial": 1,
   "eqLabelWithNumbers": true,
   "eqNumInitial": 1,
   "hotkeys": {
    "equation": "Ctrl-E",
    "itemize": "Ctrl-I"
   },
   "labels_anchors": false,
   "latex_user_defs": false,
   "report_style_numbering": false,
   "user_envs_cfg": false
  },
  "toc": {
   "base_numbering": 1,
   "nav_menu": {},
   "number_sections": true,
   "sideBar": true,
   "skip_h1_title": false,
   "title_cell": "Table of Contents",
   "title_sidebar": "Contents",
   "toc_cell": false,
   "toc_position": {},
   "toc_section_display": true,
   "toc_window_display": false
  }
 },
 "nbformat": 4,
 "nbformat_minor": 5
}
