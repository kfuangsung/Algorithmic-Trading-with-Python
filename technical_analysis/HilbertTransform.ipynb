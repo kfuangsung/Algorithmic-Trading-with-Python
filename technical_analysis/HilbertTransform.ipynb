{
 "cells": [
  {
   "cell_type": "code",
   "execution_count": 1,
   "id": "c50ce2f5",
   "metadata": {
    "ExecuteTime": {
     "end_time": "2022-07-05T21:46:13.348053Z",
     "start_time": "2022-07-05T21:46:11.948438Z"
    }
   },
   "outputs": [],
   "source": [
    "import sys \n",
    "sys.path.append('../')\n",
    "import pandas as pd \n",
    "import numpy as np \n",
    "import talib\n",
    "import sqlite3 as sql\n",
    "import matplotlib.pyplot as plt \n",
    "from backtester import * \n",
    "from fxcmtoken import my_assets"
   ]
  },
  {
   "cell_type": "code",
   "execution_count": 2,
   "id": "ae71f0d8",
   "metadata": {
    "ExecuteTime": {
     "end_time": "2022-07-05T21:46:13.355199Z",
     "start_time": "2022-07-05T21:46:13.350356Z"
    }
   },
   "outputs": [
    {
     "name": "stdout",
     "output_type": "stream",
     "text": [
      "0 EUR/USD\n",
      "1 USD/JPY\n",
      "2 GBP/USD\n",
      "3 USOil\n",
      "4 SPX500\n",
      "5 VOLX\n",
      "6 XAU/USD\n",
      "7 Bund\n",
      "8 BTC/USD\n"
     ]
    }
   ],
   "source": [
    "for i, a in enumerate(my_assets):\n",
    "    print(i, a)"
   ]
  },
  {
   "cell_type": "code",
   "execution_count": 13,
   "id": "8d805ff7",
   "metadata": {
    "ExecuteTime": {
     "end_time": "2022-07-05T22:01:11.569367Z",
     "start_time": "2022-07-05T22:00:53.600487Z"
    },
    "scrolled": false
   },
   "outputs": [
    {
     "name": "stdout",
     "output_type": "stream",
     "text": [
      "BTC/USD\n",
      "Period: 25\n",
      "-16.0144%\n",
      "Signals\n",
      "-1    5196\n",
      " 1    4717\n",
      "Name: signals, dtype: int64\n",
      "Signals change\n",
      "0.0    9657\n",
      "2.0     255\n",
      "Name: signals, dtype: int64\n",
      "--------------------------------------------------\n",
      "BTC/USD\n",
      "Period: 50\n",
      "-3.7398%\n",
      "Signals\n",
      "-1    5289\n",
      " 1    4599\n",
      "Name: signals, dtype: int64\n",
      "Signals change\n",
      "0.0    9714\n",
      "2.0     173\n",
      "Name: signals, dtype: int64\n",
      "--------------------------------------------------\n",
      "BTC/USD\n",
      "Period: 75\n",
      "-6.9288%\n",
      "Signals\n",
      "-1    5339\n",
      " 1    4524\n",
      "Name: signals, dtype: int64\n",
      "Signals change\n",
      "0.0    9727\n",
      "2.0     135\n",
      "Name: signals, dtype: int64\n",
      "--------------------------------------------------\n",
      "BTC/USD\n",
      "Period: 100\n",
      "5.5890%\n",
      "Signals\n",
      "-1    5419\n",
      " 1    4419\n",
      "Name: signals, dtype: int64\n",
      "Signals change\n",
      "0.0    9726\n",
      "2.0     111\n",
      "Name: signals, dtype: int64\n",
      "--------------------------------------------------\n",
      "BTC/USD\n",
      "Period: 125\n",
      "14.9541%\n",
      "Signals\n",
      "-1    5424\n",
      " 1    4389\n",
      "Name: signals, dtype: int64\n",
      "Signals change\n",
      "0.0    9713\n",
      "2.0      99\n",
      "Name: signals, dtype: int64\n",
      "--------------------------------------------------\n",
      "BTC/USD\n",
      "Period: 150\n",
      "-4.5163%\n",
      "Signals\n",
      "-1    5412\n",
      " 1    4376\n",
      "Name: signals, dtype: int64\n",
      "Signals change\n",
      "0.0    9686\n",
      "2.0     101\n",
      "Name: signals, dtype: int64\n",
      "--------------------------------------------------\n",
      "BTC/USD\n",
      "Period: 175\n",
      "-13.3721%\n",
      "Signals\n",
      "-1    5461\n",
      " 1    4302\n",
      "Name: signals, dtype: int64\n",
      "Signals change\n",
      "0.0    9667\n",
      "2.0      95\n",
      "Name: signals, dtype: int64\n",
      "--------------------------------------------------\n",
      "BTC/USD\n",
      "Period: 200\n",
      "-5.5811%\n",
      "Signals\n",
      "-1    5523\n",
      " 1    4215\n",
      "Name: signals, dtype: int64\n",
      "Signals change\n",
      "0.0    9660\n",
      "2.0      77\n",
      "Name: signals, dtype: int64\n",
      "--------------------------------------------------\n"
     ]
    }
   ],
   "source": [
    "num_periods =  [i for i in range(25, 201, 25)]\n",
    "\n",
    "for n_period in num_periods:\n",
    "    conn = sql.connect('../PriceData/PriceData_m5.db')\n",
    "    ticker = my_assets[8]\n",
    "    print(ticker)\n",
    "    data = pd.read_sql(f\"SELECT * FROM '{ticker}'\", conn, parse_dates=['date'], index_col=['date'])\n",
    "    for col in ['open', 'close', 'high', 'low']:\n",
    "        data[col] = data[['bid'+col, 'ask'+col]].mean(axis=1)\n",
    "    conn.close()\n",
    "    data\n",
    "\n",
    "    print(f\"Period: {n_period}\")\n",
    "\n",
    "    data['ht'] = talib.HT_TRENDLINE(data.close)\n",
    "    data['ht_ema'] = talib.EMA(data.ht, n_period)\n",
    "    data['signals'] = np.where(data.ht > data.ht_ema, 1, -1)\n",
    "\n",
    "#     data[['close', 'slope_bin']].plot(figsize=(12,6), secondary_y='slope_bin')\n",
    "#     plt.tight_layout()\n",
    "#     plt.show()\n",
    "\n",
    "    data.dropna(axis=0, inplace=True)\n",
    "\n",
    "    backtest = IterativeBacktester(data=data,\n",
    "                                   signals=data.signals,\n",
    "                                   freq='m5')\n",
    "\n",
    "    backtest.backtest(progress_bar=False)\n",
    "    # backtest.results()\n",
    "    print(f\"{backtest.return_df.loc['TotalReturn', 'Portfolio']*100:.4f}%\")\n",
    "    \n",
    "    print(\"Signals\")\n",
    "    print(backtest.signals.value_counts())\n",
    "\n",
    "    print(\"Signals change\")\n",
    "    print(backtest.signals.diff(1).dropna().apply(np.abs).value_counts())\n",
    "    \n",
    "    print(\"-\"*50)"
   ]
  },
  {
   "cell_type": "code",
   "execution_count": null,
   "id": "88d313eb",
   "metadata": {},
   "outputs": [],
   "source": []
  }
 ],
 "metadata": {
  "kernelspec": {
   "display_name": "Python 3 (ipykernel)",
   "language": "python",
   "name": "python3"
  },
  "language_info": {
   "codemirror_mode": {
    "name": "ipython",
    "version": 3
   },
   "file_extension": ".py",
   "mimetype": "text/x-python",
   "name": "python",
   "nbconvert_exporter": "python",
   "pygments_lexer": "ipython3",
   "version": "3.8.8"
  },
  "latex_envs": {
   "LaTeX_envs_menu_present": true,
   "autoclose": false,
   "autocomplete": true,
   "bibliofile": "biblio.bib",
   "cite_by": "apalike",
   "current_citInitial": 1,
   "eqLabelWithNumbers": true,
   "eqNumInitial": 1,
   "hotkeys": {
    "equation": "Ctrl-E",
    "itemize": "Ctrl-I"
   },
   "labels_anchors": false,
   "latex_user_defs": false,
   "report_style_numbering": false,
   "user_envs_cfg": false
  },
  "toc": {
   "base_numbering": 1,
   "nav_menu": {},
   "number_sections": true,
   "sideBar": true,
   "skip_h1_title": false,
   "title_cell": "Table of Contents",
   "title_sidebar": "Contents",
   "toc_cell": false,
   "toc_position": {},
   "toc_section_display": true,
   "toc_window_display": false
  }
 },
 "nbformat": 4,
 "nbformat_minor": 5
}
