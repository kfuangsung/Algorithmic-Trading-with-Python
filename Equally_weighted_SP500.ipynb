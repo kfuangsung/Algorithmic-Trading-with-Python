{
 "cells": [
  {
   "cell_type": "markdown",
   "metadata": {},
   "source": [
    "# Equally-weighted portfolio of S&P500"
   ]
  },
  {
   "cell_type": "code",
   "execution_count": 13,
   "metadata": {},
   "outputs": [],
   "source": [
    "import numpy as np \n",
    "import pandas as pd \n",
    "import requests\n",
    "from datetime import datetime\n",
    "from tqdm._tqdm_notebook import tqdm_notebook\n",
    "tqdm_notebook.pandas()"
   ]
  },
  {
   "cell_type": "code",
   "execution_count": 3,
   "metadata": {},
   "outputs": [],
   "source": [
    "# import list of s&p500 stocks\n",
    "snp_list = pd.read_csv(\"sp_500_stocks.csv\")"
   ]
  },
  {
   "cell_type": "code",
   "execution_count": 4,
   "metadata": {},
   "outputs": [
    {
     "data": {
      "text/html": [
       "<div>\n",
       "<style scoped>\n",
       "    .dataframe tbody tr th:only-of-type {\n",
       "        vertical-align: middle;\n",
       "    }\n",
       "\n",
       "    .dataframe tbody tr th {\n",
       "        vertical-align: top;\n",
       "    }\n",
       "\n",
       "    .dataframe thead th {\n",
       "        text-align: right;\n",
       "    }\n",
       "</style>\n",
       "<table border=\"1\" class=\"dataframe\">\n",
       "  <thead>\n",
       "    <tr style=\"text-align: right;\">\n",
       "      <th></th>\n",
       "      <th>Ticker</th>\n",
       "    </tr>\n",
       "  </thead>\n",
       "  <tbody>\n",
       "    <tr>\n",
       "      <th>0</th>\n",
       "      <td>A</td>\n",
       "    </tr>\n",
       "    <tr>\n",
       "      <th>1</th>\n",
       "      <td>AAL</td>\n",
       "    </tr>\n",
       "    <tr>\n",
       "      <th>2</th>\n",
       "      <td>AAP</td>\n",
       "    </tr>\n",
       "    <tr>\n",
       "      <th>3</th>\n",
       "      <td>AAPL</td>\n",
       "    </tr>\n",
       "    <tr>\n",
       "      <th>4</th>\n",
       "      <td>ABBV</td>\n",
       "    </tr>\n",
       "  </tbody>\n",
       "</table>\n",
       "</div>"
      ],
      "text/plain": [
       "  Ticker\n",
       "0      A\n",
       "1    AAL\n",
       "2    AAP\n",
       "3   AAPL\n",
       "4   ABBV"
      ]
     },
     "execution_count": 4,
     "metadata": {},
     "output_type": "execute_result"
    }
   ],
   "source": [
    "snp_list.head()"
   ]
  },
  {
   "cell_type": "code",
   "execution_count": 121,
   "metadata": {},
   "outputs": [],
   "source": [
    "# copy to new dataframe\n",
    "equal_weight = snp_list.copy()"
   ]
  },
  {
   "cell_type": "code",
   "execution_count": 122,
   "metadata": {},
   "outputs": [
    {
     "data": {
      "text/html": [
       "<div>\n",
       "<style scoped>\n",
       "    .dataframe tbody tr th:only-of-type {\n",
       "        vertical-align: middle;\n",
       "    }\n",
       "\n",
       "    .dataframe tbody tr th {\n",
       "        vertical-align: top;\n",
       "    }\n",
       "\n",
       "    .dataframe thead th {\n",
       "        text-align: right;\n",
       "    }\n",
       "</style>\n",
       "<table border=\"1\" class=\"dataframe\">\n",
       "  <thead>\n",
       "    <tr style=\"text-align: right;\">\n",
       "      <th></th>\n",
       "      <th>Ticker</th>\n",
       "    </tr>\n",
       "  </thead>\n",
       "  <tbody>\n",
       "    <tr>\n",
       "      <th>0</th>\n",
       "      <td>A</td>\n",
       "    </tr>\n",
       "    <tr>\n",
       "      <th>1</th>\n",
       "      <td>AAL</td>\n",
       "    </tr>\n",
       "    <tr>\n",
       "      <th>2</th>\n",
       "      <td>AAP</td>\n",
       "    </tr>\n",
       "    <tr>\n",
       "      <th>3</th>\n",
       "      <td>AAPL</td>\n",
       "    </tr>\n",
       "    <tr>\n",
       "      <th>4</th>\n",
       "      <td>ABBV</td>\n",
       "    </tr>\n",
       "    <tr>\n",
       "      <th>...</th>\n",
       "      <td>...</td>\n",
       "    </tr>\n",
       "    <tr>\n",
       "      <th>500</th>\n",
       "      <td>YUM</td>\n",
       "    </tr>\n",
       "    <tr>\n",
       "      <th>501</th>\n",
       "      <td>ZBH</td>\n",
       "    </tr>\n",
       "    <tr>\n",
       "      <th>502</th>\n",
       "      <td>ZBRA</td>\n",
       "    </tr>\n",
       "    <tr>\n",
       "      <th>503</th>\n",
       "      <td>ZION</td>\n",
       "    </tr>\n",
       "    <tr>\n",
       "      <th>504</th>\n",
       "      <td>ZTS</td>\n",
       "    </tr>\n",
       "  </tbody>\n",
       "</table>\n",
       "<p>505 rows × 1 columns</p>\n",
       "</div>"
      ],
      "text/plain": [
       "    Ticker\n",
       "0        A\n",
       "1      AAL\n",
       "2      AAP\n",
       "3     AAPL\n",
       "4     ABBV\n",
       "..     ...\n",
       "500    YUM\n",
       "501    ZBH\n",
       "502   ZBRA\n",
       "503   ZION\n",
       "504    ZTS\n",
       "\n",
       "[505 rows x 1 columns]"
      ]
     },
     "execution_count": 122,
     "metadata": {},
     "output_type": "execute_result"
    }
   ],
   "source": [
    "equal_weight"
   ]
  },
  {
   "cell_type": "code",
   "execution_count": 8,
   "metadata": {},
   "outputs": [],
   "source": [
    "# get api key (str)\n",
    "from secrets import IEX_CLOUD_API_TOKEN"
   ]
  },
  {
   "cell_type": "code",
   "execution_count": 123,
   "metadata": {},
   "outputs": [],
   "source": [
    "# set column names\n",
    "col_names = ['Price', 'Market Cap', 'Number of shares to buy']"
   ]
  },
  {
   "cell_type": "markdown",
   "metadata": {},
   "source": [
    "## Method 1 : call api for one symbol at a time (very slow)"
   ]
  },
  {
   "cell_type": "code",
   "execution_count": 124,
   "metadata": {},
   "outputs": [],
   "source": [
    "# allocate None to all (exept Ticker)\n",
    "equal_weight[col_names] = None"
   ]
  },
  {
   "cell_type": "code",
   "execution_count": 125,
   "metadata": {},
   "outputs": [
    {
     "data": {
      "text/html": [
       "<div>\n",
       "<style scoped>\n",
       "    .dataframe tbody tr th:only-of-type {\n",
       "        vertical-align: middle;\n",
       "    }\n",
       "\n",
       "    .dataframe tbody tr th {\n",
       "        vertical-align: top;\n",
       "    }\n",
       "\n",
       "    .dataframe thead th {\n",
       "        text-align: right;\n",
       "    }\n",
       "</style>\n",
       "<table border=\"1\" class=\"dataframe\">\n",
       "  <thead>\n",
       "    <tr style=\"text-align: right;\">\n",
       "      <th></th>\n",
       "      <th>Ticker</th>\n",
       "      <th>Price</th>\n",
       "      <th>Market Cap</th>\n",
       "      <th>Number of shares to buy</th>\n",
       "    </tr>\n",
       "  </thead>\n",
       "  <tbody>\n",
       "    <tr>\n",
       "      <th>0</th>\n",
       "      <td>A</td>\n",
       "      <td>None</td>\n",
       "      <td>None</td>\n",
       "      <td>None</td>\n",
       "    </tr>\n",
       "    <tr>\n",
       "      <th>1</th>\n",
       "      <td>AAL</td>\n",
       "      <td>None</td>\n",
       "      <td>None</td>\n",
       "      <td>None</td>\n",
       "    </tr>\n",
       "    <tr>\n",
       "      <th>2</th>\n",
       "      <td>AAP</td>\n",
       "      <td>None</td>\n",
       "      <td>None</td>\n",
       "      <td>None</td>\n",
       "    </tr>\n",
       "    <tr>\n",
       "      <th>3</th>\n",
       "      <td>AAPL</td>\n",
       "      <td>None</td>\n",
       "      <td>None</td>\n",
       "      <td>None</td>\n",
       "    </tr>\n",
       "    <tr>\n",
       "      <th>4</th>\n",
       "      <td>ABBV</td>\n",
       "      <td>None</td>\n",
       "      <td>None</td>\n",
       "      <td>None</td>\n",
       "    </tr>\n",
       "    <tr>\n",
       "      <th>...</th>\n",
       "      <td>...</td>\n",
       "      <td>...</td>\n",
       "      <td>...</td>\n",
       "      <td>...</td>\n",
       "    </tr>\n",
       "    <tr>\n",
       "      <th>500</th>\n",
       "      <td>YUM</td>\n",
       "      <td>None</td>\n",
       "      <td>None</td>\n",
       "      <td>None</td>\n",
       "    </tr>\n",
       "    <tr>\n",
       "      <th>501</th>\n",
       "      <td>ZBH</td>\n",
       "      <td>None</td>\n",
       "      <td>None</td>\n",
       "      <td>None</td>\n",
       "    </tr>\n",
       "    <tr>\n",
       "      <th>502</th>\n",
       "      <td>ZBRA</td>\n",
       "      <td>None</td>\n",
       "      <td>None</td>\n",
       "      <td>None</td>\n",
       "    </tr>\n",
       "    <tr>\n",
       "      <th>503</th>\n",
       "      <td>ZION</td>\n",
       "      <td>None</td>\n",
       "      <td>None</td>\n",
       "      <td>None</td>\n",
       "    </tr>\n",
       "    <tr>\n",
       "      <th>504</th>\n",
       "      <td>ZTS</td>\n",
       "      <td>None</td>\n",
       "      <td>None</td>\n",
       "      <td>None</td>\n",
       "    </tr>\n",
       "  </tbody>\n",
       "</table>\n",
       "<p>505 rows × 4 columns</p>\n",
       "</div>"
      ],
      "text/plain": [
       "    Ticker Price Market Cap Number of shares to buy\n",
       "0        A  None       None                    None\n",
       "1      AAL  None       None                    None\n",
       "2      AAP  None       None                    None\n",
       "3     AAPL  None       None                    None\n",
       "4     ABBV  None       None                    None\n",
       "..     ...   ...        ...                     ...\n",
       "500    YUM  None       None                    None\n",
       "501    ZBH  None       None                    None\n",
       "502   ZBRA  None       None                    None\n",
       "503   ZION  None       None                    None\n",
       "504    ZTS  None       None                    None\n",
       "\n",
       "[505 rows x 4 columns]"
      ]
     },
     "execution_count": 125,
     "metadata": {},
     "output_type": "execute_result"
    }
   ],
   "source": [
    "equal_weight"
   ]
  },
  {
   "cell_type": "code",
   "execution_count": 126,
   "metadata": {},
   "outputs": [],
   "source": [
    "def api_price(symbol):\n",
    "    \"\"\"\n",
    "        get 'latestPrice' for one symbol\n",
    "    \"\"\"\n",
    "    api_url = f\"https://sandbox.iexapis.com/stable/stock/{symbol}/quote/latestPrice?token={IEX_CLOUD_API_TOKEN}\"\n",
    "    return requests.get(api_url).json()"
   ]
  },
  {
   "cell_type": "code",
   "execution_count": 127,
   "metadata": {},
   "outputs": [],
   "source": [
    "def api_mkt_cap(symbol):\n",
    "    \"\"\"\n",
    "        get 'marketCap' for one symbol\n",
    "    \"\"\"\n",
    "    api_url = f\"https://sandbox.iexapis.com/stable/stock/{symbol}/quote/marketCap?token={IEX_CLOUD_API_TOKEN}\"\n",
    "    return requests.get(api_url).json()"
   ]
  },
  {
   "cell_type": "code",
   "execution_count": 128,
   "metadata": {},
   "outputs": [],
   "source": [
    "# just for looping convenient\n",
    "stock_attribs = {\n",
    "    'Price': api_price,\n",
    "    'Market Cap': api_mkt_cap\n",
    "}"
   ]
  },
  {
   "cell_type": "code",
   "execution_count": 144,
   "metadata": {
    "scrolled": true
   },
   "outputs": [
    {
     "name": "stderr",
     "output_type": "stream",
     "text": [
      "C:\\Users\\kfuan\\Anaconda3\\envs\\dl_fastai\\lib\\site-packages\\tqdm\\std.py:697: FutureWarning: The Panel class is removed from pandas. Accessing it from the top-level namespace will also be removed in the next version\n",
      "  from pandas import Panel\n"
     ]
    },
    {
     "data": {
      "application/vnd.jupyter.widget-view+json": {
       "model_id": "921e80a802ed44b9b824e518aed7e6ea",
       "version_major": 2,
       "version_minor": 0
      },
      "text/plain": [
       "HBox(children=(HTML(value=''), FloatProgress(value=0.0, max=2.0), HTML(value='')))"
      ]
     },
     "metadata": {},
     "output_type": "display_data"
    },
    {
     "data": {
      "application/vnd.jupyter.widget-view+json": {
       "model_id": "f66d32e853c04ea28a73fbc057d43eed",
       "version_major": 2,
       "version_minor": 0
      },
      "text/plain": [
       "HBox(children=(HTML(value=''), FloatProgress(value=0.0, max=505.0), HTML(value='')))"
      ]
     },
     "metadata": {},
     "output_type": "display_data"
    },
    {
     "name": "stdout",
     "output_type": "stream",
     "text": [
      "\n"
     ]
    },
    {
     "data": {
      "application/vnd.jupyter.widget-view+json": {
       "model_id": "61e2a9fe3c8144ca852804e19cd942cf",
       "version_major": 2,
       "version_minor": 0
      },
      "text/plain": [
       "HBox(children=(HTML(value=''), FloatProgress(value=0.0, max=505.0), HTML(value='')))"
      ]
     },
     "metadata": {},
     "output_type": "display_data"
    },
    {
     "name": "stdout",
     "output_type": "stream",
     "text": [
      "\n",
      "\n",
      "0:17:20.673721\n"
     ]
    }
   ],
   "source": [
    "# timing\n",
    "d0 = datetime.now()\n",
    "\n",
    "for key in tqdm_notebook(stock_attribs.keys()):\n",
    "    # progress_apply ==> like pandas.apply but printing progress bar\n",
    "    equal_weight[key] = equal_weight['Ticker'].progress_apply(stock_attribs[key])\n",
    "\n",
    "# print time elapsed\n",
    "print(datetime.now() - d0)"
   ]
  },
  {
   "cell_type": "markdown",
   "metadata": {},
   "source": [
    "### 17 mins to call all symbols !!!!!!"
   ]
  },
  {
   "cell_type": "code",
   "execution_count": 145,
   "metadata": {},
   "outputs": [
    {
     "data": {
      "text/html": [
       "<div>\n",
       "<style scoped>\n",
       "    .dataframe tbody tr th:only-of-type {\n",
       "        vertical-align: middle;\n",
       "    }\n",
       "\n",
       "    .dataframe tbody tr th {\n",
       "        vertical-align: top;\n",
       "    }\n",
       "\n",
       "    .dataframe thead th {\n",
       "        text-align: right;\n",
       "    }\n",
       "</style>\n",
       "<table border=\"1\" class=\"dataframe\">\n",
       "  <thead>\n",
       "    <tr style=\"text-align: right;\">\n",
       "      <th></th>\n",
       "      <th>Ticker</th>\n",
       "      <th>Price</th>\n",
       "      <th>Market Cap</th>\n",
       "      <th>Number of shares to buy</th>\n",
       "    </tr>\n",
       "  </thead>\n",
       "  <tbody>\n",
       "    <tr>\n",
       "      <th>0</th>\n",
       "      <td>A</td>\n",
       "      <td>125.85</td>\n",
       "      <td>37774558980</td>\n",
       "      <td>None</td>\n",
       "    </tr>\n",
       "    <tr>\n",
       "      <th>1</th>\n",
       "      <td>AAL</td>\n",
       "      <td>18.10</td>\n",
       "      <td>11060560341</td>\n",
       "      <td>None</td>\n",
       "    </tr>\n",
       "    <tr>\n",
       "      <th>2</th>\n",
       "      <td>AAP</td>\n",
       "      <td>161.60</td>\n",
       "      <td>10580504976</td>\n",
       "      <td>None</td>\n",
       "    </tr>\n",
       "    <tr>\n",
       "      <th>3</th>\n",
       "      <td>AAPL</td>\n",
       "      <td>137.51</td>\n",
       "      <td>2353649615704</td>\n",
       "      <td>None</td>\n",
       "    </tr>\n",
       "    <tr>\n",
       "      <th>4</th>\n",
       "      <td>ABBV</td>\n",
       "      <td>111.11</td>\n",
       "      <td>193486010360</td>\n",
       "      <td>None</td>\n",
       "    </tr>\n",
       "    <tr>\n",
       "      <th>5</th>\n",
       "      <td>ABC</td>\n",
       "      <td>106.56</td>\n",
       "      <td>22277206566</td>\n",
       "      <td>None</td>\n",
       "    </tr>\n",
       "    <tr>\n",
       "      <th>6</th>\n",
       "      <td>ABMD</td>\n",
       "      <td>333.52</td>\n",
       "      <td>14760553748</td>\n",
       "      <td>None</td>\n",
       "    </tr>\n",
       "    <tr>\n",
       "      <th>7</th>\n",
       "      <td>ABT</td>\n",
       "      <td>122.57</td>\n",
       "      <td>214681304258</td>\n",
       "      <td>None</td>\n",
       "    </tr>\n",
       "    <tr>\n",
       "      <th>8</th>\n",
       "      <td>ACN</td>\n",
       "      <td>255.78</td>\n",
       "      <td>172342773345</td>\n",
       "      <td>None</td>\n",
       "    </tr>\n",
       "    <tr>\n",
       "      <th>9</th>\n",
       "      <td>ADBE</td>\n",
       "      <td>502.98</td>\n",
       "      <td>234617382882</td>\n",
       "      <td>None</td>\n",
       "    </tr>\n",
       "    <tr>\n",
       "      <th>10</th>\n",
       "      <td>ADI</td>\n",
       "      <td>148.16</td>\n",
       "      <td>57159549284</td>\n",
       "      <td>None</td>\n",
       "    </tr>\n",
       "    <tr>\n",
       "      <th>11</th>\n",
       "      <td>ADM</td>\n",
       "      <td>53.89</td>\n",
       "      <td>29032537667</td>\n",
       "      <td>None</td>\n",
       "    </tr>\n",
       "    <tr>\n",
       "      <th>12</th>\n",
       "      <td>ADP</td>\n",
       "      <td>170.95</td>\n",
       "      <td>74686660755</td>\n",
       "      <td>None</td>\n",
       "    </tr>\n",
       "    <tr>\n",
       "      <th>13</th>\n",
       "      <td>ADSK</td>\n",
       "      <td>298.51</td>\n",
       "      <td>67571276029</td>\n",
       "      <td>None</td>\n",
       "    </tr>\n",
       "    <tr>\n",
       "      <th>14</th>\n",
       "      <td>AEE</td>\n",
       "      <td>74.12</td>\n",
       "      <td>18664557827</td>\n",
       "      <td>None</td>\n",
       "    </tr>\n",
       "  </tbody>\n",
       "</table>\n",
       "</div>"
      ],
      "text/plain": [
       "   Ticker   Price     Market Cap Number of shares to buy\n",
       "0       A  125.85    37774558980                    None\n",
       "1     AAL   18.10    11060560341                    None\n",
       "2     AAP  161.60    10580504976                    None\n",
       "3    AAPL  137.51  2353649615704                    None\n",
       "4    ABBV  111.11   193486010360                    None\n",
       "5     ABC  106.56    22277206566                    None\n",
       "6    ABMD  333.52    14760553748                    None\n",
       "7     ABT  122.57   214681304258                    None\n",
       "8     ACN  255.78   172342773345                    None\n",
       "9    ADBE  502.98   234617382882                    None\n",
       "10    ADI  148.16    57159549284                    None\n",
       "11    ADM   53.89    29032537667                    None\n",
       "12    ADP  170.95    74686660755                    None\n",
       "13   ADSK  298.51    67571276029                    None\n",
       "14    AEE   74.12    18664557827                    None"
      ]
     },
     "execution_count": 145,
     "metadata": {},
     "output_type": "execute_result"
    }
   ],
   "source": [
    "equal_weight.head(15)"
   ]
  },
  {
   "cell_type": "markdown",
   "metadata": {},
   "source": [
    "## Method 2 : use batch api (maximum call 100 symbols at a time) (a lot faster)"
   ]
  },
  {
   "cell_type": "code",
   "execution_count": 152,
   "metadata": {},
   "outputs": [],
   "source": [
    "def chunks(input_list, n):\n",
    "    \"\"\"\n",
    "        spilt data into chunks of length n\n",
    "    \"\"\"\n",
    "    for i in range(0, len(input_list), n):\n",
    "        yield input_list[i: i+n]"
   ]
  },
  {
   "cell_type": "code",
   "execution_count": 287,
   "metadata": {},
   "outputs": [],
   "source": [
    "def batch_api(batch_symbol):\n",
    "    \"\"\"\n",
    "        calling api (maximum of 100 symbols)\n",
    "        'latestPrice' , 'marketCap'\n",
    "    \"\"\"\n",
    "    api_url = f'https://sandbox.iexapis.com/stable/stock/market/batch/?types=quote&filter=latestPrice,marketCap&symbols={batch_symbol}&token={IEX_CLOUD_API_TOKEN}'\n",
    "    return requests.get(api_url).json()"
   ]
  },
  {
   "cell_type": "code",
   "execution_count": 261,
   "metadata": {},
   "outputs": [],
   "source": [
    "def get_price(x):\n",
    "    \"\"\"\n",
    "        easily extract lastestPrice from .json()\n",
    "    \"\"\"\n",
    "    return x['quote']['latestPrice']\n",
    "\n",
    "def get_mkt_cap(x):\n",
    "    \"\"\"\n",
    "        easily extract marketCap from .json()\n",
    "    \"\"\"\n",
    "    return x['quote']['marketCap']"
   ]
  },
  {
   "cell_type": "code",
   "execution_count": 306,
   "metadata": {},
   "outputs": [
    {
     "data": {
      "text/plain": [
       "{'YUM': {'quote': {'latestPrice': 108.52, 'marketCap': 32308202931}},\n",
       " 'ZBH': {'quote': {'latestPrice': 162.25, 'marketCap': 34113685223}},\n",
       " 'ZBRA': {'quote': {'latestPrice': 422.93, 'marketCap': 21641109806}},\n",
       " 'ZION': {'quote': {'latestPrice': 48.23, 'marketCap': 7840984298}},\n",
       " 'ZTS': {'quote': {'latestPrice': 157.58, 'marketCap': 73843502568}}}"
      ]
     },
     "execution_count": 306,
     "metadata": {},
     "output_type": "execute_result"
    }
   ],
   "source": [
    "data"
   ]
  },
  {
   "cell_type": "code",
   "execution_count": 305,
   "metadata": {},
   "outputs": [
    {
     "data": {
      "text/plain": [
       "array([{'quote': {'latestPrice': 108.52, 'marketCap': 32308202931}},\n",
       "       {'quote': {'latestPrice': 162.25, 'marketCap': 34113685223}},\n",
       "       {'quote': {'latestPrice': 422.93, 'marketCap': 21641109806}},\n",
       "       {'quote': {'latestPrice': 48.23, 'marketCap': 7840984298}},\n",
       "       {'quote': {'latestPrice': 157.58, 'marketCap': 73843502568}}],\n",
       "      dtype=object)"
      ]
     },
     "execution_count": 305,
     "metadata": {},
     "output_type": "execute_result"
    }
   ],
   "source": [
    "data_array"
   ]
  },
  {
   "cell_type": "code",
   "execution_count": 263,
   "metadata": {},
   "outputs": [],
   "source": [
    "# vectorize np.array to return all values at once\n",
    "vec_price = np.vectorize(get_price)\n",
    "vec_mkt_cap = np.vectorize(get_mkt_cap)"
   ]
  },
  {
   "cell_type": "code",
   "execution_count": 290,
   "metadata": {},
   "outputs": [
    {
     "name": "stderr",
     "output_type": "stream",
     "text": [
      "<ipython-input-290-3d7619e73af4>:4: VisibleDeprecationWarning: Creating an ndarray from ragged nested sequences (which is a list-or-tuple of lists-or-tuples-or ndarrays with different lengths or shapes) is deprecated. If you meant to do this, you must specify 'dtype=object' when creating the ndarray\n",
      "  stock_batches = np.array(list(chunks(batch_equal_weight['Ticker'].values, batch_size)))\n"
     ]
    },
    {
     "data": {
      "application/vnd.jupyter.widget-view+json": {
       "model_id": "54ac7ba9bc59450bab5d4e1a77f7a38c",
       "version_major": 2,
       "version_minor": 0
      },
      "text/plain": [
       "HBox(children=(HTML(value=''), FloatProgress(value=0.0, max=6.0), HTML(value='')))"
      ]
     },
     "metadata": {},
     "output_type": "display_data"
    },
    {
     "name": "stdout",
     "output_type": "stream",
     "text": [
      "\n"
     ]
    },
    {
     "data": {
      "application/vnd.jupyter.widget-view+json": {
       "model_id": "a8428c5cdb2948a5be6b65598823ad2a",
       "version_major": 2,
       "version_minor": 0
      },
      "text/plain": [
       "HBox(children=(HTML(value=''), FloatProgress(value=0.0, max=6.0), HTML(value='')))"
      ]
     },
     "metadata": {},
     "output_type": "display_data"
    },
    {
     "name": "stdout",
     "output_type": "stream",
     "text": [
      "\n",
      "0:00:06.287925\n"
     ]
    }
   ],
   "source": [
    "# timing\n",
    "d0 = datetime.now()\n",
    "\n",
    "batch_size = 100\n",
    "#chunks of symbols\n",
    "stock_batches = np.array(list(chunks(batch_equal_weight['Ticker'].values, batch_size)))\n",
    "\n",
    "batch_strings = []\n",
    "# transform each chunks into one string\n",
    "for i in tqdm_notebook(range(0, len(stock_batches))):\n",
    "    batch_strings.append(','.join(stock_batches[i]))\n",
    "\n",
    "start = 0\n",
    "for batch in tqdm_notebook(batch_strings):\n",
    "    # get api data\n",
    "    data = batch_api(batch)\n",
    "    # get dictvalues ==> into list ==> into numpy.array\n",
    "    data_array = np.array(list(data.values()))\n",
    "    \n",
    "    # apply vectorize function to numpy.array\n",
    "    prices = vec_price(data_array)\n",
    "    mkt_caps = vec_mkt_cap(data_array)\n",
    "    \n",
    "    # add data to dataframe (100 at a time, execpt last batch)\n",
    "    batch_equal_weight['Price'][start: start + len(data_array)] = prices\n",
    "    batch_equal_weight['Market Cap'][start: start + len(data_array)] = mkt_caps\n",
    "    \n",
    "    # shifting starting row each time\n",
    "    start += len(data_array)\n",
    "\n",
    "# print time elapsed\n",
    "print(datetime.now() - d0)"
   ]
  },
  {
   "cell_type": "markdown",
   "metadata": {},
   "source": [
    "### 6 secs lmao !!!!!"
   ]
  },
  {
   "cell_type": "code",
   "execution_count": 291,
   "metadata": {},
   "outputs": [
    {
     "data": {
      "text/html": [
       "<div>\n",
       "<style scoped>\n",
       "    .dataframe tbody tr th:only-of-type {\n",
       "        vertical-align: middle;\n",
       "    }\n",
       "\n",
       "    .dataframe tbody tr th {\n",
       "        vertical-align: top;\n",
       "    }\n",
       "\n",
       "    .dataframe thead th {\n",
       "        text-align: right;\n",
       "    }\n",
       "</style>\n",
       "<table border=\"1\" class=\"dataframe\">\n",
       "  <thead>\n",
       "    <tr style=\"text-align: right;\">\n",
       "      <th></th>\n",
       "      <th>Ticker</th>\n",
       "      <th>Price</th>\n",
       "      <th>Market Cap</th>\n",
       "      <th>Number of shares to buy</th>\n",
       "    </tr>\n",
       "  </thead>\n",
       "  <tbody>\n",
       "    <tr>\n",
       "      <th>0</th>\n",
       "      <td>A</td>\n",
       "      <td>125.75</td>\n",
       "      <td>37517953803</td>\n",
       "      <td>None</td>\n",
       "    </tr>\n",
       "    <tr>\n",
       "      <th>1</th>\n",
       "      <td>AAL</td>\n",
       "      <td>18.1</td>\n",
       "      <td>11113829497</td>\n",
       "      <td>None</td>\n",
       "    </tr>\n",
       "    <tr>\n",
       "      <th>2</th>\n",
       "      <td>AAP</td>\n",
       "      <td>156.25</td>\n",
       "      <td>10711987136</td>\n",
       "      <td>None</td>\n",
       "    </tr>\n",
       "    <tr>\n",
       "      <th>3</th>\n",
       "      <td>AAPL</td>\n",
       "      <td>136.2</td>\n",
       "      <td>2306634914794</td>\n",
       "      <td>None</td>\n",
       "    </tr>\n",
       "    <tr>\n",
       "      <th>4</th>\n",
       "      <td>ABBV</td>\n",
       "      <td>109.84</td>\n",
       "      <td>197725190496</td>\n",
       "      <td>None</td>\n",
       "    </tr>\n",
       "    <tr>\n",
       "      <th>...</th>\n",
       "      <td>...</td>\n",
       "      <td>...</td>\n",
       "      <td>...</td>\n",
       "      <td>...</td>\n",
       "    </tr>\n",
       "    <tr>\n",
       "      <th>500</th>\n",
       "      <td>YUM</td>\n",
       "      <td>108.52</td>\n",
       "      <td>32308202931</td>\n",
       "      <td>None</td>\n",
       "    </tr>\n",
       "    <tr>\n",
       "      <th>501</th>\n",
       "      <td>ZBH</td>\n",
       "      <td>162.25</td>\n",
       "      <td>34113685223</td>\n",
       "      <td>None</td>\n",
       "    </tr>\n",
       "    <tr>\n",
       "      <th>502</th>\n",
       "      <td>ZBRA</td>\n",
       "      <td>422.93</td>\n",
       "      <td>21641109806</td>\n",
       "      <td>None</td>\n",
       "    </tr>\n",
       "    <tr>\n",
       "      <th>503</th>\n",
       "      <td>ZION</td>\n",
       "      <td>48.23</td>\n",
       "      <td>7840984298</td>\n",
       "      <td>None</td>\n",
       "    </tr>\n",
       "    <tr>\n",
       "      <th>504</th>\n",
       "      <td>ZTS</td>\n",
       "      <td>157.58</td>\n",
       "      <td>73843502568</td>\n",
       "      <td>None</td>\n",
       "    </tr>\n",
       "  </tbody>\n",
       "</table>\n",
       "<p>505 rows × 4 columns</p>\n",
       "</div>"
      ],
      "text/plain": [
       "    Ticker   Price     Market Cap Number of shares to buy\n",
       "0        A  125.75    37517953803                    None\n",
       "1      AAL    18.1    11113829497                    None\n",
       "2      AAP  156.25    10711987136                    None\n",
       "3     AAPL   136.2  2306634914794                    None\n",
       "4     ABBV  109.84   197725190496                    None\n",
       "..     ...     ...            ...                     ...\n",
       "500    YUM  108.52    32308202931                    None\n",
       "501    ZBH  162.25    34113685223                    None\n",
       "502   ZBRA  422.93    21641109806                    None\n",
       "503   ZION   48.23     7840984298                    None\n",
       "504    ZTS  157.58    73843502568                    None\n",
       "\n",
       "[505 rows x 4 columns]"
      ]
     },
     "execution_count": 291,
     "metadata": {},
     "output_type": "execute_result"
    }
   ],
   "source": [
    "batch_equal_weight"
   ]
  },
  {
   "cell_type": "code",
   "execution_count": 302,
   "metadata": {},
   "outputs": [
    {
     "name": "stdout",
     "output_type": "stream",
     "text": [
      "Enter value of your portfolio: 10000000\n"
     ]
    },
    {
     "data": {
      "text/html": [
       "<div>\n",
       "<style scoped>\n",
       "    .dataframe tbody tr th:only-of-type {\n",
       "        vertical-align: middle;\n",
       "    }\n",
       "\n",
       "    .dataframe tbody tr th {\n",
       "        vertical-align: top;\n",
       "    }\n",
       "\n",
       "    .dataframe thead th {\n",
       "        text-align: right;\n",
       "    }\n",
       "</style>\n",
       "<table border=\"1\" class=\"dataframe\">\n",
       "  <thead>\n",
       "    <tr style=\"text-align: right;\">\n",
       "      <th></th>\n",
       "      <th>Ticker</th>\n",
       "      <th>Price</th>\n",
       "      <th>Market Cap</th>\n",
       "      <th>Number of shares to buy</th>\n",
       "    </tr>\n",
       "  </thead>\n",
       "  <tbody>\n",
       "    <tr>\n",
       "      <th>0</th>\n",
       "      <td>A</td>\n",
       "      <td>125.75</td>\n",
       "      <td>37517953803</td>\n",
       "      <td>157</td>\n",
       "    </tr>\n",
       "    <tr>\n",
       "      <th>1</th>\n",
       "      <td>AAL</td>\n",
       "      <td>18.1</td>\n",
       "      <td>11113829497</td>\n",
       "      <td>1094</td>\n",
       "    </tr>\n",
       "    <tr>\n",
       "      <th>2</th>\n",
       "      <td>AAP</td>\n",
       "      <td>156.25</td>\n",
       "      <td>10711987136</td>\n",
       "      <td>126</td>\n",
       "    </tr>\n",
       "    <tr>\n",
       "      <th>3</th>\n",
       "      <td>AAPL</td>\n",
       "      <td>136.2</td>\n",
       "      <td>2306634914794</td>\n",
       "      <td>145</td>\n",
       "    </tr>\n",
       "    <tr>\n",
       "      <th>4</th>\n",
       "      <td>ABBV</td>\n",
       "      <td>109.84</td>\n",
       "      <td>197725190496</td>\n",
       "      <td>180</td>\n",
       "    </tr>\n",
       "  </tbody>\n",
       "</table>\n",
       "</div>"
      ],
      "text/plain": [
       "  Ticker   Price     Market Cap Number of shares to buy\n",
       "0      A  125.75    37517953803                     157\n",
       "1    AAL    18.1    11113829497                    1094\n",
       "2    AAP  156.25    10711987136                     126\n",
       "3   AAPL   136.2  2306634914794                     145\n",
       "4   ABBV  109.84   197725190496                     180"
      ]
     },
     "metadata": {},
     "output_type": "display_data"
    },
    {
     "data": {
      "text/html": [
       "<div>\n",
       "<style scoped>\n",
       "    .dataframe tbody tr th:only-of-type {\n",
       "        vertical-align: middle;\n",
       "    }\n",
       "\n",
       "    .dataframe tbody tr th {\n",
       "        vertical-align: top;\n",
       "    }\n",
       "\n",
       "    .dataframe thead th {\n",
       "        text-align: right;\n",
       "    }\n",
       "</style>\n",
       "<table border=\"1\" class=\"dataframe\">\n",
       "  <thead>\n",
       "    <tr style=\"text-align: right;\">\n",
       "      <th></th>\n",
       "      <th>Ticker</th>\n",
       "      <th>Price</th>\n",
       "      <th>Market Cap</th>\n",
       "      <th>Number of shares to buy</th>\n",
       "    </tr>\n",
       "  </thead>\n",
       "  <tbody>\n",
       "    <tr>\n",
       "      <th>500</th>\n",
       "      <td>YUM</td>\n",
       "      <td>108.52</td>\n",
       "      <td>32308202931</td>\n",
       "      <td>182</td>\n",
       "    </tr>\n",
       "    <tr>\n",
       "      <th>501</th>\n",
       "      <td>ZBH</td>\n",
       "      <td>162.25</td>\n",
       "      <td>34113685223</td>\n",
       "      <td>122</td>\n",
       "    </tr>\n",
       "    <tr>\n",
       "      <th>502</th>\n",
       "      <td>ZBRA</td>\n",
       "      <td>422.93</td>\n",
       "      <td>21641109806</td>\n",
       "      <td>46</td>\n",
       "    </tr>\n",
       "    <tr>\n",
       "      <th>503</th>\n",
       "      <td>ZION</td>\n",
       "      <td>48.23</td>\n",
       "      <td>7840984298</td>\n",
       "      <td>410</td>\n",
       "    </tr>\n",
       "    <tr>\n",
       "      <th>504</th>\n",
       "      <td>ZTS</td>\n",
       "      <td>157.58</td>\n",
       "      <td>73843502568</td>\n",
       "      <td>125</td>\n",
       "    </tr>\n",
       "  </tbody>\n",
       "</table>\n",
       "</div>"
      ],
      "text/plain": [
       "    Ticker   Price   Market Cap Number of shares to buy\n",
       "500    YUM  108.52  32308202931                     182\n",
       "501    ZBH  162.25  34113685223                     122\n",
       "502   ZBRA  422.93  21641109806                      46\n",
       "503   ZION   48.23   7840984298                     410\n",
       "504    ZTS  157.58  73843502568                     125"
      ]
     },
     "metadata": {},
     "output_type": "display_data"
    }
   ],
   "source": [
    "# asking user to input size of portfolio\n",
    "while True:\n",
    "    try:\n",
    "        portfolio_size = float(input(\"Enter value of your portfolio: \"))\n",
    "        break\n",
    "    except:\n",
    "        print('Please enter the valid value.')\n",
    "        continue\n",
    "        \n",
    "# equal-weighted ==> position size = portfolio size / number of assets\n",
    "position_size = portfolio_size / batch_equal_weight.shape[0]\n",
    "# number of each stock ==> position size / price\n",
    "batch_equal_weight['Number of shares to buy'] = np.floor(position_size / batch_equal_weight['Price'])\n",
    "\n",
    "display(batch_equal_weight.head())\n",
    "display(batch_equal_weight.tail())"
   ]
  },
  {
   "cell_type": "code",
   "execution_count": 304,
   "metadata": {},
   "outputs": [],
   "source": [
    "# save file to excel\n",
    "batch_equal_weight.to_excel('equal weighted S&P500.xlsx',\n",
    "                            sheet_name='Equal Weighted S&P500',\n",
    "                            index=False)"
   ]
  }
 ],
 "metadata": {
  "kernelspec": {
   "display_name": "Python 3",
   "language": "python",
   "name": "python3"
  },
  "language_info": {
   "codemirror_mode": {
    "name": "ipython",
    "version": 3
   },
   "file_extension": ".py",
   "mimetype": "text/x-python",
   "name": "python",
   "nbconvert_exporter": "python",
   "pygments_lexer": "ipython3",
   "version": "3.8.5"
  }
 },
 "nbformat": 4,
 "nbformat_minor": 4
}
